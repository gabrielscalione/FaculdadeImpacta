{
  "nbformat": 4,
  "nbformat_minor": 0,
  "metadata": {
    "colab": {
      "provenance": [],
      "authorship_tag": "ABX9TyMPFwZCKBRjkTwW4Qa240aL",
      "include_colab_link": true
    },
    "kernelspec": {
      "name": "python3",
      "display_name": "Python 3"
    },
    "language_info": {
      "name": "python"
    }
  },
  "cells": [
    {
      "cell_type": "markdown",
      "metadata": {
        "id": "view-in-github",
        "colab_type": "text"
      },
      "source": [
        "<a href=\"https://colab.research.google.com/github/gabrielscalione/FaculdadeImpacta/blob/main/FCAV_DA_T_01_Aula_Python_02_ipynb.ipynb\" target=\"_parent\"><img src=\"https://colab.research.google.com/assets/colab-badge.svg\" alt=\"Open In Colab\"/></a>"
      ]
    },
    {
      "cell_type": "markdown",
      "source": [
        "#Aula02"
      ],
      "metadata": {
        "id": "iOpCGOIf_6dG"
      }
    },
    {
      "cell_type": "code",
      "execution_count": 1,
      "metadata": {
        "colab": {
          "base_uri": "https://localhost:8080/"
        },
        "id": "Qx8x_MGO8MC2",
        "outputId": "54e1eaea-837a-4c9f-b56f-3e4589f8dbe1"
      },
      "outputs": [
        {
          "output_type": "stream",
          "name": "stdout",
          "text": [
            "Help on built-in function round in module builtins:\n",
            "\n",
            "round(number, ndigits=None)\n",
            "    Round a number to a given precision in decimal digits.\n",
            "    \n",
            "    The return value is an integer if ndigits is omitted or None.  Otherwise\n",
            "    the return value has the same type as the number.  ndigits may be negative.\n",
            "\n"
          ]
        }
      ],
      "source": [
        "help(round)"
      ]
    },
    {
      "cell_type": "code",
      "source": [
        "print('teste', end='') #end por padrão pula linha, colocando um espaço ele não vai pular linha\n",
        "print(' de texto')\n",
        "print('teste') \n",
        "print(' de texto')"
      ],
      "metadata": {
        "colab": {
          "base_uri": "https://localhost:8080/"
        },
        "id": "NxQuKSwpAkod",
        "outputId": "3fe91623-4bfc-450c-d608-94ac8a234fd6"
      },
      "execution_count": 6,
      "outputs": [
        {
          "output_type": "stream",
          "name": "stdout",
          "text": [
            "teste de texto\n",
            "teste\n",
            " de texto\n"
          ]
        }
      ]
    },
    {
      "cell_type": "markdown",
      "source": [
        "#Criando Funções"
      ],
      "metadata": {
        "id": "8uWFDuWNAFs7"
      }
    },
    {
      "cell_type": "code",
      "source": [
        "def media(x,y,z):\n",
        "  soma = x + y + z\n",
        "  print(soma/3)\n",
        "  "
      ],
      "metadata": {
        "id": "EBnwNiYfAJbs"
      },
      "execution_count": 2,
      "outputs": []
    },
    {
      "cell_type": "code",
      "source": [
        "media(4,5,6)"
      ],
      "metadata": {
        "colab": {
          "base_uri": "https://localhost:8080/"
        },
        "id": "EO8qEQo1Ae0m",
        "outputId": "402ab541-b372-42eb-bb4f-c772b22e27f1"
      },
      "execution_count": 3,
      "outputs": [
        {
          "output_type": "stream",
          "name": "stdout",
          "text": [
            "5.0\n"
          ]
        }
      ]
    },
    {
      "cell_type": "markdown",
      "source": [
        "#Função Lambda"
      ],
      "metadata": {
        "id": "aQipgjx4Bvi9"
      }
    },
    {
      "cell_type": "code",
      "source": [
        "def multiplicar_numero(x, y=2):\n",
        "  print(x*y)"
      ],
      "metadata": {
        "id": "o_ryUv38Byz0"
      },
      "execution_count": 8,
      "outputs": []
    },
    {
      "cell_type": "code",
      "source": [
        "multiplicar_numero_2 = lambda x,y=2: x*y"
      ],
      "metadata": {
        "id": "18facP6FB7Wf"
      },
      "execution_count": 11,
      "outputs": []
    },
    {
      "cell_type": "code",
      "source": [
        "multiplicar_numero(5,10)"
      ],
      "metadata": {
        "colab": {
          "base_uri": "https://localhost:8080/"
        },
        "id": "Ym05OSPvCG88",
        "outputId": "6b4a4575-5ddc-4b0d-bca3-25c12f09d8ca"
      },
      "execution_count": 10,
      "outputs": [
        {
          "output_type": "stream",
          "name": "stdout",
          "text": [
            "50\n"
          ]
        }
      ]
    },
    {
      "cell_type": "code",
      "source": [
        "multiplicar_numero_2 (5,10)"
      ],
      "metadata": {
        "colab": {
          "base_uri": "https://localhost:8080/"
        },
        "id": "TbB3aQEYCNYk",
        "outputId": "de1dde78-fe98-42c9-cfdc-45778d807826"
      },
      "execution_count": 12,
      "outputs": [
        {
          "output_type": "execute_result",
          "data": {
            "text/plain": [
              "50"
            ]
          },
          "metadata": {},
          "execution_count": 12
        }
      ]
    },
    {
      "cell_type": "markdown",
      "source": [
        "#Lista"
      ],
      "metadata": {
        "id": "W6OuC5UoNF7g"
      }
    },
    {
      "cell_type": "markdown",
      "source": [
        "Exercício 01) Dada qualquer lista numerica, crie uma função que traga o valor medio dos itens da lista\n"
      ],
      "metadata": {
        "id": "uihrwmqRPOiz"
      }
    },
    {
      "cell_type": "code",
      "source": [
        "\n",
        "lista = [1,2,3,4,5,6,7,9]\n",
        "print(lista)\n",
        "\n",
        "def media_lista(lista):\n",
        "  media = sum(lista)/len(lista)\n",
        "  print(media)"
      ],
      "metadata": {
        "colab": {
          "base_uri": "https://localhost:8080/"
        },
        "id": "SHz9stu2NFcs",
        "outputId": "20d3db0f-80ab-4154-dc1a-5ca48fe7b16d"
      },
      "execution_count": 17,
      "outputs": [
        {
          "output_type": "stream",
          "name": "stdout",
          "text": [
            "[1, 2, 3, 4, 5, 6, 7, 9]\n"
          ]
        }
      ]
    },
    {
      "cell_type": "code",
      "source": [
        "print(sum(lista)/len(lista))\n",
        "\n",
        "media_lista(lista)\n"
      ],
      "metadata": {
        "colab": {
          "base_uri": "https://localhost:8080/"
        },
        "id": "HC8XBoBtOrAH",
        "outputId": "cea74993-1ffb-4080-fcbf-360c0728b1c8"
      },
      "execution_count": 18,
      "outputs": [
        {
          "output_type": "stream",
          "name": "stdout",
          "text": [
            "4.625\n",
            "4.625\n"
          ]
        }
      ]
    },
    {
      "cell_type": "markdown",
      "source": [
        "Exercicios 2) Crie uma função que retorne a mediana de uma lista numerica"
      ],
      "metadata": {
        "id": "12XekIoEPKKo"
      }
    },
    {
      "cell_type": "code",
      "source": [
        "lista_num = [5,4,2,8,3,6,8,9,4,7,8,3]\n",
        "print(lista_num)"
      ],
      "metadata": {
        "colab": {
          "base_uri": "https://localhost:8080/"
        },
        "id": "k4jG_xNtPJ6d",
        "outputId": "331ddbef-9aa9-431d-a144-dda9768e6174"
      },
      "execution_count": 38,
      "outputs": [
        {
          "output_type": "stream",
          "name": "stdout",
          "text": [
            "[5, 4, 2, 8, 3, 6, 8, 9, 4, 7, 8, 3]\n"
          ]
        }
      ]
    },
    {
      "cell_type": "code",
      "source": [
        "#Passo 1: Ordenar a lista\n",
        "lista_ordenada = sorted(lista_num)\n",
        "print(lista_ordenada)\n"
      ],
      "metadata": {
        "colab": {
          "base_uri": "https://localhost:8080/"
        },
        "id": "dNALWlfVPcCi",
        "outputId": "9b13caf4-999e-4276-d306-d1ab12534245"
      },
      "execution_count": 39,
      "outputs": [
        {
          "output_type": "stream",
          "name": "stdout",
          "text": [
            "[2, 3, 3, 4, 4, 5, 6, 7, 8, 8, 8, 9]\n"
          ]
        }
      ]
    },
    {
      "cell_type": "code",
      "source": [
        "#Passo 2: Testar se a quantidade itens na lista é par ou impar\n",
        "if len(lista_ordenada) % 2 == 0:\n",
        "  print('A lista tem',len(lista_ordenada), 'itens.')\n",
        "  print('Lista com número par de itens')\n",
        "else:\n",
        "  print('A lista tem',len(lista_ordenada), 'itens.')\n",
        "  print('Lista com número ímpar de itens')\n"
      ],
      "metadata": {
        "colab": {
          "base_uri": "https://localhost:8080/"
        },
        "id": "sOfNNm2IROp9",
        "outputId": "5d31e8db-b6c9-4147-cfe6-06c73ec218ff"
      },
      "execution_count": 40,
      "outputs": [
        {
          "output_type": "stream",
          "name": "stdout",
          "text": [
            "A lista tem 12 itens.\n",
            "Lista com número par de itens\n"
          ]
        }
      ]
    },
    {
      "cell_type": "code",
      "source": [
        "#Passo 3: Resolver para número impar de itens. Achar o ponto central\n",
        "tamanho = len(lista_ordenada)\n",
        "print(tamanho)\n",
        "posicao_central = tamanho//2   #Retorna o numero inteiro da divisao\n",
        "mediana = lista_ordenada[posicao_central]\n",
        "print(mediana)"
      ],
      "metadata": {
        "colab": {
          "base_uri": "https://localhost:8080/"
        },
        "id": "3Sn0uPP8RT2E",
        "outputId": "ceef623e-e773-4cca-b788-a2b734a0426a"
      },
      "execution_count": 37,
      "outputs": [
        {
          "output_type": "stream",
          "name": "stdout",
          "text": [
            "11\n",
            "6\n"
          ]
        }
      ]
    },
    {
      "cell_type": "code",
      "source": [
        "#Passo 4: Resolver para o número par de itens. Achar o ponto central e mediana.\n",
        "tamanho = len(lista_ordenada)\n",
        "print(tamanho)\n",
        "posicao1 = tamanho//2   #Retorna o numero inteiro da divisao\n",
        "posicao2 = posicao1 - 1\n",
        "\n",
        "mediana = (lista_ordenada[posicao1]+lista_ordenada[posicao2])/2\n",
        "\n",
        "print(mediana)"
      ],
      "metadata": {
        "colab": {
          "base_uri": "https://localhost:8080/"
        },
        "id": "CEOYUOctRa9X",
        "outputId": "2c2593b5-1f32-4190-9bce-b127db948baf"
      },
      "execution_count": 42,
      "outputs": [
        {
          "output_type": "stream",
          "name": "stdout",
          "text": [
            "12\n",
            "5.5\n"
          ]
        }
      ]
    },
    {
      "cell_type": "code",
      "source": [
        "def mediana_lista(lista):\n",
        "  tamanho = len(lista)\n",
        "  lista_ordenada = sorted(lista)\n",
        "\n",
        "  if tamanho % 2 == 0:\n",
        "    posicao_1 = tamanho // 2   #Retorna o numero inteiro da divisao\n",
        "    posicao_2 = posicao_1 - 1\n",
        "    mediana = (lista_ordenada[posicao_1] + lista_ordenada[posicao_2]) / 2\n",
        "  else:\n",
        "    posicao_central = tamanho//2   #Retorna o numero inteiro da divisao\n",
        "    mediana = lista_ordenada[posicao_central]\n",
        "\n",
        "  print(mediana)"
      ],
      "metadata": {
        "id": "xLS_AYHuWpQS"
      },
      "execution_count": 43,
      "outputs": []
    },
    {
      "cell_type": "code",
      "source": [
        "mediana_lista([5, 4, 2, 8, 3, 6, 8, 9, 4, 7, 8, 3])"
      ],
      "metadata": {
        "colab": {
          "base_uri": "https://localhost:8080/"
        },
        "id": "N5iw9-xMXbha",
        "outputId": "8d8570b0-57cf-4e93-889a-a66b9f416bfd"
      },
      "execution_count": 44,
      "outputs": [
        {
          "output_type": "stream",
          "name": "stdout",
          "text": [
            "5.5\n"
          ]
        }
      ]
    }
  ]
}