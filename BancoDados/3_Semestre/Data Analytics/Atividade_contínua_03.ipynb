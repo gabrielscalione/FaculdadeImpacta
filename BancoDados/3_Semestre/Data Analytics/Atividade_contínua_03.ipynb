{
  "nbformat": 4,
  "nbformat_minor": 0,
  "metadata": {
    "colab": {
      "name": "Data Analytics - Atividade contínua 03",
      "provenance": [],
      "collapsed_sections": [],
      "toc_visible": true
    },
    "kernelspec": {
      "name": "python3",
      "display_name": "Python 3"
    }
  },
  "cells": [
    {
      "cell_type": "markdown",
      "metadata": {
        "id": "3zTD0nWEXuIm"
      },
      "source": [
        "Grupo: \n",
        "\n",
        "\n",
        "> Gabriel Serrano Scalione - RA: 1903812  <br>\n",
        "> Lucimara Mendes da Silva - RA: 1903617\n",
        "\n"
      ]
    },
    {
      "cell_type": "markdown",
      "metadata": {
        "id": "SseRLRKpE6mv"
      },
      "source": [
        "# Modelo de algoritmo de classificação Naive Bayes"
      ]
    },
    {
      "cell_type": "markdown",
      "metadata": {
        "id": "dyPRLP18HGeu"
      },
      "source": [
        "1. Iremos usar o dataset das flores (íris), para isso carregue novamente esse dataset e faça a divisão entre conjunto de dados de treino e de teste."
      ]
    },
    {
      "cell_type": "code",
      "metadata": {
        "id": "T-09_6cxVFtn"
      },
      "source": [
        "from sklearn.datasets import load_iris"
      ],
      "execution_count": 3,
      "outputs": []
    },
    {
      "cell_type": "code",
      "metadata": {
        "id": "zX3t44BGVIRR"
      },
      "source": [
        "iris = load_iris()"
      ],
      "execution_count": 4,
      "outputs": []
    },
    {
      "cell_type": "code",
      "metadata": {
        "id": "3dVjD11nVLQY"
      },
      "source": [
        "# Matriz com features (variáveis)\n",
        "X = iris.data"
      ],
      "execution_count": 5,
      "outputs": []
    },
    {
      "cell_type": "code",
      "metadata": {
        "id": "v5r1Yf40VNiI"
      },
      "source": [
        "X"
      ],
      "execution_count": null,
      "outputs": []
    },
    {
      "cell_type": "code",
      "metadata": {
        "id": "7pL9nA7OVWd1"
      },
      "source": [
        "# Vetor com classes (rótulos, alvos)\n",
        "# Classe = um número inteiro com a classe que a instância pertence\n",
        "y = iris.target"
      ],
      "execution_count": 7,
      "outputs": []
    },
    {
      "cell_type": "code",
      "metadata": {
        "id": "--RW1ozhVaAZ"
      },
      "source": [
        "y"
      ],
      "execution_count": null,
      "outputs": []
    },
    {
      "cell_type": "code",
      "metadata": {
        "id": "4MUcmzaYVkzy"
      },
      "source": [
        "from sklearn.model_selection import train_test_split"
      ],
      "execution_count": 14,
      "outputs": []
    },
    {
      "cell_type": "code",
      "metadata": {
        "id": "3XkcLN4SVmuG"
      },
      "source": [
        "X_treino, X_teste, y_treino, y_teste = train_test_split(X, y, test_size=0.2, random_state=42, stratify=y)"
      ],
      "execution_count": 15,
      "outputs": []
    },
    {
      "cell_type": "code",
      "metadata": {
        "id": "stZ-RsnCVs2T"
      },
      "source": [
        "import pandas as pd\n",
        "dados = pd.DataFrame(X_treino, columns=iris.feature_names)\n",
        "dados"
      ],
      "execution_count": null,
      "outputs": []
    },
    {
      "cell_type": "markdown",
      "metadata": {
        "id": "c1x86DjVHP45"
      },
      "source": [
        "2. Faça uma pesquisa sobre o algoritmo de classificação Naive Bayes (escreva um resumo de como funciona em um ou dois parágrafos e aplique ele no dataset). Tente entender o algoritmo sem se aprofundar na parte matemática."
      ]
    },
    {
      "cell_type": "markdown",
      "metadata": {
        "id": "nYGK6V52HVv2"
      },
      "source": [
        "3. Aplique o algoritmo usando o SkLearn e diga quais hiper-parâmetros precisam ser configurados."
      ]
    },
    {
      "cell_type": "markdown",
      "metadata": {
        "id": "rh_S0mHDHYwZ"
      },
      "source": [
        "4. Meça o desempenho desse modelo gerado.\n",
        "\t<br> Obs.: Acurácia e matriz de confusão."
      ]
    },
    {
      "cell_type": "code",
      "metadata": {
        "id": "0Y86a8tBFLHF"
      },
      "source": [
        "from sklearn.naive_bayes import GaussianNB"
      ],
      "execution_count": 9,
      "outputs": []
    },
    {
      "cell_type": "code",
      "metadata": {
        "id": "J4l2p685V_jC"
      },
      "source": [
        "X, y = load_iris(return_X_y=True)"
      ],
      "execution_count": 10,
      "outputs": []
    },
    {
      "cell_type": "code",
      "metadata": {
        "id": "sqx5aQhYWRCb"
      },
      "source": [
        "X_train, X_test, y_train, y_test = train_test_split(X, y, test_size=0.5, random_state=0)"
      ],
      "execution_count": 17,
      "outputs": []
    },
    {
      "cell_type": "code",
      "metadata": {
        "id": "5uWyGZSyWUCy"
      },
      "source": [
        "gnb = GaussianNB()"
      ],
      "execution_count": 18,
      "outputs": []
    },
    {
      "cell_type": "code",
      "metadata": {
        "id": "bUOrcBJ-WYfr"
      },
      "source": [
        "y_pred = gnb.fit(X_train, y_train).predict(X_test)"
      ],
      "execution_count": 19,
      "outputs": []
    },
    {
      "cell_type": "code",
      "metadata": {
        "id": "63fExukEWdTa"
      },
      "source": [
        "print(\"Número de pontos mal rotulados de um total %d pontos é %d\" % (X_test.shape[0], (y_test != y_pred).sum()))"
      ],
      "execution_count": null,
      "outputs": []
    },
    {
      "cell_type": "markdown",
      "metadata": {
        "id": "6FMNPbC_gUSg"
      },
      "source": [
        "Acurácia"
      ]
    },
    {
      "cell_type": "code",
      "metadata": {
        "id": "rUSUsuSBgTlS"
      },
      "source": [
        "from sklearn.metrics import accuracy_score"
      ],
      "execution_count": 21,
      "outputs": []
    },
    {
      "cell_type": "code",
      "metadata": {
        "colab": {
          "base_uri": "https://localhost:8080/"
        },
        "id": "gYD1OzL6U2nS",
        "outputId": "b1bb1a61-a239-4a76-f8de-478d272eb9b8"
      },
      "source": [
        "accuracy_score(y_test, y_pred)"
      ],
      "execution_count": 28,
      "outputs": [
        {
          "output_type": "execute_result",
          "data": {
            "text/plain": [
              "0.9466666666666667"
            ]
          },
          "metadata": {
            "tags": []
          },
          "execution_count": 28
        }
      ]
    },
    {
      "cell_type": "markdown",
      "metadata": {
        "id": "GQlTa8srcY-d"
      },
      "source": [
        "Matriz de Confusão"
      ]
    },
    {
      "cell_type": "code",
      "metadata": {
        "id": "6a0VvOXfcVCs"
      },
      "source": [
        "from sklearn.metrics import confusion_matrix"
      ],
      "execution_count": 23,
      "outputs": []
    },
    {
      "cell_type": "code",
      "metadata": {
        "colab": {
          "base_uri": "https://localhost:8080/"
        },
        "id": "Qr0UZUh8cceS",
        "outputId": "0a778e04-9248-4fc3-ccad-bdad162b14e9"
      },
      "source": [
        "confusion_matrix(y_test,y_pred)"
      ],
      "execution_count": 27,
      "outputs": [
        {
          "output_type": "execute_result",
          "data": {
            "text/plain": [
              "array([[21,  0,  0],\n",
              "       [ 0, 30,  0],\n",
              "       [ 0,  4, 20]])"
            ]
          },
          "metadata": {
            "tags": []
          },
          "execution_count": 27
        }
      ]
    }
  ]
}