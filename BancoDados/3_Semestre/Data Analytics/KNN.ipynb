{
  "nbformat": 4,
  "nbformat_minor": 0,
  "metadata": {
    "colab": {
      "name": "KNN.ipynb",
      "provenance": [],
      "collapsed_sections": []
    },
    "kernelspec": {
      "name": "python3",
      "display_name": "Python 3"
    }
  },
  "cells": [
    {
      "cell_type": "code",
      "metadata": {
        "id": "uNk9Mr52eO8N"
      },
      "source": [
        "from sklearn.datasets import load_iris"
      ],
      "execution_count": 1,
      "outputs": []
    },
    {
      "cell_type": "code",
      "metadata": {
        "id": "IyTi29tsedxv"
      },
      "source": [
        "iris = load_iris()"
      ],
      "execution_count": 2,
      "outputs": []
    },
    {
      "cell_type": "code",
      "metadata": {
        "id": "U65oS32FeU3R"
      },
      "source": [
        "# Matriz com features (variáveis)\n",
        "X = iris.data"
      ],
      "execution_count": 3,
      "outputs": []
    },
    {
      "cell_type": "code",
      "metadata": {
        "colab": {
          "base_uri": "https://localhost:8080/"
        },
        "id": "0NkxekzdQOly",
        "outputId": "f0e067cb-d4dd-4a10-8b17-1dc30e0764d3"
      },
      "source": [
        "X"
      ],
      "execution_count": 5,
      "outputs": [
        {
          "output_type": "execute_result",
          "data": {
            "text/plain": [
              "array([[5.1, 3.5, 1.4, 0.2],\n",
              "       [4.9, 3. , 1.4, 0.2],\n",
              "       [4.7, 3.2, 1.3, 0.2],\n",
              "       [4.6, 3.1, 1.5, 0.2],\n",
              "       [5. , 3.6, 1.4, 0.2],\n",
              "       [5.4, 3.9, 1.7, 0.4],\n",
              "       [4.6, 3.4, 1.4, 0.3],\n",
              "       [5. , 3.4, 1.5, 0.2],\n",
              "       [4.4, 2.9, 1.4, 0.2],\n",
              "       [4.9, 3.1, 1.5, 0.1],\n",
              "       [5.4, 3.7, 1.5, 0.2],\n",
              "       [4.8, 3.4, 1.6, 0.2],\n",
              "       [4.8, 3. , 1.4, 0.1],\n",
              "       [4.3, 3. , 1.1, 0.1],\n",
              "       [5.8, 4. , 1.2, 0.2],\n",
              "       [5.7, 4.4, 1.5, 0.4],\n",
              "       [5.4, 3.9, 1.3, 0.4],\n",
              "       [5.1, 3.5, 1.4, 0.3],\n",
              "       [5.7, 3.8, 1.7, 0.3],\n",
              "       [5.1, 3.8, 1.5, 0.3],\n",
              "       [5.4, 3.4, 1.7, 0.2],\n",
              "       [5.1, 3.7, 1.5, 0.4],\n",
              "       [4.6, 3.6, 1. , 0.2],\n",
              "       [5.1, 3.3, 1.7, 0.5],\n",
              "       [4.8, 3.4, 1.9, 0.2],\n",
              "       [5. , 3. , 1.6, 0.2],\n",
              "       [5. , 3.4, 1.6, 0.4],\n",
              "       [5.2, 3.5, 1.5, 0.2],\n",
              "       [5.2, 3.4, 1.4, 0.2],\n",
              "       [4.7, 3.2, 1.6, 0.2],\n",
              "       [4.8, 3.1, 1.6, 0.2],\n",
              "       [5.4, 3.4, 1.5, 0.4],\n",
              "       [5.2, 4.1, 1.5, 0.1],\n",
              "       [5.5, 4.2, 1.4, 0.2],\n",
              "       [4.9, 3.1, 1.5, 0.2],\n",
              "       [5. , 3.2, 1.2, 0.2],\n",
              "       [5.5, 3.5, 1.3, 0.2],\n",
              "       [4.9, 3.6, 1.4, 0.1],\n",
              "       [4.4, 3. , 1.3, 0.2],\n",
              "       [5.1, 3.4, 1.5, 0.2],\n",
              "       [5. , 3.5, 1.3, 0.3],\n",
              "       [4.5, 2.3, 1.3, 0.3],\n",
              "       [4.4, 3.2, 1.3, 0.2],\n",
              "       [5. , 3.5, 1.6, 0.6],\n",
              "       [5.1, 3.8, 1.9, 0.4],\n",
              "       [4.8, 3. , 1.4, 0.3],\n",
              "       [5.1, 3.8, 1.6, 0.2],\n",
              "       [4.6, 3.2, 1.4, 0.2],\n",
              "       [5.3, 3.7, 1.5, 0.2],\n",
              "       [5. , 3.3, 1.4, 0.2],\n",
              "       [7. , 3.2, 4.7, 1.4],\n",
              "       [6.4, 3.2, 4.5, 1.5],\n",
              "       [6.9, 3.1, 4.9, 1.5],\n",
              "       [5.5, 2.3, 4. , 1.3],\n",
              "       [6.5, 2.8, 4.6, 1.5],\n",
              "       [5.7, 2.8, 4.5, 1.3],\n",
              "       [6.3, 3.3, 4.7, 1.6],\n",
              "       [4.9, 2.4, 3.3, 1. ],\n",
              "       [6.6, 2.9, 4.6, 1.3],\n",
              "       [5.2, 2.7, 3.9, 1.4],\n",
              "       [5. , 2. , 3.5, 1. ],\n",
              "       [5.9, 3. , 4.2, 1.5],\n",
              "       [6. , 2.2, 4. , 1. ],\n",
              "       [6.1, 2.9, 4.7, 1.4],\n",
              "       [5.6, 2.9, 3.6, 1.3],\n",
              "       [6.7, 3.1, 4.4, 1.4],\n",
              "       [5.6, 3. , 4.5, 1.5],\n",
              "       [5.8, 2.7, 4.1, 1. ],\n",
              "       [6.2, 2.2, 4.5, 1.5],\n",
              "       [5.6, 2.5, 3.9, 1.1],\n",
              "       [5.9, 3.2, 4.8, 1.8],\n",
              "       [6.1, 2.8, 4. , 1.3],\n",
              "       [6.3, 2.5, 4.9, 1.5],\n",
              "       [6.1, 2.8, 4.7, 1.2],\n",
              "       [6.4, 2.9, 4.3, 1.3],\n",
              "       [6.6, 3. , 4.4, 1.4],\n",
              "       [6.8, 2.8, 4.8, 1.4],\n",
              "       [6.7, 3. , 5. , 1.7],\n",
              "       [6. , 2.9, 4.5, 1.5],\n",
              "       [5.7, 2.6, 3.5, 1. ],\n",
              "       [5.5, 2.4, 3.8, 1.1],\n",
              "       [5.5, 2.4, 3.7, 1. ],\n",
              "       [5.8, 2.7, 3.9, 1.2],\n",
              "       [6. , 2.7, 5.1, 1.6],\n",
              "       [5.4, 3. , 4.5, 1.5],\n",
              "       [6. , 3.4, 4.5, 1.6],\n",
              "       [6.7, 3.1, 4.7, 1.5],\n",
              "       [6.3, 2.3, 4.4, 1.3],\n",
              "       [5.6, 3. , 4.1, 1.3],\n",
              "       [5.5, 2.5, 4. , 1.3],\n",
              "       [5.5, 2.6, 4.4, 1.2],\n",
              "       [6.1, 3. , 4.6, 1.4],\n",
              "       [5.8, 2.6, 4. , 1.2],\n",
              "       [5. , 2.3, 3.3, 1. ],\n",
              "       [5.6, 2.7, 4.2, 1.3],\n",
              "       [5.7, 3. , 4.2, 1.2],\n",
              "       [5.7, 2.9, 4.2, 1.3],\n",
              "       [6.2, 2.9, 4.3, 1.3],\n",
              "       [5.1, 2.5, 3. , 1.1],\n",
              "       [5.7, 2.8, 4.1, 1.3],\n",
              "       [6.3, 3.3, 6. , 2.5],\n",
              "       [5.8, 2.7, 5.1, 1.9],\n",
              "       [7.1, 3. , 5.9, 2.1],\n",
              "       [6.3, 2.9, 5.6, 1.8],\n",
              "       [6.5, 3. , 5.8, 2.2],\n",
              "       [7.6, 3. , 6.6, 2.1],\n",
              "       [4.9, 2.5, 4.5, 1.7],\n",
              "       [7.3, 2.9, 6.3, 1.8],\n",
              "       [6.7, 2.5, 5.8, 1.8],\n",
              "       [7.2, 3.6, 6.1, 2.5],\n",
              "       [6.5, 3.2, 5.1, 2. ],\n",
              "       [6.4, 2.7, 5.3, 1.9],\n",
              "       [6.8, 3. , 5.5, 2.1],\n",
              "       [5.7, 2.5, 5. , 2. ],\n",
              "       [5.8, 2.8, 5.1, 2.4],\n",
              "       [6.4, 3.2, 5.3, 2.3],\n",
              "       [6.5, 3. , 5.5, 1.8],\n",
              "       [7.7, 3.8, 6.7, 2.2],\n",
              "       [7.7, 2.6, 6.9, 2.3],\n",
              "       [6. , 2.2, 5. , 1.5],\n",
              "       [6.9, 3.2, 5.7, 2.3],\n",
              "       [5.6, 2.8, 4.9, 2. ],\n",
              "       [7.7, 2.8, 6.7, 2. ],\n",
              "       [6.3, 2.7, 4.9, 1.8],\n",
              "       [6.7, 3.3, 5.7, 2.1],\n",
              "       [7.2, 3.2, 6. , 1.8],\n",
              "       [6.2, 2.8, 4.8, 1.8],\n",
              "       [6.1, 3. , 4.9, 1.8],\n",
              "       [6.4, 2.8, 5.6, 2.1],\n",
              "       [7.2, 3. , 5.8, 1.6],\n",
              "       [7.4, 2.8, 6.1, 1.9],\n",
              "       [7.9, 3.8, 6.4, 2. ],\n",
              "       [6.4, 2.8, 5.6, 2.2],\n",
              "       [6.3, 2.8, 5.1, 1.5],\n",
              "       [6.1, 2.6, 5.6, 1.4],\n",
              "       [7.7, 3. , 6.1, 2.3],\n",
              "       [6.3, 3.4, 5.6, 2.4],\n",
              "       [6.4, 3.1, 5.5, 1.8],\n",
              "       [6. , 3. , 4.8, 1.8],\n",
              "       [6.9, 3.1, 5.4, 2.1],\n",
              "       [6.7, 3.1, 5.6, 2.4],\n",
              "       [6.9, 3.1, 5.1, 2.3],\n",
              "       [5.8, 2.7, 5.1, 1.9],\n",
              "       [6.8, 3.2, 5.9, 2.3],\n",
              "       [6.7, 3.3, 5.7, 2.5],\n",
              "       [6.7, 3. , 5.2, 2.3],\n",
              "       [6.3, 2.5, 5. , 1.9],\n",
              "       [6.5, 3. , 5.2, 2. ],\n",
              "       [6.2, 3.4, 5.4, 2.3],\n",
              "       [5.9, 3. , 5.1, 1.8]])"
            ]
          },
          "metadata": {
            "tags": []
          },
          "execution_count": 5
        }
      ]
    },
    {
      "cell_type": "code",
      "metadata": {
        "id": "v1ePqXBGehb_"
      },
      "source": [
        "# Vetor com classes (rótulos, alvos)\n",
        "# Classe = um número inteiro com a classe que a instância pertence\n",
        "y = iris.target"
      ],
      "execution_count": 4,
      "outputs": []
    },
    {
      "cell_type": "code",
      "metadata": {
        "colab": {
          "base_uri": "https://localhost:8080/"
        },
        "id": "QDyZoi7BQQZ0",
        "outputId": "11659588-dfcb-4a36-82a8-4286cce97a0d"
      },
      "source": [
        "y"
      ],
      "execution_count": 6,
      "outputs": [
        {
          "output_type": "execute_result",
          "data": {
            "text/plain": [
              "array([0, 0, 0, 0, 0, 0, 0, 0, 0, 0, 0, 0, 0, 0, 0, 0, 0, 0, 0, 0, 0, 0,\n",
              "       0, 0, 0, 0, 0, 0, 0, 0, 0, 0, 0, 0, 0, 0, 0, 0, 0, 0, 0, 0, 0, 0,\n",
              "       0, 0, 0, 0, 0, 0, 1, 1, 1, 1, 1, 1, 1, 1, 1, 1, 1, 1, 1, 1, 1, 1,\n",
              "       1, 1, 1, 1, 1, 1, 1, 1, 1, 1, 1, 1, 1, 1, 1, 1, 1, 1, 1, 1, 1, 1,\n",
              "       1, 1, 1, 1, 1, 1, 1, 1, 1, 1, 1, 1, 2, 2, 2, 2, 2, 2, 2, 2, 2, 2,\n",
              "       2, 2, 2, 2, 2, 2, 2, 2, 2, 2, 2, 2, 2, 2, 2, 2, 2, 2, 2, 2, 2, 2,\n",
              "       2, 2, 2, 2, 2, 2, 2, 2, 2, 2, 2, 2, 2, 2, 2, 2, 2, 2])"
            ]
          },
          "metadata": {
            "tags": []
          },
          "execution_count": 6
        }
      ]
    },
    {
      "cell_type": "markdown",
      "metadata": {
        "id": "vvGNwRtTfL0X"
      },
      "source": [
        "# 1ª tarefa: Separar dataset em conjunto de treino e de teste."
      ]
    },
    {
      "cell_type": "markdown",
      "metadata": {
        "id": "aQCE-kYpfUmI"
      },
      "source": [
        "Regrinha: trabalhar com conjunto de treino e não tocar conjunto de teste até etapa de avaliação do modelo.\n",
        "\n",
        "Evita enviesar resultados do modelo por saber propriedades do dataset inteiro.\n",
        "\n",
        "Geralmente é feito uma amostragem que separa tanto os dados quanto os rótulos. A porcentagem entre treino e teste depende da quantidade de dados disponível, é comum definir entre 70% e 80% para treino (ou de 30% a 20% para teste). Parâmetro `test_size` da função `train_test_split` (valor entre 0.0 e 1.0).\n",
        "\n",
        "Cuidado com classes desbalanceadas => geralmente nesse caso é recomendável utilizar uma amostragem estratificada (separa exemplos de acordo com a porcentagem de cada classe). Parâmetro `stratify` da função `train_test_split` (valor é um vetor com as classes)\n",
        "\n"
      ]
    },
    {
      "cell_type": "code",
      "metadata": {
        "id": "FUlQZDXIfuR8"
      },
      "source": [
        "from sklearn.model_selection import train_test_split"
      ],
      "execution_count": 9,
      "outputs": []
    },
    {
      "cell_type": "code",
      "metadata": {
        "id": "yFICBGFhf7ac"
      },
      "source": [
        "X_treino, X_teste, y_treino, y_teste = train_test_split(X, y, test_size=0.2, random_state=42, stratify=y)"
      ],
      "execution_count": 10,
      "outputs": []
    },
    {
      "cell_type": "markdown",
      "metadata": {
        "id": "OsdZfNjdeo4C"
      },
      "source": [
        "# Análise exploratória de dados"
      ]
    },
    {
      "cell_type": "markdown",
      "metadata": {
        "id": "PnuSXPXDg3L_"
      },
      "source": [
        "Aqui faremos somente nos dados de treino, para não ver os dados de teste.\n",
        "\n",
        "Para facilitar a análise, será construído um DataFrame (a `ndarray` com os dados será usada no modelo)."
      ]
    },
    {
      "cell_type": "code",
      "metadata": {
        "id": "TzZrK0owh9FT",
        "colab": {
          "base_uri": "https://localhost:8080/",
          "height": 419
        },
        "outputId": "f82486f4-fbea-4f3b-b527-5582d1fc4a3c"
      },
      "source": [
        "import pandas as pd\n",
        "dados = pd.DataFrame(X_treino, columns=iris.feature_names)\n",
        "dados"
      ],
      "execution_count": 30,
      "outputs": [
        {
          "output_type": "execute_result",
          "data": {
            "text/html": [
              "<div>\n",
              "<style scoped>\n",
              "    .dataframe tbody tr th:only-of-type {\n",
              "        vertical-align: middle;\n",
              "    }\n",
              "\n",
              "    .dataframe tbody tr th {\n",
              "        vertical-align: top;\n",
              "    }\n",
              "\n",
              "    .dataframe thead th {\n",
              "        text-align: right;\n",
              "    }\n",
              "</style>\n",
              "<table border=\"1\" class=\"dataframe\">\n",
              "  <thead>\n",
              "    <tr style=\"text-align: right;\">\n",
              "      <th></th>\n",
              "      <th>sepal length (cm)</th>\n",
              "      <th>sepal width (cm)</th>\n",
              "      <th>petal length (cm)</th>\n",
              "      <th>petal width (cm)</th>\n",
              "    </tr>\n",
              "  </thead>\n",
              "  <tbody>\n",
              "    <tr>\n",
              "      <th>0</th>\n",
              "      <td>4.4</td>\n",
              "      <td>2.9</td>\n",
              "      <td>1.4</td>\n",
              "      <td>0.2</td>\n",
              "    </tr>\n",
              "    <tr>\n",
              "      <th>1</th>\n",
              "      <td>4.9</td>\n",
              "      <td>2.5</td>\n",
              "      <td>4.5</td>\n",
              "      <td>1.7</td>\n",
              "    </tr>\n",
              "    <tr>\n",
              "      <th>2</th>\n",
              "      <td>6.8</td>\n",
              "      <td>2.8</td>\n",
              "      <td>4.8</td>\n",
              "      <td>1.4</td>\n",
              "    </tr>\n",
              "    <tr>\n",
              "      <th>3</th>\n",
              "      <td>4.9</td>\n",
              "      <td>3.1</td>\n",
              "      <td>1.5</td>\n",
              "      <td>0.1</td>\n",
              "    </tr>\n",
              "    <tr>\n",
              "      <th>4</th>\n",
              "      <td>5.5</td>\n",
              "      <td>2.5</td>\n",
              "      <td>4.0</td>\n",
              "      <td>1.3</td>\n",
              "    </tr>\n",
              "    <tr>\n",
              "      <th>...</th>\n",
              "      <td>...</td>\n",
              "      <td>...</td>\n",
              "      <td>...</td>\n",
              "      <td>...</td>\n",
              "    </tr>\n",
              "    <tr>\n",
              "      <th>115</th>\n",
              "      <td>4.9</td>\n",
              "      <td>3.6</td>\n",
              "      <td>1.4</td>\n",
              "      <td>0.1</td>\n",
              "    </tr>\n",
              "    <tr>\n",
              "      <th>116</th>\n",
              "      <td>4.7</td>\n",
              "      <td>3.2</td>\n",
              "      <td>1.3</td>\n",
              "      <td>0.2</td>\n",
              "    </tr>\n",
              "    <tr>\n",
              "      <th>117</th>\n",
              "      <td>5.5</td>\n",
              "      <td>4.2</td>\n",
              "      <td>1.4</td>\n",
              "      <td>0.2</td>\n",
              "    </tr>\n",
              "    <tr>\n",
              "      <th>118</th>\n",
              "      <td>6.9</td>\n",
              "      <td>3.1</td>\n",
              "      <td>4.9</td>\n",
              "      <td>1.5</td>\n",
              "    </tr>\n",
              "    <tr>\n",
              "      <th>119</th>\n",
              "      <td>4.6</td>\n",
              "      <td>3.1</td>\n",
              "      <td>1.5</td>\n",
              "      <td>0.2</td>\n",
              "    </tr>\n",
              "  </tbody>\n",
              "</table>\n",
              "<p>120 rows × 4 columns</p>\n",
              "</div>"
            ],
            "text/plain": [
              "     sepal length (cm)  sepal width (cm)  petal length (cm)  petal width (cm)\n",
              "0                  4.4               2.9                1.4               0.2\n",
              "1                  4.9               2.5                4.5               1.7\n",
              "2                  6.8               2.8                4.8               1.4\n",
              "3                  4.9               3.1                1.5               0.1\n",
              "4                  5.5               2.5                4.0               1.3\n",
              "..                 ...               ...                ...               ...\n",
              "115                4.9               3.6                1.4               0.1\n",
              "116                4.7               3.2                1.3               0.2\n",
              "117                5.5               4.2                1.4               0.2\n",
              "118                6.9               3.1                4.9               1.5\n",
              "119                4.6               3.1                1.5               0.2\n",
              "\n",
              "[120 rows x 4 columns]"
            ]
          },
          "metadata": {
            "tags": []
          },
          "execution_count": 30
        }
      ]
    },
    {
      "cell_type": "markdown",
      "metadata": {
        "id": "JWiWdXvdevW0"
      },
      "source": [
        "## Quantidade de dados e tipo de dados"
      ]
    },
    {
      "cell_type": "code",
      "metadata": {
        "id": "wv1gqQNsen3W",
        "colab": {
          "base_uri": "https://localhost:8080/"
        },
        "outputId": "78056237-7cdc-48cf-c1b3-2de02d78f57a"
      },
      "source": [
        "dados.shape"
      ],
      "execution_count": 17,
      "outputs": [
        {
          "output_type": "execute_result",
          "data": {
            "text/plain": [
              "(120, 5)"
            ]
          },
          "metadata": {
            "tags": []
          },
          "execution_count": 17
        }
      ]
    },
    {
      "cell_type": "markdown",
      "metadata": {
        "id": "v89v_l-wey4l"
      },
      "source": [
        "120 linhas (instâncias, exemplos, entidades) com 4 colunas (características, features, variáveis, atributos)."
      ]
    },
    {
      "cell_type": "code",
      "metadata": {
        "id": "oOpQjmcxjJkz",
        "colab": {
          "base_uri": "https://localhost:8080/"
        },
        "outputId": "ac431c70-362d-439b-c0bb-eaa5445f48f0"
      },
      "source": [
        "dados.dtypes"
      ],
      "execution_count": 18,
      "outputs": [
        {
          "output_type": "execute_result",
          "data": {
            "text/plain": [
              "sepal length (cm)    float64\n",
              "sepal width (cm)     float64\n",
              "petal length (cm)    float64\n",
              "petal width (cm)     float64\n",
              "type                   int64\n",
              "dtype: object"
            ]
          },
          "metadata": {
            "tags": []
          },
          "execution_count": 18
        }
      ]
    },
    {
      "cell_type": "markdown",
      "metadata": {
        "id": "Zz7jBvzQjNht"
      },
      "source": [
        "Todas as features são números de ponto flutuante.\n",
        "\n",
        "O rótulo é categórico."
      ]
    },
    {
      "cell_type": "markdown",
      "metadata": {
        "id": "0l8fcVDuiRWC"
      },
      "source": [
        "## Verificação de valores ausentes"
      ]
    },
    {
      "cell_type": "code",
      "metadata": {
        "id": "93s14SCOeyCb",
        "colab": {
          "base_uri": "https://localhost:8080/"
        },
        "outputId": "2de02ecf-564a-4c06-a2ae-ba93719c758d"
      },
      "source": [
        "dados.isna().sum()"
      ],
      "execution_count": 19,
      "outputs": [
        {
          "output_type": "execute_result",
          "data": {
            "text/plain": [
              "sepal length (cm)    0\n",
              "sepal width (cm)     0\n",
              "petal length (cm)    0\n",
              "petal width (cm)     0\n",
              "type                 0\n",
              "dtype: int64"
            ]
          },
          "metadata": {
            "tags": []
          },
          "execution_count": 19
        }
      ]
    },
    {
      "cell_type": "code",
      "metadata": {
        "id": "d3HFVXoYijOX",
        "colab": {
          "base_uri": "https://localhost:8080/"
        },
        "outputId": "ec7455c0-23b5-4bf2-e3b7-9b8535c4e329"
      },
      "source": [
        "dados.max()"
      ],
      "execution_count": 20,
      "outputs": [
        {
          "output_type": "execute_result",
          "data": {
            "text/plain": [
              "sepal length (cm)    7.9\n",
              "sepal width (cm)     4.4\n",
              "petal length (cm)    6.9\n",
              "petal width (cm)     2.5\n",
              "type                 2.0\n",
              "dtype: float64"
            ]
          },
          "metadata": {
            "tags": []
          },
          "execution_count": 20
        }
      ]
    },
    {
      "cell_type": "code",
      "metadata": {
        "id": "pNMXIlzmiltw",
        "colab": {
          "base_uri": "https://localhost:8080/"
        },
        "outputId": "9c66d408-a114-4dfd-ecb2-50497a54114a"
      },
      "source": [
        "dados.min()"
      ],
      "execution_count": 21,
      "outputs": [
        {
          "output_type": "execute_result",
          "data": {
            "text/plain": [
              "sepal length (cm)    4.3\n",
              "sepal width (cm)     2.0\n",
              "petal length (cm)    1.1\n",
              "petal width (cm)     0.1\n",
              "type                 0.0\n",
              "dtype: float64"
            ]
          },
          "metadata": {
            "tags": []
          },
          "execution_count": 21
        }
      ]
    },
    {
      "cell_type": "markdown",
      "metadata": {
        "id": "GKvtv0XQipMZ"
      },
      "source": [
        "Não existem valores explicitamente ausente (NaN).\n",
        "\n",
        "Procurando valores máximos e mínimos (para encontrar algum *placeholder* de valor ausente, como -1, 0, 99, etc) também não foi encontrado nenhum valor ausente.\n",
        "\n",
        "Obs.: Dados são números de ponto flutuante, se fossem string, poderia ser procurado pelas strings de *Placeholder* de valores ausentes, como `'NA'`, `'Não informado'`, etc."
      ]
    },
    {
      "cell_type": "markdown",
      "metadata": {
        "id": "RqIiXoXBjWge"
      },
      "source": [
        "## Análise da distribuição dos dados"
      ]
    },
    {
      "cell_type": "markdown",
      "metadata": {
        "id": "0sIEvQXIjwXW"
      },
      "source": [
        "**Medidas de posição e dispersão.**\n",
        "\n",
        "Posiçao: Média, valor mínimo, percentis, Mediana (50%) e valor máximo.\n",
        "\n",
        "Dispersão: Desvio padrão."
      ]
    },
    {
      "cell_type": "code",
      "metadata": {
        "id": "UUqbO7lehoQN",
        "colab": {
          "base_uri": "https://localhost:8080/",
          "height": 297
        },
        "outputId": "346a3607-d68a-46c7-ff34-efc84e0e6fb6"
      },
      "source": [
        "dados.describe()"
      ],
      "execution_count": 22,
      "outputs": [
        {
          "output_type": "execute_result",
          "data": {
            "text/html": [
              "<div>\n",
              "<style scoped>\n",
              "    .dataframe tbody tr th:only-of-type {\n",
              "        vertical-align: middle;\n",
              "    }\n",
              "\n",
              "    .dataframe tbody tr th {\n",
              "        vertical-align: top;\n",
              "    }\n",
              "\n",
              "    .dataframe thead th {\n",
              "        text-align: right;\n",
              "    }\n",
              "</style>\n",
              "<table border=\"1\" class=\"dataframe\">\n",
              "  <thead>\n",
              "    <tr style=\"text-align: right;\">\n",
              "      <th></th>\n",
              "      <th>sepal length (cm)</th>\n",
              "      <th>sepal width (cm)</th>\n",
              "      <th>petal length (cm)</th>\n",
              "      <th>petal width (cm)</th>\n",
              "      <th>type</th>\n",
              "    </tr>\n",
              "  </thead>\n",
              "  <tbody>\n",
              "    <tr>\n",
              "      <th>count</th>\n",
              "      <td>120.000000</td>\n",
              "      <td>120.000000</td>\n",
              "      <td>120.00000</td>\n",
              "      <td>120.000000</td>\n",
              "      <td>120.00000</td>\n",
              "    </tr>\n",
              "    <tr>\n",
              "      <th>mean</th>\n",
              "      <td>5.841667</td>\n",
              "      <td>3.048333</td>\n",
              "      <td>3.77000</td>\n",
              "      <td>1.205000</td>\n",
              "      <td>1.00000</td>\n",
              "    </tr>\n",
              "    <tr>\n",
              "      <th>std</th>\n",
              "      <td>0.840926</td>\n",
              "      <td>0.448524</td>\n",
              "      <td>1.76852</td>\n",
              "      <td>0.762663</td>\n",
              "      <td>0.81992</td>\n",
              "    </tr>\n",
              "    <tr>\n",
              "      <th>min</th>\n",
              "      <td>4.300000</td>\n",
              "      <td>2.000000</td>\n",
              "      <td>1.10000</td>\n",
              "      <td>0.100000</td>\n",
              "      <td>0.00000</td>\n",
              "    </tr>\n",
              "    <tr>\n",
              "      <th>25%</th>\n",
              "      <td>5.100000</td>\n",
              "      <td>2.800000</td>\n",
              "      <td>1.60000</td>\n",
              "      <td>0.300000</td>\n",
              "      <td>0.00000</td>\n",
              "    </tr>\n",
              "    <tr>\n",
              "      <th>50%</th>\n",
              "      <td>5.750000</td>\n",
              "      <td>3.000000</td>\n",
              "      <td>4.25000</td>\n",
              "      <td>1.300000</td>\n",
              "      <td>1.00000</td>\n",
              "    </tr>\n",
              "    <tr>\n",
              "      <th>75%</th>\n",
              "      <td>6.400000</td>\n",
              "      <td>3.325000</td>\n",
              "      <td>5.10000</td>\n",
              "      <td>1.800000</td>\n",
              "      <td>2.00000</td>\n",
              "    </tr>\n",
              "    <tr>\n",
              "      <th>max</th>\n",
              "      <td>7.900000</td>\n",
              "      <td>4.400000</td>\n",
              "      <td>6.90000</td>\n",
              "      <td>2.500000</td>\n",
              "      <td>2.00000</td>\n",
              "    </tr>\n",
              "  </tbody>\n",
              "</table>\n",
              "</div>"
            ],
            "text/plain": [
              "       sepal length (cm)  sepal width (cm)  ...  petal width (cm)       type\n",
              "count         120.000000        120.000000  ...        120.000000  120.00000\n",
              "mean            5.841667          3.048333  ...          1.205000    1.00000\n",
              "std             0.840926          0.448524  ...          0.762663    0.81992\n",
              "min             4.300000          2.000000  ...          0.100000    0.00000\n",
              "25%             5.100000          2.800000  ...          0.300000    0.00000\n",
              "50%             5.750000          3.000000  ...          1.300000    1.00000\n",
              "75%             6.400000          3.325000  ...          1.800000    2.00000\n",
              "max             7.900000          4.400000  ...          2.500000    2.00000\n",
              "\n",
              "[8 rows x 5 columns]"
            ]
          },
          "metadata": {
            "tags": []
          },
          "execution_count": 22
        }
      ]
    },
    {
      "cell_type": "markdown",
      "metadata": {
        "id": "mJGFuNQ0mYPT"
      },
      "source": [
        "**Histograma**\n",
        "\n",
        "Visualmente verificar a distribuição dos dados."
      ]
    },
    {
      "cell_type": "code",
      "metadata": {
        "id": "gphxykJ2j3Zp",
        "colab": {
          "base_uri": "https://localhost:8080/",
          "height": 716
        },
        "outputId": "8932ecb2-3b0c-4bb7-f7b3-7caf8a07209e"
      },
      "source": [
        "import matplotlib.pyplot as plt\n",
        "\n",
        "fig, axs = plt.subplots(2, 2) # 4 axes (gráficos) dentro da figura.\n",
        "fig.set_size_inches(12, 12)\n",
        "# axs é uma matriz, cada posição é um axe (gráfico)\n",
        "axs[0, 0].hist(dados['sepal length (cm)'])\n",
        "axs[0, 0].set_title('Histograma do comprimento da sépala (cm)')\n",
        "\n",
        "axs[0, 1].hist(dados['sepal width (cm)'])\n",
        "axs[0, 1].set_title('Histograma da largura da sépala (cm)')\n",
        "\n",
        "axs[1, 0].hist(dados['petal length (cm)'])\n",
        "axs[1, 0].set_title('Histograma do comprimento da pétala (cm)')\n",
        "\n",
        "axs[1, 1].hist(dados['petal width (cm)'])\n",
        "axs[1, 1].set_title('Histograma da largura da pétala (cm)');"
      ],
      "execution_count": 23,
      "outputs": [
        {
          "output_type": "display_data",
          "data": {
            "image/png": "[encoded data removed]",
            "text/plain": [
              "<Figure size 864x864 with 4 Axes>"
            ]
          },
          "metadata": {
            "tags": [],
            "needs_background": "light"
          }
        }
      ]
    },
    {
      "cell_type": "markdown",
      "metadata": {
        "id": "2TAXiebYmh1E"
      },
      "source": [
        "A distribuição dos valores não se assemelham a distribuições conhecidas (exceto a largura da sépala que está próxima de uma distribuição normal).\n",
        "\n",
        "Dentro dos intervalos de cada feature, estão relativamente bem distribuídas, sem indicativo de valores extremos.\n",
        "\n",
        "As escalas também são próximas.\n",
        "\n",
        "Em relação a quantidade de informações, os desvios padrão são \"próximos\", então em uma primeira análise as 4 features carregam uma quantidade de informação semelhantes."
      ]
    },
    {
      "cell_type": "markdown",
      "metadata": {
        "id": "RMtMNZMym8ns"
      },
      "source": [
        "**Boxplot**\n",
        "\n",
        "Verificar a distribuição e indicação de possíveis outliers."
      ]
    },
    {
      "cell_type": "code",
      "metadata": {
        "id": "P_TJ_nzolJ5h",
        "colab": {
          "base_uri": "https://localhost:8080/",
          "height": 716
        },
        "outputId": "2f16f006-672b-4748-d6c9-753a35661030"
      },
      "source": [
        "fig, axs = plt.subplots(2, 2) # 4 axes (gráficos) dentro da figura.\n",
        "fig.set_size_inches(12, 12)\n",
        "# axs é uma matriz, cada posição é um axe (gráfico)\n",
        "axs[0, 0].boxplot(dados['sepal length (cm)'])\n",
        "axs[0, 0].set_title('Boxplot do comprimento da sépala (cm)')\n",
        "\n",
        "axs[0, 1].boxplot(dados['sepal width (cm)'])\n",
        "axs[0, 1].set_title('Boxplot da largura da sépala (cm)')\n",
        "\n",
        "axs[1, 0].boxplot(dados['petal length (cm)'])\n",
        "axs[1, 0].set_title('Boxplot do comprimento da pétala (cm)')\n",
        "\n",
        "axs[1, 1].boxplot(dados['petal width (cm)'])\n",
        "axs[1, 1].set_title('Boxplot da largura da pétala (cm)');"
      ],
      "execution_count": 24,
      "outputs": [
        {
          "output_type": "display_data",
          "data": {
            "image/png": "[encoded data removed]",
            "text/plain": [
              "<Figure size 864x864 with 4 Axes>"
            ]
          },
          "metadata": {
            "tags": [],
            "needs_background": "light"
          }
        }
      ]
    },
    {
      "cell_type": "markdown",
      "metadata": {
        "id": "MsFyd4sQnO_j"
      },
      "source": [
        "Como indicado pelo histograma, não encontramos outliers (com exceção da variável largura da sépala). Esse é um passo importante, pois alguns dos algoritmos (modelos) são sensíveis a outliers.\n",
        "\n",
        "Existem 3 outliers (estatísticos). Pelo domínio sabe-se que é normal essa variação, então nenhum tratamento será realizado nessa variável (como remoção de outliers, normalização ou padronização por esse motivo de outliers)."
      ]
    },
    {
      "cell_type": "markdown",
      "metadata": {
        "id": "iAEm2kx3oFQa"
      },
      "source": [
        "## Correlação entre variáveis"
      ]
    },
    {
      "cell_type": "code",
      "metadata": {
        "id": "NOHlGNWULLce",
        "colab": {
          "base_uri": "https://localhost:8080/",
          "height": 173
        },
        "outputId": "462738f3-762c-4937-f649-e90157659fae"
      },
      "source": [
        "dados[['sepal length (cm)',\t'sepal width (cm)', 'petal length (cm)',\t'petal width (cm)']].corr()"
      ],
      "execution_count": 32,
      "outputs": [
        {
          "output_type": "execute_result",
          "data": {
            "text/html": [
              "<div>\n",
              "<style scoped>\n",
              "    .dataframe tbody tr th:only-of-type {\n",
              "        vertical-align: middle;\n",
              "    }\n",
              "\n",
              "    .dataframe tbody tr th {\n",
              "        vertical-align: top;\n",
              "    }\n",
              "\n",
              "    .dataframe thead th {\n",
              "        text-align: right;\n",
              "    }\n",
              "</style>\n",
              "<table border=\"1\" class=\"dataframe\">\n",
              "  <thead>\n",
              "    <tr style=\"text-align: right;\">\n",
              "      <th></th>\n",
              "      <th>sepal length (cm)</th>\n",
              "      <th>sepal width (cm)</th>\n",
              "      <th>petal length (cm)</th>\n",
              "      <th>petal width (cm)</th>\n",
              "    </tr>\n",
              "  </thead>\n",
              "  <tbody>\n",
              "    <tr>\n",
              "      <th>sepal length (cm)</th>\n",
              "      <td>1.000000</td>\n",
              "      <td>-0.112327</td>\n",
              "      <td>0.880401</td>\n",
              "      <td>0.820297</td>\n",
              "    </tr>\n",
              "    <tr>\n",
              "      <th>sepal width (cm)</th>\n",
              "      <td>-0.112327</td>\n",
              "      <td>1.000000</td>\n",
              "      <td>-0.398502</td>\n",
              "      <td>-0.338741</td>\n",
              "    </tr>\n",
              "    <tr>\n",
              "      <th>petal length (cm)</th>\n",
              "      <td>0.880401</td>\n",
              "      <td>-0.398502</td>\n",
              "      <td>1.000000</td>\n",
              "      <td>0.963693</td>\n",
              "    </tr>\n",
              "    <tr>\n",
              "      <th>petal width (cm)</th>\n",
              "      <td>0.820297</td>\n",
              "      <td>-0.338741</td>\n",
              "      <td>0.963693</td>\n",
              "      <td>1.000000</td>\n",
              "    </tr>\n",
              "  </tbody>\n",
              "</table>\n",
              "</div>"
            ],
            "text/plain": [
              "                   sepal length (cm)  ...  petal width (cm)\n",
              "sepal length (cm)           1.000000  ...          0.820297\n",
              "sepal width (cm)           -0.112327  ...         -0.338741\n",
              "petal length (cm)           0.880401  ...          0.963693\n",
              "petal width (cm)            0.820297  ...          1.000000\n",
              "\n",
              "[4 rows x 4 columns]"
            ]
          },
          "metadata": {
            "tags": []
          },
          "execution_count": 32
        }
      ]
    },
    {
      "cell_type": "code",
      "metadata": {
        "id": "30F8wo9BoE36",
        "colab": {
          "base_uri": "https://localhost:8080/",
          "height": 378
        },
        "outputId": "61546a66-4086-435d-903e-f6f3afd16c6c"
      },
      "source": [
        "fig, ax = plt.subplots()\n",
        "fig.set_size_inches(12, 6)\n",
        "ax.set_xticks(range(0, dados.shape[1])) # [0, 1, 2, 3]\n",
        "ax.set_yticks(range(0, dados.shape[1])) \n",
        "cax = ax.matshow(dados.corr())\n",
        "fig.colorbar(cax);"
      ],
      "execution_count": 31,
      "outputs": [
        {
          "output_type": "display_data",
          "data": {
            "image/png": "[encoded data removed]",
            "text/plain": [
              "<Figure size 864x432 with 2 Axes>"
            ]
          },
          "metadata": {
            "tags": [],
            "needs_background": "light"
          }
        }
      ]
    },
    {
      "cell_type": "markdown",
      "metadata": {
        "id": "6Pgfzi_4qnV2"
      },
      "source": [
        "Percebe-se as correlações mais altas entre as features 2 e 3 (largura da sépala e comprimento da pétala) que está em \"bege\" que indica uma correlação próxima de 1.\n",
        "\n",
        "Portanto, poderia escolher manter somente uma delas para treinar o modelo (diminui o número de dimensões). Como temos somente 4, em princípio será mantida todas."
      ]
    },
    {
      "cell_type": "markdown",
      "metadata": {
        "id": "CdbJ2_WYrpcA"
      },
      "source": [
        "## Análise das classes"
      ]
    },
    {
      "cell_type": "code",
      "metadata": {
        "id": "BftReVNNrsui",
        "colab": {
          "base_uri": "https://localhost:8080/"
        },
        "outputId": "cf1129df-9b54-4759-c2f5-8a1efcc98557"
      },
      "source": [
        "classes = pd.Series(y_treino)\n",
        "classes"
      ],
      "execution_count": 33,
      "outputs": [
        {
          "output_type": "execute_result",
          "data": {
            "text/plain": [
              "0      0\n",
              "1      2\n",
              "2      1\n",
              "3      0\n",
              "4      1\n",
              "      ..\n",
              "115    0\n",
              "116    0\n",
              "117    0\n",
              "118    1\n",
              "119    0\n",
              "Length: 120, dtype: int64"
            ]
          },
          "metadata": {
            "tags": []
          },
          "execution_count": 33
        }
      ]
    },
    {
      "cell_type": "code",
      "metadata": {
        "id": "mexkH8gXrz1k",
        "colab": {
          "base_uri": "https://localhost:8080/"
        },
        "outputId": "55c2068a-f6e3-4847-bc5a-c47c55ff460f"
      },
      "source": [
        "classes.value_counts()"
      ],
      "execution_count": 34,
      "outputs": [
        {
          "output_type": "execute_result",
          "data": {
            "text/plain": [
              "2    40\n",
              "1    40\n",
              "0    40\n",
              "dtype: int64"
            ]
          },
          "metadata": {
            "tags": []
          },
          "execution_count": 34
        }
      ]
    },
    {
      "cell_type": "markdown",
      "metadata": {
        "id": "AE0ZVRPor65e"
      },
      "source": [
        "Não existem valores ausentes nas classes.\n",
        "\n",
        "As classes estão perfeitamente balanceadas (40 exemplos em cada uma!)."
      ]
    },
    {
      "cell_type": "markdown",
      "metadata": {
        "id": "zdDI1K6PriLo"
      },
      "source": [
        "# Modelo de classificação - K Nearest Neighbors"
      ]
    },
    {
      "cell_type": "code",
      "metadata": {
        "id": "JmsZ-3vnSTg8"
      },
      "source": [
        "# Passo 1: Escolha do modelo\n",
        "from sklearn.neighbors import KNeighborsClassifier"
      ],
      "execution_count": 36,
      "outputs": []
    },
    {
      "cell_type": "code",
      "metadata": {
        "id": "dUq17zMjSX1V"
      },
      "source": [
        "# Passo 2: Instaciar o modelo (escolha dos hiper-parâmetros)\n",
        "kvizinhos = KNeighborsClassifier(n_neighbors=1)"
      ],
      "execution_count": null,
      "outputs": []
    },
    {
      "cell_type": "code",
      "metadata": {
        "id": "Csayzur1ollI",
        "colab": {
          "base_uri": "https://localhost:8080/"
        },
        "outputId": "8a793941-b044-40c7-c5b5-c185e58040ba"
      },
      "source": [
        "# Passo 3: Aprendizado (executa algoritmo para gerar modelo)\n",
        "kvizinhos.fit(X_treino, y_treino)"
      ],
      "execution_count": 37,
      "outputs": [
        {
          "output_type": "execute_result",
          "data": {
            "text/plain": [
              "KNeighborsClassifier(algorithm='auto', leaf_size=30, metric='minkowski',\n",
              "                     metric_params=None, n_jobs=None, n_neighbors=1, p=2,\n",
              "                     weights='uniform')"
            ]
          },
          "metadata": {
            "tags": []
          },
          "execution_count": 37
        }
      ]
    },
    {
      "cell_type": "code",
      "metadata": {
        "id": "kYvEpxN9VNdJ",
        "colab": {
          "base_uri": "https://localhost:8080/"
        },
        "outputId": "2d839ddc-8458-473c-a6c5-f12c903c5419"
      },
      "source": [
        "# Passo 4: Predição\n",
        "nova_flor = [[1.0, 0.5, 2.1, 1.1]]\n",
        "kvizinhos.predict(nova_flor)"
      ],
      "execution_count": 38,
      "outputs": [
        {
          "output_type": "execute_result",
          "data": {
            "text/plain": [
              "array([0])"
            ]
          },
          "metadata": {
            "tags": []
          },
          "execution_count": 38
        }
      ]
    },
    {
      "cell_type": "code",
      "metadata": {
        "id": "WzO74zFkVjnv",
        "colab": {
          "base_uri": "https://localhost:8080/"
        },
        "outputId": "1e529b8e-6d0a-4523-e4ac-a602883b069e"
      },
      "source": [
        "iris.target_names"
      ],
      "execution_count": 39,
      "outputs": [
        {
          "output_type": "execute_result",
          "data": {
            "text/plain": [
              "array(['setosa', 'versicolor', 'virginica'], dtype='<U10')"
            ]
          },
          "metadata": {
            "tags": []
          },
          "execution_count": 39
        }
      ]
    },
    {
      "cell_type": "markdown",
      "metadata": {
        "id": "Xj-juG4McuLt"
      },
      "source": [
        "Como saber se está bom?"
      ]
    },
    {
      "cell_type": "code",
      "metadata": {
        "id": "XBJXZvvfc0it"
      },
      "source": [
        "from sklearn.metrics import accuracy_score"
      ],
      "execution_count": 40,
      "outputs": []
    },
    {
      "cell_type": "code",
      "metadata": {
        "id": "6dTqwlKBW1kg",
        "colab": {
          "base_uri": "https://localhost:8080/"
        },
        "outputId": "48a5d5df-45b3-4ce1-eb84-7d6fb4de1462"
      },
      "source": [
        "accuracy_score([1, 0], [2, 0])"
      ],
      "execution_count": 41,
      "outputs": [
        {
          "output_type": "execute_result",
          "data": {
            "text/plain": [
              "0.5"
            ]
          },
          "metadata": {
            "tags": []
          },
          "execution_count": 41
        }
      ]
    },
    {
      "cell_type": "code",
      "metadata": {
        "id": "2jbb1sDyXV4M",
        "colab": {
          "base_uri": "https://localhost:8080/"
        },
        "outputId": "09b2eefd-eb71-4a97-eeba-e3a0cdac7092"
      },
      "source": [
        "X_teste"
      ],
      "execution_count": 42,
      "outputs": [
        {
          "output_type": "execute_result",
          "data": {
            "text/plain": [
              "array([[4.4, 3. , 1.3, 0.2],\n",
              "       [6.1, 3. , 4.9, 1.8],\n",
              "       [4.9, 2.4, 3.3, 1. ],\n",
              "       [5. , 2.3, 3.3, 1. ],\n",
              "       [4.4, 3.2, 1.3, 0.2],\n",
              "       [6.3, 3.3, 4.7, 1.6],\n",
              "       [4.6, 3.6, 1. , 0.2],\n",
              "       [5.4, 3.4, 1.7, 0.2],\n",
              "       [6.5, 3. , 5.2, 2. ],\n",
              "       [5.4, 3. , 4.5, 1.5],\n",
              "       [7.3, 2.9, 6.3, 1.8],\n",
              "       [6.9, 3.1, 5.1, 2.3],\n",
              "       [6.5, 3. , 5.8, 2.2],\n",
              "       [6.4, 3.2, 4.5, 1.5],\n",
              "       [5. , 3.4, 1.5, 0.2],\n",
              "       [5. , 3.3, 1.4, 0.2],\n",
              "       [5.8, 4. , 1.2, 0.2],\n",
              "       [5.6, 2.5, 3.9, 1.1],\n",
              "       [6.1, 2.9, 4.7, 1.4],\n",
              "       [6. , 3. , 4.8, 1.8],\n",
              "       [5.4, 3.7, 1.5, 0.2],\n",
              "       [6.7, 3.1, 5.6, 2.4],\n",
              "       [6.6, 2.9, 4.6, 1.3],\n",
              "       [6.1, 2.6, 5.6, 1.4],\n",
              "       [6.4, 2.8, 5.6, 2.2],\n",
              "       [6.7, 3. , 5. , 1.7],\n",
              "       [6.6, 3. , 4.4, 1.4],\n",
              "       [5.7, 3.8, 1.7, 0.3],\n",
              "       [6.5, 3. , 5.5, 1.8],\n",
              "       [5.2, 3.4, 1.4, 0.2]])"
            ]
          },
          "metadata": {
            "tags": []
          },
          "execution_count": 42
        }
      ]
    },
    {
      "cell_type": "code",
      "metadata": {
        "id": "HRarEnzGXJWi",
        "colab": {
          "base_uri": "https://localhost:8080/"
        },
        "outputId": "72026731-33fd-405e-8a77-8c415c169974"
      },
      "source": [
        "kvizinhos.predict(X_teste)"
      ],
      "execution_count": 43,
      "outputs": [
        {
          "output_type": "execute_result",
          "data": {
            "text/plain": [
              "array([0, 2, 1, 1, 0, 1, 0, 0, 2, 1, 2, 2, 2, 1, 0, 0, 0, 1, 1, 1, 0, 2,\n",
              "       1, 2, 2, 1, 1, 0, 2, 0])"
            ]
          },
          "metadata": {
            "tags": []
          },
          "execution_count": 43
        }
      ]
    },
    {
      "cell_type": "code",
      "metadata": {
        "id": "auAFbDX6XdZH"
      },
      "source": [
        "y_predito = kvizinhos.predict(X_teste)"
      ],
      "execution_count": 44,
      "outputs": []
    },
    {
      "cell_type": "code",
      "metadata": {
        "id": "wG73nU69Xh36",
        "colab": {
          "base_uri": "https://localhost:8080/"
        },
        "outputId": "f7ac2baa-c857-41b5-9bfb-b259c6949506"
      },
      "source": [
        "accuracy_score(y_teste, y_predito)"
      ],
      "execution_count": 45,
      "outputs": [
        {
          "output_type": "execute_result",
          "data": {
            "text/plain": [
              "0.9666666666666667"
            ]
          },
          "metadata": {
            "tags": []
          },
          "execution_count": 45
        }
      ]
    },
    {
      "cell_type": "markdown",
      "metadata": {
        "id": "s4mbzG7ntOZn"
      },
      "source": [
        "## Validação - forma **ERRADA**"
      ]
    },
    {
      "cell_type": "markdown",
      "metadata": {
        "id": "_psusTaPtSyI"
      },
      "source": [
        "Validar o modelo nos dados de treino - aka: \"Nos dados de treino deu 100%\".\n",
        "\n",
        "Aqui se percebe a importância de dividir os conjuntos de treino e teste."
      ]
    },
    {
      "cell_type": "markdown",
      "metadata": {
        "id": "Owgw5cj3tipl"
      },
      "source": [
        "Usaremos a acurácia para validar (ou taxa de acerto)."
      ]
    },
    {
      "cell_type": "code",
      "metadata": {
        "id": "ZX_A9dXftvXZ",
        "colab": {
          "base_uri": "https://localhost:8080/"
        },
        "outputId": "dd90de7b-79fa-4d69-d7da-74af8ef133df"
      },
      "source": [
        "kvizinhos = KNeighborsClassifier(n_neighbors=1)\n",
        "kvizinhos.fit(X, y)"
      ],
      "execution_count": 46,
      "outputs": [
        {
          "output_type": "execute_result",
          "data": {
            "text/plain": [
              "KNeighborsClassifier(algorithm='auto', leaf_size=30, metric='minkowski',\n",
              "                     metric_params=None, n_jobs=None, n_neighbors=1, p=2,\n",
              "                     weights='uniform')"
            ]
          },
          "metadata": {
            "tags": []
          },
          "execution_count": 46
        }
      ]
    },
    {
      "cell_type": "code",
      "metadata": {
        "id": "NUpCTTAqtAzw",
        "colab": {
          "base_uri": "https://localhost:8080/"
        },
        "outputId": "ec369110-4379-4b38-9e0d-0049c590ffa6"
      },
      "source": [
        "y_predito = kvizinhos.predict(X)\n",
        "accuracy_score(y, y_predito)"
      ],
      "execution_count": 47,
      "outputs": [
        {
          "output_type": "execute_result",
          "data": {
            "text/plain": [
              "1.0"
            ]
          },
          "metadata": {
            "tags": []
          },
          "execution_count": 47
        }
      ]
    },
    {
      "cell_type": "markdown",
      "metadata": {
        "id": "WsLBmyrvuBw3"
      },
      "source": [
        "Perfeito! 100% de taxa de acerto... Só que não..."
      ]
    },
    {
      "cell_type": "markdown",
      "metadata": {
        "id": "6bKKQdPTuJVp"
      },
      "source": [
        "## Validação: forma **CORRETA**\n"
      ]
    },
    {
      "cell_type": "markdown",
      "metadata": {
        "id": "DSlrbdIqudSv"
      },
      "source": [
        "Por isso que foi dividido o conjunto entre treino e teste!\n",
        "\n",
        "Usamos o treino para ajustar (treinar) o modelo e o de teste (ou validação) para **validar** o modelo.\n",
        "\n",
        "Por isso da regra de não tocarmos nesse conjunto de testes até aqui!"
      ]
    },
    {
      "cell_type": "code",
      "metadata": {
        "id": "zk4AuhPwuBcI",
        "colab": {
          "base_uri": "https://localhost:8080/"
        },
        "outputId": "fe6aebae-7cf2-4254-c89e-9fcbcfeaf2b2"
      },
      "source": [
        "kvizinhos = KNeighborsClassifier(n_neighbors=1)\n",
        "kvizinhos.fit(X_treino, y_treino)"
      ],
      "execution_count": 48,
      "outputs": [
        {
          "output_type": "execute_result",
          "data": {
            "text/plain": [
              "KNeighborsClassifier(algorithm='auto', leaf_size=30, metric='minkowski',\n",
              "                     metric_params=None, n_jobs=None, n_neighbors=1, p=2,\n",
              "                     weights='uniform')"
            ]
          },
          "metadata": {
            "tags": []
          },
          "execution_count": 48
        }
      ]
    },
    {
      "cell_type": "code",
      "metadata": {
        "id": "m7_8WpCut5ta",
        "colab": {
          "base_uri": "https://localhost:8080/"
        },
        "outputId": "37e2fbde-a430-43d8-d98c-4b4380433da4"
      },
      "source": [
        "y_predito = kvizinhos.predict(X_teste)\n",
        "accuracy_score(y_teste, y_predito)"
      ],
      "execution_count": 49,
      "outputs": [
        {
          "output_type": "execute_result",
          "data": {
            "text/plain": [
              "0.9666666666666667"
            ]
          },
          "metadata": {
            "tags": []
          },
          "execution_count": 49
        }
      ]
    },
    {
      "cell_type": "markdown",
      "metadata": {
        "id": "T7kMzMDDu57Q"
      },
      "source": [
        "Com isso, temos uma medida do desempenho do modelo (classificador) não enviesada e que tende a representar melhor quando for usado em dados não vistos ainda. Como no X_teste e y_teste. Além disso, estamos tratando problemas de *overfitting* e *underfitting* com esse procedimento."
      ]
    },
    {
      "cell_type": "markdown",
      "metadata": {
        "id": "xk2nklAIwFPX"
      },
      "source": [
        "*Underfitting*: modelo de alto viés.\n",
        "\n",
        "*Overfitting*: modelo de alta variância.\n",
        "\n",
        "Termo comum: *bias-variance tradeoff*."
      ]
    },
    {
      "cell_type": "markdown",
      "metadata": {
        "id": "o1Fq91aNwgWf"
      },
      "source": [
        "![download.png](data:image/png;base64,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)"
      ]
    },
    {
      "cell_type": "markdown",
      "metadata": {
        "id": "YqnXOiI9wm8J"
      },
      "source": [
        "Fonte da imagem: https://jakevdp.github.io/PythonDataScienceHandbook/06.00-figure-code.html#Bias-Variance-Tradeoff"
      ]
    }
  ]
}