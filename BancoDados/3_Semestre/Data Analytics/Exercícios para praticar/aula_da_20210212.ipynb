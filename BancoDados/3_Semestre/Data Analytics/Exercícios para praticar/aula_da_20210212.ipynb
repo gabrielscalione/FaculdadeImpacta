{
  "nbformat": 4,
  "nbformat_minor": 0,
  "metadata": {
    "colab": {
      "name": "aula_da_20210212.ipynb",
      "provenance": []
    },
    "kernelspec": {
      "name": "python3",
      "display_name": "Python 3"
    }
  },
  "cells": [
    {
      "cell_type": "markdown",
      "metadata": {
        "id": "TFCrVUs_jeGI"
      },
      "source": [
        "#Comandos do SO"
      ]
    },
    {
      "cell_type": "markdown",
      "metadata": {
        "id": "LS1pzhxejGVi"
      },
      "source": [
        "Células que começam com ! (exclamação) executam comandos do sistema operacional, nesse caso, são comandos linux."
      ]
    },
    {
      "cell_type": "markdown",
      "metadata": {
        "id": "tCgQPFZ9jRH1"
      },
      "source": [
        "Listar arquivos do diretório"
      ]
    },
    {
      "cell_type": "code",
      "metadata": {
        "colab": {
          "base_uri": "https://localhost:8080/"
        },
        "id": "uQrPm8LTMGxe",
        "outputId": "e209bd7c-f1d2-4938-ec41-162eb4187d49"
      },
      "source": [
        "!ls -la"
      ],
      "execution_count": 1,
      "outputs": [
        {
          "output_type": "stream",
          "text": [
            "total 16\n",
            "drwxr-xr-x 1 root root 4096 Feb 10 14:40 .\n",
            "drwxr-xr-x 1 root root 4096 Feb 12 23:17 ..\n",
            "drwxr-xr-x 1 root root 4096 Feb 10 14:40 .config\n",
            "drwxr-xr-x 1 root root 4096 Feb 10 14:40 sample_data\n"
          ],
          "name": "stdout"
        }
      ]
    },
    {
      "cell_type": "markdown",
      "metadata": {
        "id": "wObml3wMjUhZ"
      },
      "source": [
        "Verificar a versão do Python"
      ]
    },
    {
      "cell_type": "code",
      "metadata": {
        "colab": {
          "base_uri": "https://localhost:8080/"
        },
        "id": "RVyD6rRCi27N",
        "outputId": "d1bb37f8-0f4b-4d4e-f269-5e94723a6e32"
      },
      "source": [
        "!python --version"
      ],
      "execution_count": 2,
      "outputs": [
        {
          "output_type": "stream",
          "text": [
            "Python 3.6.9\n"
          ],
          "name": "stdout"
        }
      ]
    },
    {
      "cell_type": "markdown",
      "metadata": {
        "id": "-1MfE5dEjXKN"
      },
      "source": [
        "Ver a quantidade de memória disponível"
      ]
    },
    {
      "cell_type": "code",
      "metadata": {
        "colab": {
          "base_uri": "https://localhost:8080/"
        },
        "id": "FkTwKyifi8z2",
        "outputId": "3aa14ad1-277d-4860-f597-14f932c161a9"
      },
      "source": [
        "!free -m"
      ],
      "execution_count": 3,
      "outputs": [
        {
          "output_type": "stream",
          "text": [
            "              total        used        free      shared  buff/cache   available\n",
            "Mem:          13021         517       10611           0        1892       12231\n",
            "Swap:             0           0           0\n"
          ],
          "name": "stdout"
        }
      ]
    },
    {
      "cell_type": "markdown",
      "metadata": {
        "id": "dxU9cP12jixs"
      },
      "source": [
        "#Pandas"
      ]
    },
    {
      "cell_type": "markdown",
      "metadata": {
        "id": "v8dbHYLijl3L"
      },
      "source": [
        "Fazer import:"
      ]
    },
    {
      "cell_type": "code",
      "metadata": {
        "id": "qjH17gf_jBu3"
      },
      "source": [
        "import pandas as pd"
      ],
      "execution_count": 4,
      "outputs": []
    },
    {
      "cell_type": "code",
      "metadata": {
        "colab": {
          "base_uri": "https://localhost:8080/",
          "height": 35
        },
        "id": "KE3Pc1m9j79n",
        "outputId": "8173629e-e19f-40d8-a6cb-7eff43f88f0b"
      },
      "source": [
        "pd.__version__"
      ],
      "execution_count": 5,
      "outputs": [
        {
          "output_type": "execute_result",
          "data": {
            "application/vnd.google.colaboratory.intrinsic+json": {
              "type": "string"
            },
            "text/plain": [
              "'1.1.5'"
            ]
          },
          "metadata": {
            "tags": []
          },
          "execution_count": 5
        }
      ]
    },
    {
      "cell_type": "code",
      "metadata": {
        "id": "eDKvu3PEkDJ1"
      },
      "source": [
        "retorno = pd.read_html('https://pt.wikipedia.org/wiki/Lista_de_unidades_federativas_do_Brasil_por_popula%C3%A7%C3%A3o')"
      ],
      "execution_count": 35,
      "outputs": []
    },
    {
      "cell_type": "code",
      "metadata": {
        "colab": {
          "base_uri": "https://localhost:8080/"
        },
        "id": "AfzV446ok2u7",
        "outputId": "ab4cb76c-50f3-4564-8e0d-f6bf13bd96a4"
      },
      "source": [
        "retorno"
      ],
      "execution_count": 36,
      "outputs": [
        {
          "output_type": "execute_result",
          "data": {
            "text/plain": [
              "[    Posição  ...        País comparável (habitantes)\n",
              " 0         1  ...                Espanha (46 439 864)\n",
              " 1         2  ...              Sri Lanka (20 675 000)\n",
              " 2         3  ...          Países Baixos (16 922 900)\n",
              " 3         4  ...                  Chade (14 037 000)\n",
              " 4         5  ...                Bolívia (11 410 651)\n",
              " 5         6  ...                Bélgica (11 250 659)\n",
              " 6         7  ...            Bielorrússia (9 485 300)\n",
              " 7         8  ...  Emirados Árabes Unidos (9 157 000)\n",
              " 8         9  ...                 Áustria (8 602 112)\n",
              " 9        10  ...                  Sérvia (7 114 393)\n",
              " 10       11  ...                Paraguai (7 003 406)\n",
              " 11       12  ...                Paraguai (7 003 406)\n",
              " 12       13  ...                  Líbano (4 168 000)\n",
              " 13       14  ...                  Líbano (4 168 000)\n",
              " 14       15  ...                  Líbano (4 168 000)\n",
              " 15       16  ...                 Uruguai (3 415 866)\n",
              " 16       17  ...                 Uruguai (3 415 866)\n",
              " 17       18  ...                 Uruguai (3 415 866)\n",
              " 18       19  ...                  Kuwait (3 268 431)\n",
              " 19       20  ...                Lituânia (2 900 787)\n",
              " 20       21  ...                 Jamaica (2 717 991)\n",
              " 21       22  ...                 Namíbia (2 280 700)\n",
              " 22       23  ...                   Gabão (1 725 000)\n",
              " 23       24  ...                 Bahrein (1 359 800)\n",
              " 24       25  ...                      Fiji (859 178)\n",
              " 25       26  ...                      Fiji (859 178)\n",
              " 26       27  ...                Luxemburgo (562 958)\n",
              " \n",
              " [27 rows x 5 columns],\n",
              "    Posição  ...                 País comparável (habitantes)\n",
              " 0        1  ...  República Democrática do Congo (86 790 567)\n",
              " 1        2  ...                   África do Sul (58 775 022)\n",
              " 2        3  ...                           Nepal (29 609 623)\n",
              " 3        4  ...                     Cazaquistão (18 574 680)\n",
              " 4        5  ...                         Senegal (16 209 125)\n",
              " \n",
              " [5 rows x 5 columns],\n",
              "                    Região                                                UFs\n",
              " 0         Norte prefixo 1          RO AC AM RR PA AP TO 11 12 13 14 15 16 17\n",
              " 1      Nordeste prefixo 2  MA PI CE RN PB PE AL SE BA 21 22 23 24 25 26 2...\n",
              " 2       Sudeste prefixo 3                            MG ES RJ SP 31 32 33 35\n",
              " 3           Sul prefixo 4                                  PR SC RS 41 42 43\n",
              " 4  Centro-Oeste prefixo 5                            MS MT GO DF 50 51 52 53,\n",
              "    vdeClassificações das unidades federativas do Brasil vdeClassificações das unidades federativas do Brasil.1\n",
              " 0                         Características geográficas    Área Densidade demográfica Número de município...    \n",
              " 1                            Indicadores demográficos    População Densidade demográfica Natalidade Fec...    \n",
              " 2                                      Gestão pública    Sedes governamentais Transparência Arrecadação...    \n",
              " 3                    Indicadores econômicos e sociais    PIB Série histórica 1939 1950 1960 1970 1980 1...    \n",
              " 4                                                 PIB    Série histórica 1939 1950 1960 1970 1980 1990 ...    \n",
              " 5                                            Trabalho    Empregados com carteira assinada Desemprego Ap...    \n",
              " 6                            Desigualdade e bem-estar    Segurança alimentar Renda per capita IDH segun...    \n",
              " 7                                            Educação    Alfabetização Crianças e adolescentes fora da ...    \n",
              " 8                                               Saúde    Mortalidade infantil Óbitos infantis Taxa de h...    \n",
              " 9                                              Outros    Religião Circunscrições eclesiásticas Competit...    \n",
              " 10                                           Símbolos                              Bandeiras Brasões Hinos    ,\n",
              "                           0                                                  1\n",
              " 0                       PIB  Série histórica 1939 1950 1960 1970 1980 1990 ...\n",
              " 1                  Trabalho  Empregados com carteira assinada Desemprego Ap...\n",
              " 2  Desigualdade e bem-estar  Segurança alimentar Renda per capita IDH segun...\n",
              " 3                  Educação  Alfabetização Crianças e adolescentes fora da ...\n",
              " 4                     Saúde  Mortalidade infantil Óbitos infantis Taxa de h...\n",
              " 5                    Outros  Religião Circunscrições eclesiásticas Competit...]"
            ]
          },
          "metadata": {
            "tags": []
          },
          "execution_count": 36
        }
      ]
    },
    {
      "cell_type": "code",
      "metadata": {
        "colab": {
          "base_uri": "https://localhost:8080/"
        },
        "id": "19lKKcN4k7v1",
        "outputId": "2a0d3fcf-8638-4743-fae3-5adca2f407a0"
      },
      "source": [
        "type(retorno)"
      ],
      "execution_count": 9,
      "outputs": [
        {
          "output_type": "execute_result",
          "data": {
            "text/plain": [
              "list"
            ]
          },
          "metadata": {
            "tags": []
          },
          "execution_count": 9
        }
      ]
    },
    {
      "cell_type": "code",
      "metadata": {
        "colab": {
          "base_uri": "https://localhost:8080/",
          "height": 886
        },
        "id": "_oJwcxwIlFeR",
        "outputId": "09cf72b9-1da3-41cf-dddc-9e681f6d24cc"
      },
      "source": [
        "retorno[0]"
      ],
      "execution_count": 10,
      "outputs": [
        {
          "output_type": "execute_result",
          "data": {
            "text/html": [
              "<div>\n",
              "<style scoped>\n",
              "    .dataframe tbody tr th:only-of-type {\n",
              "        vertical-align: middle;\n",
              "    }\n",
              "\n",
              "    .dataframe tbody tr th {\n",
              "        vertical-align: top;\n",
              "    }\n",
              "\n",
              "    .dataframe thead th {\n",
              "        text-align: right;\n",
              "    }\n",
              "</style>\n",
              "<table border=\"1\" class=\"dataframe\">\n",
              "  <thead>\n",
              "    <tr style=\"text-align: right;\">\n",
              "      <th></th>\n",
              "      <th>Posição</th>\n",
              "      <th>Unidade federativa</th>\n",
              "      <th>População</th>\n",
              "      <th>% da pop. total</th>\n",
              "      <th>País comparável (habitantes)</th>\n",
              "    </tr>\n",
              "  </thead>\n",
              "  <tbody>\n",
              "    <tr>\n",
              "      <th>0</th>\n",
              "      <td>1</td>\n",
              "      <td>São Paulo</td>\n",
              "      <td>46 289 333</td>\n",
              "      <td>21,9%</td>\n",
              "      <td>Espanha (46 439 864)</td>\n",
              "    </tr>\n",
              "    <tr>\n",
              "      <th>1</th>\n",
              "      <td>2</td>\n",
              "      <td>Minas Gerais</td>\n",
              "      <td>21 292 666</td>\n",
              "      <td>10,1%</td>\n",
              "      <td>Sri Lanka (20 675 000)</td>\n",
              "    </tr>\n",
              "    <tr>\n",
              "      <th>2</th>\n",
              "      <td>3</td>\n",
              "      <td>Rio de Janeiro</td>\n",
              "      <td>17 366 189</td>\n",
              "      <td>8,2%</td>\n",
              "      <td>Países Baixos (16 922 900)</td>\n",
              "    </tr>\n",
              "    <tr>\n",
              "      <th>3</th>\n",
              "      <td>4</td>\n",
              "      <td>Bahia</td>\n",
              "      <td>14 930 634</td>\n",
              "      <td>7,1%</td>\n",
              "      <td>Chade (14 037 000)</td>\n",
              "    </tr>\n",
              "    <tr>\n",
              "      <th>4</th>\n",
              "      <td>5</td>\n",
              "      <td>Paraná</td>\n",
              "      <td>11 516 840</td>\n",
              "      <td>5,4%</td>\n",
              "      <td>Bolívia (11 410 651)</td>\n",
              "    </tr>\n",
              "    <tr>\n",
              "      <th>5</th>\n",
              "      <td>6</td>\n",
              "      <td>Rio Grande do Sul</td>\n",
              "      <td>11 422 973</td>\n",
              "      <td>5,4%</td>\n",
              "      <td>Bélgica (11 250 659)</td>\n",
              "    </tr>\n",
              "    <tr>\n",
              "      <th>6</th>\n",
              "      <td>7</td>\n",
              "      <td>Pernambuco</td>\n",
              "      <td>9 616 621</td>\n",
              "      <td>4,5%</td>\n",
              "      <td>Bielorrússia (9 485 300)</td>\n",
              "    </tr>\n",
              "    <tr>\n",
              "      <th>7</th>\n",
              "      <td>8</td>\n",
              "      <td>Ceará</td>\n",
              "      <td>9 187 103</td>\n",
              "      <td>4,3%</td>\n",
              "      <td>Emirados Árabes Unidos (9 157 000)</td>\n",
              "    </tr>\n",
              "    <tr>\n",
              "      <th>8</th>\n",
              "      <td>9</td>\n",
              "      <td>Pará</td>\n",
              "      <td>8 690 745</td>\n",
              "      <td>4,1%</td>\n",
              "      <td>Áustria (8 602 112)</td>\n",
              "    </tr>\n",
              "    <tr>\n",
              "      <th>9</th>\n",
              "      <td>10</td>\n",
              "      <td>Santa Catarina</td>\n",
              "      <td>7 252 502</td>\n",
              "      <td>3,4%</td>\n",
              "      <td>Sérvia (7 114 393)</td>\n",
              "    </tr>\n",
              "    <tr>\n",
              "      <th>10</th>\n",
              "      <td>11</td>\n",
              "      <td>Maranhão</td>\n",
              "      <td>7 114 598</td>\n",
              "      <td>3,4%</td>\n",
              "      <td>Paraguai (7 003 406)</td>\n",
              "    </tr>\n",
              "    <tr>\n",
              "      <th>11</th>\n",
              "      <td>12</td>\n",
              "      <td>Goiás</td>\n",
              "      <td>7 113 540</td>\n",
              "      <td>3,4%</td>\n",
              "      <td>Paraguai (7 003 406)</td>\n",
              "    </tr>\n",
              "    <tr>\n",
              "      <th>12</th>\n",
              "      <td>13</td>\n",
              "      <td>Amazonas</td>\n",
              "      <td>4 207 714</td>\n",
              "      <td>2,0%</td>\n",
              "      <td>Líbano (4 168 000)</td>\n",
              "    </tr>\n",
              "    <tr>\n",
              "      <th>13</th>\n",
              "      <td>14</td>\n",
              "      <td>Espírito Santo</td>\n",
              "      <td>4 064 052</td>\n",
              "      <td>1,9%</td>\n",
              "      <td>Líbano (4 168 000)</td>\n",
              "    </tr>\n",
              "    <tr>\n",
              "      <th>14</th>\n",
              "      <td>15</td>\n",
              "      <td>Paraíba</td>\n",
              "      <td>4 039 277</td>\n",
              "      <td>1,9%</td>\n",
              "      <td>Líbano (4 168 000)</td>\n",
              "    </tr>\n",
              "    <tr>\n",
              "      <th>15</th>\n",
              "      <td>16</td>\n",
              "      <td>Rio Grande do Norte</td>\n",
              "      <td>3 534 165</td>\n",
              "      <td>1,7%</td>\n",
              "      <td>Uruguai (3 415 866)</td>\n",
              "    </tr>\n",
              "    <tr>\n",
              "      <th>16</th>\n",
              "      <td>17</td>\n",
              "      <td>Mato Grosso</td>\n",
              "      <td>3 526 220</td>\n",
              "      <td>1,7%</td>\n",
              "      <td>Uruguai (3 415 866)</td>\n",
              "    </tr>\n",
              "    <tr>\n",
              "      <th>17</th>\n",
              "      <td>18</td>\n",
              "      <td>Alagoas</td>\n",
              "      <td>3 351 543</td>\n",
              "      <td>1,6%</td>\n",
              "      <td>Uruguai (3 415 866)</td>\n",
              "    </tr>\n",
              "    <tr>\n",
              "      <th>18</th>\n",
              "      <td>19</td>\n",
              "      <td>Piauí</td>\n",
              "      <td>3 281 480</td>\n",
              "      <td>1,6%</td>\n",
              "      <td>Kuwait (3 268 431)</td>\n",
              "    </tr>\n",
              "    <tr>\n",
              "      <th>19</th>\n",
              "      <td>20</td>\n",
              "      <td>Distrito Federal</td>\n",
              "      <td>3 055 149</td>\n",
              "      <td>1,4%</td>\n",
              "      <td>Lituânia (2 900 787)</td>\n",
              "    </tr>\n",
              "    <tr>\n",
              "      <th>20</th>\n",
              "      <td>21</td>\n",
              "      <td>Mato Grosso do Sul</td>\n",
              "      <td>2 809 394</td>\n",
              "      <td>1,3%</td>\n",
              "      <td>Jamaica (2 717 991)</td>\n",
              "    </tr>\n",
              "    <tr>\n",
              "      <th>21</th>\n",
              "      <td>22</td>\n",
              "      <td>Sergipe</td>\n",
              "      <td>2 318 822</td>\n",
              "      <td>1,1%</td>\n",
              "      <td>Namíbia (2 280 700)</td>\n",
              "    </tr>\n",
              "    <tr>\n",
              "      <th>22</th>\n",
              "      <td>23</td>\n",
              "      <td>Rondônia</td>\n",
              "      <td>1 796 460</td>\n",
              "      <td>0,8%</td>\n",
              "      <td>Gabão (1 725 000)</td>\n",
              "    </tr>\n",
              "    <tr>\n",
              "      <th>23</th>\n",
              "      <td>24</td>\n",
              "      <td>Tocantins</td>\n",
              "      <td>1 590 248</td>\n",
              "      <td>0,7%</td>\n",
              "      <td>Bahrein (1 359 800)</td>\n",
              "    </tr>\n",
              "    <tr>\n",
              "      <th>24</th>\n",
              "      <td>25</td>\n",
              "      <td>Acre</td>\n",
              "      <td>894 470</td>\n",
              "      <td>0,4%</td>\n",
              "      <td>Fiji (859 178)</td>\n",
              "    </tr>\n",
              "    <tr>\n",
              "      <th>25</th>\n",
              "      <td>26</td>\n",
              "      <td>Amapá</td>\n",
              "      <td>861 773</td>\n",
              "      <td>0,4%</td>\n",
              "      <td>Fiji (859 178)</td>\n",
              "    </tr>\n",
              "    <tr>\n",
              "      <th>26</th>\n",
              "      <td>27</td>\n",
              "      <td>Roraima</td>\n",
              "      <td>631 181</td>\n",
              "      <td>0,3%</td>\n",
              "      <td>Luxemburgo (562 958)</td>\n",
              "    </tr>\n",
              "  </tbody>\n",
              "</table>\n",
              "</div>"
            ],
            "text/plain": [
              "    Posição  ...        País comparável (habitantes)\n",
              "0         1  ...                Espanha (46 439 864)\n",
              "1         2  ...              Sri Lanka (20 675 000)\n",
              "2         3  ...          Países Baixos (16 922 900)\n",
              "3         4  ...                  Chade (14 037 000)\n",
              "4         5  ...                Bolívia (11 410 651)\n",
              "5         6  ...                Bélgica (11 250 659)\n",
              "6         7  ...            Bielorrússia (9 485 300)\n",
              "7         8  ...  Emirados Árabes Unidos (9 157 000)\n",
              "8         9  ...                 Áustria (8 602 112)\n",
              "9        10  ...                  Sérvia (7 114 393)\n",
              "10       11  ...                Paraguai (7 003 406)\n",
              "11       12  ...                Paraguai (7 003 406)\n",
              "12       13  ...                  Líbano (4 168 000)\n",
              "13       14  ...                  Líbano (4 168 000)\n",
              "14       15  ...                  Líbano (4 168 000)\n",
              "15       16  ...                 Uruguai (3 415 866)\n",
              "16       17  ...                 Uruguai (3 415 866)\n",
              "17       18  ...                 Uruguai (3 415 866)\n",
              "18       19  ...                  Kuwait (3 268 431)\n",
              "19       20  ...                Lituânia (2 900 787)\n",
              "20       21  ...                 Jamaica (2 717 991)\n",
              "21       22  ...                 Namíbia (2 280 700)\n",
              "22       23  ...                   Gabão (1 725 000)\n",
              "23       24  ...                 Bahrein (1 359 800)\n",
              "24       25  ...                      Fiji (859 178)\n",
              "25       26  ...                      Fiji (859 178)\n",
              "26       27  ...                Luxemburgo (562 958)\n",
              "\n",
              "[27 rows x 5 columns]"
            ]
          },
          "metadata": {
            "tags": []
          },
          "execution_count": 10
        }
      ]
    },
    {
      "cell_type": "code",
      "metadata": {
        "id": "sJykrxC7lRUC"
      },
      "source": [
        "populacao = retorno[0]"
      ],
      "execution_count": 37,
      "outputs": []
    },
    {
      "cell_type": "code",
      "metadata": {
        "colab": {
          "base_uri": "https://localhost:8080/",
          "height": 886
        },
        "id": "mWA8SGAqledl",
        "outputId": "edd7ebdb-860e-4fbb-d8a2-b3445e854eb6"
      },
      "source": [
        "populacao"
      ],
      "execution_count": 34,
      "outputs": [
        {
          "output_type": "execute_result",
          "data": {
            "text/html": [
              "<div>\n",
              "<style scoped>\n",
              "    .dataframe tbody tr th:only-of-type {\n",
              "        vertical-align: middle;\n",
              "    }\n",
              "\n",
              "    .dataframe tbody tr th {\n",
              "        vertical-align: top;\n",
              "    }\n",
              "\n",
              "    .dataframe thead th {\n",
              "        text-align: right;\n",
              "    }\n",
              "</style>\n",
              "<table border=\"1\" class=\"dataframe\">\n",
              "  <thead>\n",
              "    <tr style=\"text-align: right;\">\n",
              "      <th></th>\n",
              "      <th>Unidade federativa</th>\n",
              "      <th>População</th>\n",
              "      <th>% da pop. total</th>\n",
              "      <th>País comparável (habitantes)</th>\n",
              "    </tr>\n",
              "  </thead>\n",
              "  <tbody>\n",
              "    <tr>\n",
              "      <th>0</th>\n",
              "      <td>São Paulo</td>\n",
              "      <td>46 289 333</td>\n",
              "      <td>21,9%</td>\n",
              "      <td>Espanha (46 439 864)</td>\n",
              "    </tr>\n",
              "    <tr>\n",
              "      <th>1</th>\n",
              "      <td>Minas Gerais</td>\n",
              "      <td>21 292 666</td>\n",
              "      <td>10,1%</td>\n",
              "      <td>Sri Lanka (20 675 000)</td>\n",
              "    </tr>\n",
              "    <tr>\n",
              "      <th>2</th>\n",
              "      <td>Rio de Janeiro</td>\n",
              "      <td>17 366 189</td>\n",
              "      <td>8,2%</td>\n",
              "      <td>Países Baixos (16 922 900)</td>\n",
              "    </tr>\n",
              "    <tr>\n",
              "      <th>3</th>\n",
              "      <td>Bahia</td>\n",
              "      <td>14 930 634</td>\n",
              "      <td>7,1%</td>\n",
              "      <td>Chade (14 037 000)</td>\n",
              "    </tr>\n",
              "    <tr>\n",
              "      <th>4</th>\n",
              "      <td>Paraná</td>\n",
              "      <td>11 516 840</td>\n",
              "      <td>5,4%</td>\n",
              "      <td>Bolívia (11 410 651)</td>\n",
              "    </tr>\n",
              "    <tr>\n",
              "      <th>5</th>\n",
              "      <td>Rio Grande do Sul</td>\n",
              "      <td>11 422 973</td>\n",
              "      <td>5,4%</td>\n",
              "      <td>Bélgica (11 250 659)</td>\n",
              "    </tr>\n",
              "    <tr>\n",
              "      <th>6</th>\n",
              "      <td>Pernambuco</td>\n",
              "      <td>9 616 621</td>\n",
              "      <td>4,5%</td>\n",
              "      <td>Bielorrússia (9 485 300)</td>\n",
              "    </tr>\n",
              "    <tr>\n",
              "      <th>7</th>\n",
              "      <td>Ceará</td>\n",
              "      <td>9 187 103</td>\n",
              "      <td>4,3%</td>\n",
              "      <td>Emirados Árabes Unidos (9 157 000)</td>\n",
              "    </tr>\n",
              "    <tr>\n",
              "      <th>8</th>\n",
              "      <td>Pará</td>\n",
              "      <td>8 690 745</td>\n",
              "      <td>4,1%</td>\n",
              "      <td>Áustria (8 602 112)</td>\n",
              "    </tr>\n",
              "    <tr>\n",
              "      <th>9</th>\n",
              "      <td>Santa Catarina</td>\n",
              "      <td>7 252 502</td>\n",
              "      <td>3,4%</td>\n",
              "      <td>Sérvia (7 114 393)</td>\n",
              "    </tr>\n",
              "    <tr>\n",
              "      <th>10</th>\n",
              "      <td>Maranhão</td>\n",
              "      <td>7 114 598</td>\n",
              "      <td>3,4%</td>\n",
              "      <td>Paraguai (7 003 406)</td>\n",
              "    </tr>\n",
              "    <tr>\n",
              "      <th>11</th>\n",
              "      <td>Goiás</td>\n",
              "      <td>7 113 540</td>\n",
              "      <td>3,4%</td>\n",
              "      <td>Paraguai (7 003 406)</td>\n",
              "    </tr>\n",
              "    <tr>\n",
              "      <th>12</th>\n",
              "      <td>Amazonas</td>\n",
              "      <td>4 207 714</td>\n",
              "      <td>2,0%</td>\n",
              "      <td>Líbano (4 168 000)</td>\n",
              "    </tr>\n",
              "    <tr>\n",
              "      <th>13</th>\n",
              "      <td>Espírito Santo</td>\n",
              "      <td>4 064 052</td>\n",
              "      <td>1,9%</td>\n",
              "      <td>Líbano (4 168 000)</td>\n",
              "    </tr>\n",
              "    <tr>\n",
              "      <th>14</th>\n",
              "      <td>Paraíba</td>\n",
              "      <td>4 039 277</td>\n",
              "      <td>1,9%</td>\n",
              "      <td>Líbano (4 168 000)</td>\n",
              "    </tr>\n",
              "    <tr>\n",
              "      <th>15</th>\n",
              "      <td>Rio Grande do Norte</td>\n",
              "      <td>3 534 165</td>\n",
              "      <td>1,7%</td>\n",
              "      <td>Uruguai (3 415 866)</td>\n",
              "    </tr>\n",
              "    <tr>\n",
              "      <th>16</th>\n",
              "      <td>Mato Grosso</td>\n",
              "      <td>3 526 220</td>\n",
              "      <td>1,7%</td>\n",
              "      <td>Uruguai (3 415 866)</td>\n",
              "    </tr>\n",
              "    <tr>\n",
              "      <th>17</th>\n",
              "      <td>Alagoas</td>\n",
              "      <td>3 351 543</td>\n",
              "      <td>1,6%</td>\n",
              "      <td>Uruguai (3 415 866)</td>\n",
              "    </tr>\n",
              "    <tr>\n",
              "      <th>18</th>\n",
              "      <td>Piauí</td>\n",
              "      <td>3 281 480</td>\n",
              "      <td>1,6%</td>\n",
              "      <td>Kuwait (3 268 431)</td>\n",
              "    </tr>\n",
              "    <tr>\n",
              "      <th>19</th>\n",
              "      <td>Distrito Federal</td>\n",
              "      <td>3 055 149</td>\n",
              "      <td>1,4%</td>\n",
              "      <td>Lituânia (2 900 787)</td>\n",
              "    </tr>\n",
              "    <tr>\n",
              "      <th>20</th>\n",
              "      <td>Mato Grosso do Sul</td>\n",
              "      <td>2 809 394</td>\n",
              "      <td>1,3%</td>\n",
              "      <td>Jamaica (2 717 991)</td>\n",
              "    </tr>\n",
              "    <tr>\n",
              "      <th>21</th>\n",
              "      <td>Sergipe</td>\n",
              "      <td>2 318 822</td>\n",
              "      <td>1,1%</td>\n",
              "      <td>Namíbia (2 280 700)</td>\n",
              "    </tr>\n",
              "    <tr>\n",
              "      <th>22</th>\n",
              "      <td>Rondônia</td>\n",
              "      <td>1 796 460</td>\n",
              "      <td>0,8%</td>\n",
              "      <td>Gabão (1 725 000)</td>\n",
              "    </tr>\n",
              "    <tr>\n",
              "      <th>23</th>\n",
              "      <td>Tocantins</td>\n",
              "      <td>1 590 248</td>\n",
              "      <td>0,7%</td>\n",
              "      <td>Bahrein (1 359 800)</td>\n",
              "    </tr>\n",
              "    <tr>\n",
              "      <th>24</th>\n",
              "      <td>Acre</td>\n",
              "      <td>894 470</td>\n",
              "      <td>0,4%</td>\n",
              "      <td>Fiji (859 178)</td>\n",
              "    </tr>\n",
              "    <tr>\n",
              "      <th>25</th>\n",
              "      <td>Amapá</td>\n",
              "      <td>861 773</td>\n",
              "      <td>0,4%</td>\n",
              "      <td>Fiji (859 178)</td>\n",
              "    </tr>\n",
              "    <tr>\n",
              "      <th>26</th>\n",
              "      <td>Roraima</td>\n",
              "      <td>631 181</td>\n",
              "      <td>0,3%</td>\n",
              "      <td>Luxemburgo (562 958)</td>\n",
              "    </tr>\n",
              "  </tbody>\n",
              "</table>\n",
              "</div>"
            ],
            "text/plain": [
              "     Unidade federativa  ...        País comparável (habitantes)\n",
              "0             São Paulo  ...                Espanha (46 439 864)\n",
              "1          Minas Gerais  ...              Sri Lanka (20 675 000)\n",
              "2        Rio de Janeiro  ...          Países Baixos (16 922 900)\n",
              "3                 Bahia  ...                  Chade (14 037 000)\n",
              "4                Paraná  ...                Bolívia (11 410 651)\n",
              "5     Rio Grande do Sul  ...                Bélgica (11 250 659)\n",
              "6            Pernambuco  ...            Bielorrússia (9 485 300)\n",
              "7                 Ceará  ...  Emirados Árabes Unidos (9 157 000)\n",
              "8                  Pará  ...                 Áustria (8 602 112)\n",
              "9        Santa Catarina  ...                  Sérvia (7 114 393)\n",
              "10             Maranhão  ...                Paraguai (7 003 406)\n",
              "11                Goiás  ...                Paraguai (7 003 406)\n",
              "12             Amazonas  ...                  Líbano (4 168 000)\n",
              "13       Espírito Santo  ...                  Líbano (4 168 000)\n",
              "14              Paraíba  ...                  Líbano (4 168 000)\n",
              "15  Rio Grande do Norte  ...                 Uruguai (3 415 866)\n",
              "16          Mato Grosso  ...                 Uruguai (3 415 866)\n",
              "17              Alagoas  ...                 Uruguai (3 415 866)\n",
              "18                Piauí  ...                  Kuwait (3 268 431)\n",
              "19     Distrito Federal  ...                Lituânia (2 900 787)\n",
              "20   Mato Grosso do Sul  ...                 Jamaica (2 717 991)\n",
              "21              Sergipe  ...                 Namíbia (2 280 700)\n",
              "22             Rondônia  ...                   Gabão (1 725 000)\n",
              "23            Tocantins  ...                 Bahrein (1 359 800)\n",
              "24                 Acre  ...                      Fiji (859 178)\n",
              "25                Amapá  ...                      Fiji (859 178)\n",
              "26              Roraima  ...                Luxemburgo (562 958)\n",
              "\n",
              "[27 rows x 4 columns]"
            ]
          },
          "metadata": {
            "tags": []
          },
          "execution_count": 34
        }
      ]
    },
    {
      "cell_type": "code",
      "metadata": {
        "colab": {
          "base_uri": "https://localhost:8080/"
        },
        "id": "b90V789IlgFh",
        "outputId": "2bbcc6c5-e7be-4275-96a6-1326b8b27428"
      },
      "source": [
        "type(populacao)"
      ],
      "execution_count": 13,
      "outputs": [
        {
          "output_type": "execute_result",
          "data": {
            "text/plain": [
              "pandas.core.frame.DataFrame"
            ]
          },
          "metadata": {
            "tags": []
          },
          "execution_count": 13
        }
      ]
    },
    {
      "cell_type": "markdown",
      "metadata": {
        "id": "jHZkA-74l1SF"
      },
      "source": [
        "**DataFrame**: tabela do Pandas (informalmente)"
      ]
    },
    {
      "cell_type": "markdown",
      "metadata": {
        "id": "Baaw7Hj0t_E5"
      },
      "source": [
        "Ver número de linhas e colunas"
      ]
    },
    {
      "cell_type": "code",
      "metadata": {
        "colab": {
          "base_uri": "https://localhost:8080/"
        },
        "id": "7ETJ4xswlyva",
        "outputId": "a3118420-8bd0-4ea5-99a4-29fe90582b40"
      },
      "source": [
        "populacao.shape"
      ],
      "execution_count": 14,
      "outputs": [
        {
          "output_type": "execute_result",
          "data": {
            "text/plain": [
              "(27, 5)"
            ]
          },
          "metadata": {
            "tags": []
          },
          "execution_count": 14
        }
      ]
    },
    {
      "cell_type": "code",
      "metadata": {
        "colab": {
          "base_uri": "https://localhost:8080/"
        },
        "id": "6BBsHzJ1uH6J",
        "outputId": "f1cf3ba7-1d70-4303-f57e-fd5dff6aa86e"
      },
      "source": [
        "populacao.columns"
      ],
      "execution_count": 15,
      "outputs": [
        {
          "output_type": "execute_result",
          "data": {
            "text/plain": [
              "Index(['Posição', 'Unidade federativa', 'População', '% da pop. total',\n",
              "       'País comparável (habitantes)'],\n",
              "      dtype='object')"
            ]
          },
          "metadata": {
            "tags": []
          },
          "execution_count": 15
        }
      ]
    },
    {
      "cell_type": "markdown",
      "metadata": {
        "id": "dHJJqDIEulfi"
      },
      "source": [
        "##Seleção de colunas"
      ]
    },
    {
      "cell_type": "code",
      "metadata": {
        "colab": {
          "base_uri": "https://localhost:8080/"
        },
        "id": "Ks8myEtfuSx1",
        "outputId": "490e848b-6ba4-4e08-e3ca-606417610a96"
      },
      "source": [
        "populacao['Posição']"
      ],
      "execution_count": 16,
      "outputs": [
        {
          "output_type": "execute_result",
          "data": {
            "text/plain": [
              "0      1\n",
              "1      2\n",
              "2      3\n",
              "3      4\n",
              "4      5\n",
              "5      6\n",
              "6      7\n",
              "7      8\n",
              "8      9\n",
              "9     10\n",
              "10    11\n",
              "11    12\n",
              "12    13\n",
              "13    14\n",
              "14    15\n",
              "15    16\n",
              "16    17\n",
              "17    18\n",
              "18    19\n",
              "19    20\n",
              "20    21\n",
              "21    22\n",
              "22    23\n",
              "23    24\n",
              "24    25\n",
              "25    26\n",
              "26    27\n",
              "Name: Posição, dtype: int64"
            ]
          },
          "metadata": {
            "tags": []
          },
          "execution_count": 16
        }
      ]
    },
    {
      "cell_type": "code",
      "metadata": {
        "colab": {
          "base_uri": "https://localhost:8080/"
        },
        "id": "ZQCjCJREuwkh",
        "outputId": "643da703-d9ef-45fc-dc7a-e8a6a96e96de"
      },
      "source": [
        "type(populacao['Posição'])"
      ],
      "execution_count": 17,
      "outputs": [
        {
          "output_type": "execute_result",
          "data": {
            "text/plain": [
              "pandas.core.series.Series"
            ]
          },
          "metadata": {
            "tags": []
          },
          "execution_count": 17
        }
      ]
    },
    {
      "cell_type": "code",
      "metadata": {
        "colab": {
          "base_uri": "https://localhost:8080/"
        },
        "id": "8MefVATRu30Z",
        "outputId": "acabadab-db30-4640-a0f3-57c787cad506"
      },
      "source": [
        "populacao.Posição"
      ],
      "execution_count": 18,
      "outputs": [
        {
          "output_type": "execute_result",
          "data": {
            "text/plain": [
              "0      1\n",
              "1      2\n",
              "2      3\n",
              "3      4\n",
              "4      5\n",
              "5      6\n",
              "6      7\n",
              "7      8\n",
              "8      9\n",
              "9     10\n",
              "10    11\n",
              "11    12\n",
              "12    13\n",
              "13    14\n",
              "14    15\n",
              "15    16\n",
              "16    17\n",
              "17    18\n",
              "18    19\n",
              "19    20\n",
              "20    21\n",
              "21    22\n",
              "22    23\n",
              "23    24\n",
              "24    25\n",
              "25    26\n",
              "26    27\n",
              "Name: Posição, dtype: int64"
            ]
          },
          "metadata": {
            "tags": []
          },
          "execution_count": 18
        }
      ]
    },
    {
      "cell_type": "code",
      "metadata": {
        "colab": {
          "base_uri": "https://localhost:8080/",
          "height": 886
        },
        "id": "RPSe-zaCu_La",
        "outputId": "bf3e4aa6-5ad1-467b-c170-a5188faa27c5"
      },
      "source": [
        "populacao[['Unidade federativa', 'População']]"
      ],
      "execution_count": 19,
      "outputs": [
        {
          "output_type": "execute_result",
          "data": {
            "text/html": [
              "<div>\n",
              "<style scoped>\n",
              "    .dataframe tbody tr th:only-of-type {\n",
              "        vertical-align: middle;\n",
              "    }\n",
              "\n",
              "    .dataframe tbody tr th {\n",
              "        vertical-align: top;\n",
              "    }\n",
              "\n",
              "    .dataframe thead th {\n",
              "        text-align: right;\n",
              "    }\n",
              "</style>\n",
              "<table border=\"1\" class=\"dataframe\">\n",
              "  <thead>\n",
              "    <tr style=\"text-align: right;\">\n",
              "      <th></th>\n",
              "      <th>Unidade federativa</th>\n",
              "      <th>População</th>\n",
              "    </tr>\n",
              "  </thead>\n",
              "  <tbody>\n",
              "    <tr>\n",
              "      <th>0</th>\n",
              "      <td>São Paulo</td>\n",
              "      <td>46 289 333</td>\n",
              "    </tr>\n",
              "    <tr>\n",
              "      <th>1</th>\n",
              "      <td>Minas Gerais</td>\n",
              "      <td>21 292 666</td>\n",
              "    </tr>\n",
              "    <tr>\n",
              "      <th>2</th>\n",
              "      <td>Rio de Janeiro</td>\n",
              "      <td>17 366 189</td>\n",
              "    </tr>\n",
              "    <tr>\n",
              "      <th>3</th>\n",
              "      <td>Bahia</td>\n",
              "      <td>14 930 634</td>\n",
              "    </tr>\n",
              "    <tr>\n",
              "      <th>4</th>\n",
              "      <td>Paraná</td>\n",
              "      <td>11 516 840</td>\n",
              "    </tr>\n",
              "    <tr>\n",
              "      <th>5</th>\n",
              "      <td>Rio Grande do Sul</td>\n",
              "      <td>11 422 973</td>\n",
              "    </tr>\n",
              "    <tr>\n",
              "      <th>6</th>\n",
              "      <td>Pernambuco</td>\n",
              "      <td>9 616 621</td>\n",
              "    </tr>\n",
              "    <tr>\n",
              "      <th>7</th>\n",
              "      <td>Ceará</td>\n",
              "      <td>9 187 103</td>\n",
              "    </tr>\n",
              "    <tr>\n",
              "      <th>8</th>\n",
              "      <td>Pará</td>\n",
              "      <td>8 690 745</td>\n",
              "    </tr>\n",
              "    <tr>\n",
              "      <th>9</th>\n",
              "      <td>Santa Catarina</td>\n",
              "      <td>7 252 502</td>\n",
              "    </tr>\n",
              "    <tr>\n",
              "      <th>10</th>\n",
              "      <td>Maranhão</td>\n",
              "      <td>7 114 598</td>\n",
              "    </tr>\n",
              "    <tr>\n",
              "      <th>11</th>\n",
              "      <td>Goiás</td>\n",
              "      <td>7 113 540</td>\n",
              "    </tr>\n",
              "    <tr>\n",
              "      <th>12</th>\n",
              "      <td>Amazonas</td>\n",
              "      <td>4 207 714</td>\n",
              "    </tr>\n",
              "    <tr>\n",
              "      <th>13</th>\n",
              "      <td>Espírito Santo</td>\n",
              "      <td>4 064 052</td>\n",
              "    </tr>\n",
              "    <tr>\n",
              "      <th>14</th>\n",
              "      <td>Paraíba</td>\n",
              "      <td>4 039 277</td>\n",
              "    </tr>\n",
              "    <tr>\n",
              "      <th>15</th>\n",
              "      <td>Rio Grande do Norte</td>\n",
              "      <td>3 534 165</td>\n",
              "    </tr>\n",
              "    <tr>\n",
              "      <th>16</th>\n",
              "      <td>Mato Grosso</td>\n",
              "      <td>3 526 220</td>\n",
              "    </tr>\n",
              "    <tr>\n",
              "      <th>17</th>\n",
              "      <td>Alagoas</td>\n",
              "      <td>3 351 543</td>\n",
              "    </tr>\n",
              "    <tr>\n",
              "      <th>18</th>\n",
              "      <td>Piauí</td>\n",
              "      <td>3 281 480</td>\n",
              "    </tr>\n",
              "    <tr>\n",
              "      <th>19</th>\n",
              "      <td>Distrito Federal</td>\n",
              "      <td>3 055 149</td>\n",
              "    </tr>\n",
              "    <tr>\n",
              "      <th>20</th>\n",
              "      <td>Mato Grosso do Sul</td>\n",
              "      <td>2 809 394</td>\n",
              "    </tr>\n",
              "    <tr>\n",
              "      <th>21</th>\n",
              "      <td>Sergipe</td>\n",
              "      <td>2 318 822</td>\n",
              "    </tr>\n",
              "    <tr>\n",
              "      <th>22</th>\n",
              "      <td>Rondônia</td>\n",
              "      <td>1 796 460</td>\n",
              "    </tr>\n",
              "    <tr>\n",
              "      <th>23</th>\n",
              "      <td>Tocantins</td>\n",
              "      <td>1 590 248</td>\n",
              "    </tr>\n",
              "    <tr>\n",
              "      <th>24</th>\n",
              "      <td>Acre</td>\n",
              "      <td>894 470</td>\n",
              "    </tr>\n",
              "    <tr>\n",
              "      <th>25</th>\n",
              "      <td>Amapá</td>\n",
              "      <td>861 773</td>\n",
              "    </tr>\n",
              "    <tr>\n",
              "      <th>26</th>\n",
              "      <td>Roraima</td>\n",
              "      <td>631 181</td>\n",
              "    </tr>\n",
              "  </tbody>\n",
              "</table>\n",
              "</div>"
            ],
            "text/plain": [
              "     Unidade federativa   População\n",
              "0             São Paulo  46 289 333\n",
              "1          Minas Gerais  21 292 666\n",
              "2        Rio de Janeiro  17 366 189\n",
              "3                 Bahia  14 930 634\n",
              "4                Paraná  11 516 840\n",
              "5     Rio Grande do Sul  11 422 973\n",
              "6            Pernambuco   9 616 621\n",
              "7                 Ceará   9 187 103\n",
              "8                  Pará   8 690 745\n",
              "9        Santa Catarina   7 252 502\n",
              "10             Maranhão   7 114 598\n",
              "11                Goiás   7 113 540\n",
              "12             Amazonas   4 207 714\n",
              "13       Espírito Santo   4 064 052\n",
              "14              Paraíba   4 039 277\n",
              "15  Rio Grande do Norte   3 534 165\n",
              "16          Mato Grosso   3 526 220\n",
              "17              Alagoas   3 351 543\n",
              "18                Piauí   3 281 480\n",
              "19     Distrito Federal   3 055 149\n",
              "20   Mato Grosso do Sul   2 809 394\n",
              "21              Sergipe   2 318 822\n",
              "22             Rondônia   1 796 460\n",
              "23            Tocantins   1 590 248\n",
              "24                 Acre     894 470\n",
              "25                Amapá     861 773\n",
              "26              Roraima     631 181"
            ]
          },
          "metadata": {
            "tags": []
          },
          "execution_count": 19
        }
      ]
    },
    {
      "cell_type": "code",
      "metadata": {
        "colab": {
          "base_uri": "https://localhost:8080/",
          "height": 886
        },
        "id": "LHqwEfKzvZLA",
        "outputId": "9d535683-a443-41ff-9062-1cb757d7c505"
      },
      "source": [
        "populacao"
      ],
      "execution_count": 20,
      "outputs": [
        {
          "output_type": "execute_result",
          "data": {
            "text/html": [
              "<div>\n",
              "<style scoped>\n",
              "    .dataframe tbody tr th:only-of-type {\n",
              "        vertical-align: middle;\n",
              "    }\n",
              "\n",
              "    .dataframe tbody tr th {\n",
              "        vertical-align: top;\n",
              "    }\n",
              "\n",
              "    .dataframe thead th {\n",
              "        text-align: right;\n",
              "    }\n",
              "</style>\n",
              "<table border=\"1\" class=\"dataframe\">\n",
              "  <thead>\n",
              "    <tr style=\"text-align: right;\">\n",
              "      <th></th>\n",
              "      <th>Posição</th>\n",
              "      <th>Unidade federativa</th>\n",
              "      <th>População</th>\n",
              "      <th>% da pop. total</th>\n",
              "      <th>País comparável (habitantes)</th>\n",
              "    </tr>\n",
              "  </thead>\n",
              "  <tbody>\n",
              "    <tr>\n",
              "      <th>0</th>\n",
              "      <td>1</td>\n",
              "      <td>São Paulo</td>\n",
              "      <td>46 289 333</td>\n",
              "      <td>21,9%</td>\n",
              "      <td>Espanha (46 439 864)</td>\n",
              "    </tr>\n",
              "    <tr>\n",
              "      <th>1</th>\n",
              "      <td>2</td>\n",
              "      <td>Minas Gerais</td>\n",
              "      <td>21 292 666</td>\n",
              "      <td>10,1%</td>\n",
              "      <td>Sri Lanka (20 675 000)</td>\n",
              "    </tr>\n",
              "    <tr>\n",
              "      <th>2</th>\n",
              "      <td>3</td>\n",
              "      <td>Rio de Janeiro</td>\n",
              "      <td>17 366 189</td>\n",
              "      <td>8,2%</td>\n",
              "      <td>Países Baixos (16 922 900)</td>\n",
              "    </tr>\n",
              "    <tr>\n",
              "      <th>3</th>\n",
              "      <td>4</td>\n",
              "      <td>Bahia</td>\n",
              "      <td>14 930 634</td>\n",
              "      <td>7,1%</td>\n",
              "      <td>Chade (14 037 000)</td>\n",
              "    </tr>\n",
              "    <tr>\n",
              "      <th>4</th>\n",
              "      <td>5</td>\n",
              "      <td>Paraná</td>\n",
              "      <td>11 516 840</td>\n",
              "      <td>5,4%</td>\n",
              "      <td>Bolívia (11 410 651)</td>\n",
              "    </tr>\n",
              "    <tr>\n",
              "      <th>5</th>\n",
              "      <td>6</td>\n",
              "      <td>Rio Grande do Sul</td>\n",
              "      <td>11 422 973</td>\n",
              "      <td>5,4%</td>\n",
              "      <td>Bélgica (11 250 659)</td>\n",
              "    </tr>\n",
              "    <tr>\n",
              "      <th>6</th>\n",
              "      <td>7</td>\n",
              "      <td>Pernambuco</td>\n",
              "      <td>9 616 621</td>\n",
              "      <td>4,5%</td>\n",
              "      <td>Bielorrússia (9 485 300)</td>\n",
              "    </tr>\n",
              "    <tr>\n",
              "      <th>7</th>\n",
              "      <td>8</td>\n",
              "      <td>Ceará</td>\n",
              "      <td>9 187 103</td>\n",
              "      <td>4,3%</td>\n",
              "      <td>Emirados Árabes Unidos (9 157 000)</td>\n",
              "    </tr>\n",
              "    <tr>\n",
              "      <th>8</th>\n",
              "      <td>9</td>\n",
              "      <td>Pará</td>\n",
              "      <td>8 690 745</td>\n",
              "      <td>4,1%</td>\n",
              "      <td>Áustria (8 602 112)</td>\n",
              "    </tr>\n",
              "    <tr>\n",
              "      <th>9</th>\n",
              "      <td>10</td>\n",
              "      <td>Santa Catarina</td>\n",
              "      <td>7 252 502</td>\n",
              "      <td>3,4%</td>\n",
              "      <td>Sérvia (7 114 393)</td>\n",
              "    </tr>\n",
              "    <tr>\n",
              "      <th>10</th>\n",
              "      <td>11</td>\n",
              "      <td>Maranhão</td>\n",
              "      <td>7 114 598</td>\n",
              "      <td>3,4%</td>\n",
              "      <td>Paraguai (7 003 406)</td>\n",
              "    </tr>\n",
              "    <tr>\n",
              "      <th>11</th>\n",
              "      <td>12</td>\n",
              "      <td>Goiás</td>\n",
              "      <td>7 113 540</td>\n",
              "      <td>3,4%</td>\n",
              "      <td>Paraguai (7 003 406)</td>\n",
              "    </tr>\n",
              "    <tr>\n",
              "      <th>12</th>\n",
              "      <td>13</td>\n",
              "      <td>Amazonas</td>\n",
              "      <td>4 207 714</td>\n",
              "      <td>2,0%</td>\n",
              "      <td>Líbano (4 168 000)</td>\n",
              "    </tr>\n",
              "    <tr>\n",
              "      <th>13</th>\n",
              "      <td>14</td>\n",
              "      <td>Espírito Santo</td>\n",
              "      <td>4 064 052</td>\n",
              "      <td>1,9%</td>\n",
              "      <td>Líbano (4 168 000)</td>\n",
              "    </tr>\n",
              "    <tr>\n",
              "      <th>14</th>\n",
              "      <td>15</td>\n",
              "      <td>Paraíba</td>\n",
              "      <td>4 039 277</td>\n",
              "      <td>1,9%</td>\n",
              "      <td>Líbano (4 168 000)</td>\n",
              "    </tr>\n",
              "    <tr>\n",
              "      <th>15</th>\n",
              "      <td>16</td>\n",
              "      <td>Rio Grande do Norte</td>\n",
              "      <td>3 534 165</td>\n",
              "      <td>1,7%</td>\n",
              "      <td>Uruguai (3 415 866)</td>\n",
              "    </tr>\n",
              "    <tr>\n",
              "      <th>16</th>\n",
              "      <td>17</td>\n",
              "      <td>Mato Grosso</td>\n",
              "      <td>3 526 220</td>\n",
              "      <td>1,7%</td>\n",
              "      <td>Uruguai (3 415 866)</td>\n",
              "    </tr>\n",
              "    <tr>\n",
              "      <th>17</th>\n",
              "      <td>18</td>\n",
              "      <td>Alagoas</td>\n",
              "      <td>3 351 543</td>\n",
              "      <td>1,6%</td>\n",
              "      <td>Uruguai (3 415 866)</td>\n",
              "    </tr>\n",
              "    <tr>\n",
              "      <th>18</th>\n",
              "      <td>19</td>\n",
              "      <td>Piauí</td>\n",
              "      <td>3 281 480</td>\n",
              "      <td>1,6%</td>\n",
              "      <td>Kuwait (3 268 431)</td>\n",
              "    </tr>\n",
              "    <tr>\n",
              "      <th>19</th>\n",
              "      <td>20</td>\n",
              "      <td>Distrito Federal</td>\n",
              "      <td>3 055 149</td>\n",
              "      <td>1,4%</td>\n",
              "      <td>Lituânia (2 900 787)</td>\n",
              "    </tr>\n",
              "    <tr>\n",
              "      <th>20</th>\n",
              "      <td>21</td>\n",
              "      <td>Mato Grosso do Sul</td>\n",
              "      <td>2 809 394</td>\n",
              "      <td>1,3%</td>\n",
              "      <td>Jamaica (2 717 991)</td>\n",
              "    </tr>\n",
              "    <tr>\n",
              "      <th>21</th>\n",
              "      <td>22</td>\n",
              "      <td>Sergipe</td>\n",
              "      <td>2 318 822</td>\n",
              "      <td>1,1%</td>\n",
              "      <td>Namíbia (2 280 700)</td>\n",
              "    </tr>\n",
              "    <tr>\n",
              "      <th>22</th>\n",
              "      <td>23</td>\n",
              "      <td>Rondônia</td>\n",
              "      <td>1 796 460</td>\n",
              "      <td>0,8%</td>\n",
              "      <td>Gabão (1 725 000)</td>\n",
              "    </tr>\n",
              "    <tr>\n",
              "      <th>23</th>\n",
              "      <td>24</td>\n",
              "      <td>Tocantins</td>\n",
              "      <td>1 590 248</td>\n",
              "      <td>0,7%</td>\n",
              "      <td>Bahrein (1 359 800)</td>\n",
              "    </tr>\n",
              "    <tr>\n",
              "      <th>24</th>\n",
              "      <td>25</td>\n",
              "      <td>Acre</td>\n",
              "      <td>894 470</td>\n",
              "      <td>0,4%</td>\n",
              "      <td>Fiji (859 178)</td>\n",
              "    </tr>\n",
              "    <tr>\n",
              "      <th>25</th>\n",
              "      <td>26</td>\n",
              "      <td>Amapá</td>\n",
              "      <td>861 773</td>\n",
              "      <td>0,4%</td>\n",
              "      <td>Fiji (859 178)</td>\n",
              "    </tr>\n",
              "    <tr>\n",
              "      <th>26</th>\n",
              "      <td>27</td>\n",
              "      <td>Roraima</td>\n",
              "      <td>631 181</td>\n",
              "      <td>0,3%</td>\n",
              "      <td>Luxemburgo (562 958)</td>\n",
              "    </tr>\n",
              "  </tbody>\n",
              "</table>\n",
              "</div>"
            ],
            "text/plain": [
              "    Posição  ...        País comparável (habitantes)\n",
              "0         1  ...                Espanha (46 439 864)\n",
              "1         2  ...              Sri Lanka (20 675 000)\n",
              "2         3  ...          Países Baixos (16 922 900)\n",
              "3         4  ...                  Chade (14 037 000)\n",
              "4         5  ...                Bolívia (11 410 651)\n",
              "5         6  ...                Bélgica (11 250 659)\n",
              "6         7  ...            Bielorrússia (9 485 300)\n",
              "7         8  ...  Emirados Árabes Unidos (9 157 000)\n",
              "8         9  ...                 Áustria (8 602 112)\n",
              "9        10  ...                  Sérvia (7 114 393)\n",
              "10       11  ...                Paraguai (7 003 406)\n",
              "11       12  ...                Paraguai (7 003 406)\n",
              "12       13  ...                  Líbano (4 168 000)\n",
              "13       14  ...                  Líbano (4 168 000)\n",
              "14       15  ...                  Líbano (4 168 000)\n",
              "15       16  ...                 Uruguai (3 415 866)\n",
              "16       17  ...                 Uruguai (3 415 866)\n",
              "17       18  ...                 Uruguai (3 415 866)\n",
              "18       19  ...                  Kuwait (3 268 431)\n",
              "19       20  ...                Lituânia (2 900 787)\n",
              "20       21  ...                 Jamaica (2 717 991)\n",
              "21       22  ...                 Namíbia (2 280 700)\n",
              "22       23  ...                   Gabão (1 725 000)\n",
              "23       24  ...                 Bahrein (1 359 800)\n",
              "24       25  ...                      Fiji (859 178)\n",
              "25       26  ...                      Fiji (859 178)\n",
              "26       27  ...                Luxemburgo (562 958)\n",
              "\n",
              "[27 rows x 5 columns]"
            ]
          },
          "metadata": {
            "tags": []
          },
          "execution_count": 20
        }
      ]
    },
    {
      "cell_type": "markdown",
      "metadata": {
        "id": "M_RFgNriv0KT"
      },
      "source": [
        "##Ação: deixar somente as colunas \"interessantes\", aquelas que tem mais significado."
      ]
    },
    {
      "cell_type": "markdown",
      "metadata": {
        "id": "_U4r7BakwF2-"
      },
      "source": [
        "Retirar a coluna Posição"
      ]
    },
    {
      "cell_type": "code",
      "metadata": {
        "id": "cNGA89jXvjaz"
      },
      "source": [
        "populacao1 = populacao[['Unidade federativa',\t'População',\t'% da pop. total',\t'País comparável (habitantes)']]"
      ],
      "execution_count": 23,
      "outputs": []
    },
    {
      "cell_type": "code",
      "metadata": {
        "colab": {
          "base_uri": "https://localhost:8080/",
          "height": 886
        },
        "id": "rPqYoF0vxgEP",
        "outputId": "0c51a47a-ee57-4a4e-85b7-6d82869a94b5"
      },
      "source": [
        "populacao1"
      ],
      "execution_count": 24,
      "outputs": [
        {
          "output_type": "execute_result",
          "data": {
            "text/html": [
              "<div>\n",
              "<style scoped>\n",
              "    .dataframe tbody tr th:only-of-type {\n",
              "        vertical-align: middle;\n",
              "    }\n",
              "\n",
              "    .dataframe tbody tr th {\n",
              "        vertical-align: top;\n",
              "    }\n",
              "\n",
              "    .dataframe thead th {\n",
              "        text-align: right;\n",
              "    }\n",
              "</style>\n",
              "<table border=\"1\" class=\"dataframe\">\n",
              "  <thead>\n",
              "    <tr style=\"text-align: right;\">\n",
              "      <th></th>\n",
              "      <th>Unidade federativa</th>\n",
              "      <th>População</th>\n",
              "      <th>% da pop. total</th>\n",
              "      <th>País comparável (habitantes)</th>\n",
              "    </tr>\n",
              "  </thead>\n",
              "  <tbody>\n",
              "    <tr>\n",
              "      <th>0</th>\n",
              "      <td>São Paulo</td>\n",
              "      <td>46 289 333</td>\n",
              "      <td>21,9%</td>\n",
              "      <td>Espanha (46 439 864)</td>\n",
              "    </tr>\n",
              "    <tr>\n",
              "      <th>1</th>\n",
              "      <td>Minas Gerais</td>\n",
              "      <td>21 292 666</td>\n",
              "      <td>10,1%</td>\n",
              "      <td>Sri Lanka (20 675 000)</td>\n",
              "    </tr>\n",
              "    <tr>\n",
              "      <th>2</th>\n",
              "      <td>Rio de Janeiro</td>\n",
              "      <td>17 366 189</td>\n",
              "      <td>8,2%</td>\n",
              "      <td>Países Baixos (16 922 900)</td>\n",
              "    </tr>\n",
              "    <tr>\n",
              "      <th>3</th>\n",
              "      <td>Bahia</td>\n",
              "      <td>14 930 634</td>\n",
              "      <td>7,1%</td>\n",
              "      <td>Chade (14 037 000)</td>\n",
              "    </tr>\n",
              "    <tr>\n",
              "      <th>4</th>\n",
              "      <td>Paraná</td>\n",
              "      <td>11 516 840</td>\n",
              "      <td>5,4%</td>\n",
              "      <td>Bolívia (11 410 651)</td>\n",
              "    </tr>\n",
              "    <tr>\n",
              "      <th>5</th>\n",
              "      <td>Rio Grande do Sul</td>\n",
              "      <td>11 422 973</td>\n",
              "      <td>5,4%</td>\n",
              "      <td>Bélgica (11 250 659)</td>\n",
              "    </tr>\n",
              "    <tr>\n",
              "      <th>6</th>\n",
              "      <td>Pernambuco</td>\n",
              "      <td>9 616 621</td>\n",
              "      <td>4,5%</td>\n",
              "      <td>Bielorrússia (9 485 300)</td>\n",
              "    </tr>\n",
              "    <tr>\n",
              "      <th>7</th>\n",
              "      <td>Ceará</td>\n",
              "      <td>9 187 103</td>\n",
              "      <td>4,3%</td>\n",
              "      <td>Emirados Árabes Unidos (9 157 000)</td>\n",
              "    </tr>\n",
              "    <tr>\n",
              "      <th>8</th>\n",
              "      <td>Pará</td>\n",
              "      <td>8 690 745</td>\n",
              "      <td>4,1%</td>\n",
              "      <td>Áustria (8 602 112)</td>\n",
              "    </tr>\n",
              "    <tr>\n",
              "      <th>9</th>\n",
              "      <td>Santa Catarina</td>\n",
              "      <td>7 252 502</td>\n",
              "      <td>3,4%</td>\n",
              "      <td>Sérvia (7 114 393)</td>\n",
              "    </tr>\n",
              "    <tr>\n",
              "      <th>10</th>\n",
              "      <td>Maranhão</td>\n",
              "      <td>7 114 598</td>\n",
              "      <td>3,4%</td>\n",
              "      <td>Paraguai (7 003 406)</td>\n",
              "    </tr>\n",
              "    <tr>\n",
              "      <th>11</th>\n",
              "      <td>Goiás</td>\n",
              "      <td>7 113 540</td>\n",
              "      <td>3,4%</td>\n",
              "      <td>Paraguai (7 003 406)</td>\n",
              "    </tr>\n",
              "    <tr>\n",
              "      <th>12</th>\n",
              "      <td>Amazonas</td>\n",
              "      <td>4 207 714</td>\n",
              "      <td>2,0%</td>\n",
              "      <td>Líbano (4 168 000)</td>\n",
              "    </tr>\n",
              "    <tr>\n",
              "      <th>13</th>\n",
              "      <td>Espírito Santo</td>\n",
              "      <td>4 064 052</td>\n",
              "      <td>1,9%</td>\n",
              "      <td>Líbano (4 168 000)</td>\n",
              "    </tr>\n",
              "    <tr>\n",
              "      <th>14</th>\n",
              "      <td>Paraíba</td>\n",
              "      <td>4 039 277</td>\n",
              "      <td>1,9%</td>\n",
              "      <td>Líbano (4 168 000)</td>\n",
              "    </tr>\n",
              "    <tr>\n",
              "      <th>15</th>\n",
              "      <td>Rio Grande do Norte</td>\n",
              "      <td>3 534 165</td>\n",
              "      <td>1,7%</td>\n",
              "      <td>Uruguai (3 415 866)</td>\n",
              "    </tr>\n",
              "    <tr>\n",
              "      <th>16</th>\n",
              "      <td>Mato Grosso</td>\n",
              "      <td>3 526 220</td>\n",
              "      <td>1,7%</td>\n",
              "      <td>Uruguai (3 415 866)</td>\n",
              "    </tr>\n",
              "    <tr>\n",
              "      <th>17</th>\n",
              "      <td>Alagoas</td>\n",
              "      <td>3 351 543</td>\n",
              "      <td>1,6%</td>\n",
              "      <td>Uruguai (3 415 866)</td>\n",
              "    </tr>\n",
              "    <tr>\n",
              "      <th>18</th>\n",
              "      <td>Piauí</td>\n",
              "      <td>3 281 480</td>\n",
              "      <td>1,6%</td>\n",
              "      <td>Kuwait (3 268 431)</td>\n",
              "    </tr>\n",
              "    <tr>\n",
              "      <th>19</th>\n",
              "      <td>Distrito Federal</td>\n",
              "      <td>3 055 149</td>\n",
              "      <td>1,4%</td>\n",
              "      <td>Lituânia (2 900 787)</td>\n",
              "    </tr>\n",
              "    <tr>\n",
              "      <th>20</th>\n",
              "      <td>Mato Grosso do Sul</td>\n",
              "      <td>2 809 394</td>\n",
              "      <td>1,3%</td>\n",
              "      <td>Jamaica (2 717 991)</td>\n",
              "    </tr>\n",
              "    <tr>\n",
              "      <th>21</th>\n",
              "      <td>Sergipe</td>\n",
              "      <td>2 318 822</td>\n",
              "      <td>1,1%</td>\n",
              "      <td>Namíbia (2 280 700)</td>\n",
              "    </tr>\n",
              "    <tr>\n",
              "      <th>22</th>\n",
              "      <td>Rondônia</td>\n",
              "      <td>1 796 460</td>\n",
              "      <td>0,8%</td>\n",
              "      <td>Gabão (1 725 000)</td>\n",
              "    </tr>\n",
              "    <tr>\n",
              "      <th>23</th>\n",
              "      <td>Tocantins</td>\n",
              "      <td>1 590 248</td>\n",
              "      <td>0,7%</td>\n",
              "      <td>Bahrein (1 359 800)</td>\n",
              "    </tr>\n",
              "    <tr>\n",
              "      <th>24</th>\n",
              "      <td>Acre</td>\n",
              "      <td>894 470</td>\n",
              "      <td>0,4%</td>\n",
              "      <td>Fiji (859 178)</td>\n",
              "    </tr>\n",
              "    <tr>\n",
              "      <th>25</th>\n",
              "      <td>Amapá</td>\n",
              "      <td>861 773</td>\n",
              "      <td>0,4%</td>\n",
              "      <td>Fiji (859 178)</td>\n",
              "    </tr>\n",
              "    <tr>\n",
              "      <th>26</th>\n",
              "      <td>Roraima</td>\n",
              "      <td>631 181</td>\n",
              "      <td>0,3%</td>\n",
              "      <td>Luxemburgo (562 958)</td>\n",
              "    </tr>\n",
              "  </tbody>\n",
              "</table>\n",
              "</div>"
            ],
            "text/plain": [
              "     Unidade federativa  ...        País comparável (habitantes)\n",
              "0             São Paulo  ...                Espanha (46 439 864)\n",
              "1          Minas Gerais  ...              Sri Lanka (20 675 000)\n",
              "2        Rio de Janeiro  ...          Países Baixos (16 922 900)\n",
              "3                 Bahia  ...                  Chade (14 037 000)\n",
              "4                Paraná  ...                Bolívia (11 410 651)\n",
              "5     Rio Grande do Sul  ...                Bélgica (11 250 659)\n",
              "6            Pernambuco  ...            Bielorrússia (9 485 300)\n",
              "7                 Ceará  ...  Emirados Árabes Unidos (9 157 000)\n",
              "8                  Pará  ...                 Áustria (8 602 112)\n",
              "9        Santa Catarina  ...                  Sérvia (7 114 393)\n",
              "10             Maranhão  ...                Paraguai (7 003 406)\n",
              "11                Goiás  ...                Paraguai (7 003 406)\n",
              "12             Amazonas  ...                  Líbano (4 168 000)\n",
              "13       Espírito Santo  ...                  Líbano (4 168 000)\n",
              "14              Paraíba  ...                  Líbano (4 168 000)\n",
              "15  Rio Grande do Norte  ...                 Uruguai (3 415 866)\n",
              "16          Mato Grosso  ...                 Uruguai (3 415 866)\n",
              "17              Alagoas  ...                 Uruguai (3 415 866)\n",
              "18                Piauí  ...                  Kuwait (3 268 431)\n",
              "19     Distrito Federal  ...                Lituânia (2 900 787)\n",
              "20   Mato Grosso do Sul  ...                 Jamaica (2 717 991)\n",
              "21              Sergipe  ...                 Namíbia (2 280 700)\n",
              "22             Rondônia  ...                   Gabão (1 725 000)\n",
              "23            Tocantins  ...                 Bahrein (1 359 800)\n",
              "24                 Acre  ...                      Fiji (859 178)\n",
              "25                Amapá  ...                      Fiji (859 178)\n",
              "26              Roraima  ...                Luxemburgo (562 958)\n",
              "\n",
              "[27 rows x 4 columns]"
            ]
          },
          "metadata": {
            "tags": []
          },
          "execution_count": 24
        }
      ]
    },
    {
      "cell_type": "markdown",
      "metadata": {
        "id": "3o3nrju1yTpT"
      },
      "source": [
        "Axis no drop: 0 remove linha e 1 remove coluna\r\n",
        "\r\n",
        "**Obs.**: Não altera original."
      ]
    },
    {
      "cell_type": "code",
      "metadata": {
        "id": "bDABFpyXwcGB"
      },
      "source": [
        "populacao.drop('Posição', axis=1, inplace=True)"
      ],
      "execution_count": 38,
      "outputs": []
    },
    {
      "cell_type": "code",
      "metadata": {
        "colab": {
          "base_uri": "https://localhost:8080/",
          "height": 886
        },
        "id": "FEJLg-pfykET",
        "outputId": "6a72437d-9451-41de-eb1f-f19a0c121107"
      },
      "source": [
        "populacao"
      ],
      "execution_count": 30,
      "outputs": [
        {
          "output_type": "execute_result",
          "data": {
            "text/html": [
              "<div>\n",
              "<style scoped>\n",
              "    .dataframe tbody tr th:only-of-type {\n",
              "        vertical-align: middle;\n",
              "    }\n",
              "\n",
              "    .dataframe tbody tr th {\n",
              "        vertical-align: top;\n",
              "    }\n",
              "\n",
              "    .dataframe thead th {\n",
              "        text-align: right;\n",
              "    }\n",
              "</style>\n",
              "<table border=\"1\" class=\"dataframe\">\n",
              "  <thead>\n",
              "    <tr style=\"text-align: right;\">\n",
              "      <th></th>\n",
              "      <th>Unidade federativa</th>\n",
              "      <th>População</th>\n",
              "      <th>% da pop. total</th>\n",
              "      <th>País comparável (habitantes)</th>\n",
              "    </tr>\n",
              "  </thead>\n",
              "  <tbody>\n",
              "    <tr>\n",
              "      <th>0</th>\n",
              "      <td>São Paulo</td>\n",
              "      <td>46 289 333</td>\n",
              "      <td>21,9%</td>\n",
              "      <td>Espanha (46 439 864)</td>\n",
              "    </tr>\n",
              "    <tr>\n",
              "      <th>1</th>\n",
              "      <td>Minas Gerais</td>\n",
              "      <td>21 292 666</td>\n",
              "      <td>10,1%</td>\n",
              "      <td>Sri Lanka (20 675 000)</td>\n",
              "    </tr>\n",
              "    <tr>\n",
              "      <th>2</th>\n",
              "      <td>Rio de Janeiro</td>\n",
              "      <td>17 366 189</td>\n",
              "      <td>8,2%</td>\n",
              "      <td>Países Baixos (16 922 900)</td>\n",
              "    </tr>\n",
              "    <tr>\n",
              "      <th>3</th>\n",
              "      <td>Bahia</td>\n",
              "      <td>14 930 634</td>\n",
              "      <td>7,1%</td>\n",
              "      <td>Chade (14 037 000)</td>\n",
              "    </tr>\n",
              "    <tr>\n",
              "      <th>4</th>\n",
              "      <td>Paraná</td>\n",
              "      <td>11 516 840</td>\n",
              "      <td>5,4%</td>\n",
              "      <td>Bolívia (11 410 651)</td>\n",
              "    </tr>\n",
              "    <tr>\n",
              "      <th>5</th>\n",
              "      <td>Rio Grande do Sul</td>\n",
              "      <td>11 422 973</td>\n",
              "      <td>5,4%</td>\n",
              "      <td>Bélgica (11 250 659)</td>\n",
              "    </tr>\n",
              "    <tr>\n",
              "      <th>6</th>\n",
              "      <td>Pernambuco</td>\n",
              "      <td>9 616 621</td>\n",
              "      <td>4,5%</td>\n",
              "      <td>Bielorrússia (9 485 300)</td>\n",
              "    </tr>\n",
              "    <tr>\n",
              "      <th>7</th>\n",
              "      <td>Ceará</td>\n",
              "      <td>9 187 103</td>\n",
              "      <td>4,3%</td>\n",
              "      <td>Emirados Árabes Unidos (9 157 000)</td>\n",
              "    </tr>\n",
              "    <tr>\n",
              "      <th>8</th>\n",
              "      <td>Pará</td>\n",
              "      <td>8 690 745</td>\n",
              "      <td>4,1%</td>\n",
              "      <td>Áustria (8 602 112)</td>\n",
              "    </tr>\n",
              "    <tr>\n",
              "      <th>9</th>\n",
              "      <td>Santa Catarina</td>\n",
              "      <td>7 252 502</td>\n",
              "      <td>3,4%</td>\n",
              "      <td>Sérvia (7 114 393)</td>\n",
              "    </tr>\n",
              "    <tr>\n",
              "      <th>10</th>\n",
              "      <td>Maranhão</td>\n",
              "      <td>7 114 598</td>\n",
              "      <td>3,4%</td>\n",
              "      <td>Paraguai (7 003 406)</td>\n",
              "    </tr>\n",
              "    <tr>\n",
              "      <th>11</th>\n",
              "      <td>Goiás</td>\n",
              "      <td>7 113 540</td>\n",
              "      <td>3,4%</td>\n",
              "      <td>Paraguai (7 003 406)</td>\n",
              "    </tr>\n",
              "    <tr>\n",
              "      <th>12</th>\n",
              "      <td>Amazonas</td>\n",
              "      <td>4 207 714</td>\n",
              "      <td>2,0%</td>\n",
              "      <td>Líbano (4 168 000)</td>\n",
              "    </tr>\n",
              "    <tr>\n",
              "      <th>13</th>\n",
              "      <td>Espírito Santo</td>\n",
              "      <td>4 064 052</td>\n",
              "      <td>1,9%</td>\n",
              "      <td>Líbano (4 168 000)</td>\n",
              "    </tr>\n",
              "    <tr>\n",
              "      <th>14</th>\n",
              "      <td>Paraíba</td>\n",
              "      <td>4 039 277</td>\n",
              "      <td>1,9%</td>\n",
              "      <td>Líbano (4 168 000)</td>\n",
              "    </tr>\n",
              "    <tr>\n",
              "      <th>15</th>\n",
              "      <td>Rio Grande do Norte</td>\n",
              "      <td>3 534 165</td>\n",
              "      <td>1,7%</td>\n",
              "      <td>Uruguai (3 415 866)</td>\n",
              "    </tr>\n",
              "    <tr>\n",
              "      <th>16</th>\n",
              "      <td>Mato Grosso</td>\n",
              "      <td>3 526 220</td>\n",
              "      <td>1,7%</td>\n",
              "      <td>Uruguai (3 415 866)</td>\n",
              "    </tr>\n",
              "    <tr>\n",
              "      <th>17</th>\n",
              "      <td>Alagoas</td>\n",
              "      <td>3 351 543</td>\n",
              "      <td>1,6%</td>\n",
              "      <td>Uruguai (3 415 866)</td>\n",
              "    </tr>\n",
              "    <tr>\n",
              "      <th>18</th>\n",
              "      <td>Piauí</td>\n",
              "      <td>3 281 480</td>\n",
              "      <td>1,6%</td>\n",
              "      <td>Kuwait (3 268 431)</td>\n",
              "    </tr>\n",
              "    <tr>\n",
              "      <th>19</th>\n",
              "      <td>Distrito Federal</td>\n",
              "      <td>3 055 149</td>\n",
              "      <td>1,4%</td>\n",
              "      <td>Lituânia (2 900 787)</td>\n",
              "    </tr>\n",
              "    <tr>\n",
              "      <th>20</th>\n",
              "      <td>Mato Grosso do Sul</td>\n",
              "      <td>2 809 394</td>\n",
              "      <td>1,3%</td>\n",
              "      <td>Jamaica (2 717 991)</td>\n",
              "    </tr>\n",
              "    <tr>\n",
              "      <th>21</th>\n",
              "      <td>Sergipe</td>\n",
              "      <td>2 318 822</td>\n",
              "      <td>1,1%</td>\n",
              "      <td>Namíbia (2 280 700)</td>\n",
              "    </tr>\n",
              "    <tr>\n",
              "      <th>22</th>\n",
              "      <td>Rondônia</td>\n",
              "      <td>1 796 460</td>\n",
              "      <td>0,8%</td>\n",
              "      <td>Gabão (1 725 000)</td>\n",
              "    </tr>\n",
              "    <tr>\n",
              "      <th>23</th>\n",
              "      <td>Tocantins</td>\n",
              "      <td>1 590 248</td>\n",
              "      <td>0,7%</td>\n",
              "      <td>Bahrein (1 359 800)</td>\n",
              "    </tr>\n",
              "    <tr>\n",
              "      <th>24</th>\n",
              "      <td>Acre</td>\n",
              "      <td>894 470</td>\n",
              "      <td>0,4%</td>\n",
              "      <td>Fiji (859 178)</td>\n",
              "    </tr>\n",
              "    <tr>\n",
              "      <th>25</th>\n",
              "      <td>Amapá</td>\n",
              "      <td>861 773</td>\n",
              "      <td>0,4%</td>\n",
              "      <td>Fiji (859 178)</td>\n",
              "    </tr>\n",
              "    <tr>\n",
              "      <th>26</th>\n",
              "      <td>Roraima</td>\n",
              "      <td>631 181</td>\n",
              "      <td>0,3%</td>\n",
              "      <td>Luxemburgo (562 958)</td>\n",
              "    </tr>\n",
              "  </tbody>\n",
              "</table>\n",
              "</div>"
            ],
            "text/plain": [
              "     Unidade federativa  ...        País comparável (habitantes)\n",
              "0             São Paulo  ...                Espanha (46 439 864)\n",
              "1          Minas Gerais  ...              Sri Lanka (20 675 000)\n",
              "2        Rio de Janeiro  ...          Países Baixos (16 922 900)\n",
              "3                 Bahia  ...                  Chade (14 037 000)\n",
              "4                Paraná  ...                Bolívia (11 410 651)\n",
              "5     Rio Grande do Sul  ...                Bélgica (11 250 659)\n",
              "6            Pernambuco  ...            Bielorrússia (9 485 300)\n",
              "7                 Ceará  ...  Emirados Árabes Unidos (9 157 000)\n",
              "8                  Pará  ...                 Áustria (8 602 112)\n",
              "9        Santa Catarina  ...                  Sérvia (7 114 393)\n",
              "10             Maranhão  ...                Paraguai (7 003 406)\n",
              "11                Goiás  ...                Paraguai (7 003 406)\n",
              "12             Amazonas  ...                  Líbano (4 168 000)\n",
              "13       Espírito Santo  ...                  Líbano (4 168 000)\n",
              "14              Paraíba  ...                  Líbano (4 168 000)\n",
              "15  Rio Grande do Norte  ...                 Uruguai (3 415 866)\n",
              "16          Mato Grosso  ...                 Uruguai (3 415 866)\n",
              "17              Alagoas  ...                 Uruguai (3 415 866)\n",
              "18                Piauí  ...                  Kuwait (3 268 431)\n",
              "19     Distrito Federal  ...                Lituânia (2 900 787)\n",
              "20   Mato Grosso do Sul  ...                 Jamaica (2 717 991)\n",
              "21              Sergipe  ...                 Namíbia (2 280 700)\n",
              "22             Rondônia  ...                   Gabão (1 725 000)\n",
              "23            Tocantins  ...                 Bahrein (1 359 800)\n",
              "24                 Acre  ...                      Fiji (859 178)\n",
              "25                Amapá  ...                      Fiji (859 178)\n",
              "26              Roraima  ...                Luxemburgo (562 958)\n",
              "\n",
              "[27 rows x 4 columns]"
            ]
          },
          "metadata": {
            "tags": []
          },
          "execution_count": 30
        }
      ]
    },
    {
      "cell_type": "code",
      "metadata": {
        "colab": {
          "base_uri": "https://localhost:8080/",
          "height": 173
        },
        "id": "RwhlqX_EzESJ",
        "outputId": "90b0c246-2d23-466e-e394-28ec44e3c074"
      },
      "source": [
        "populacao.describe()"
      ],
      "execution_count": 39,
      "outputs": [
        {
          "output_type": "execute_result",
          "data": {
            "text/html": [
              "<div>\n",
              "<style scoped>\n",
              "    .dataframe tbody tr th:only-of-type {\n",
              "        vertical-align: middle;\n",
              "    }\n",
              "\n",
              "    .dataframe tbody tr th {\n",
              "        vertical-align: top;\n",
              "    }\n",
              "\n",
              "    .dataframe thead th {\n",
              "        text-align: right;\n",
              "    }\n",
              "</style>\n",
              "<table border=\"1\" class=\"dataframe\">\n",
              "  <thead>\n",
              "    <tr style=\"text-align: right;\">\n",
              "      <th></th>\n",
              "      <th>Unidade federativa</th>\n",
              "      <th>População</th>\n",
              "      <th>% da pop. total</th>\n",
              "      <th>País comparável (habitantes)</th>\n",
              "    </tr>\n",
              "  </thead>\n",
              "  <tbody>\n",
              "    <tr>\n",
              "      <th>count</th>\n",
              "      <td>27</td>\n",
              "      <td>27</td>\n",
              "      <td>27</td>\n",
              "      <td>27</td>\n",
              "    </tr>\n",
              "    <tr>\n",
              "      <th>unique</th>\n",
              "      <td>27</td>\n",
              "      <td>27</td>\n",
              "      <td>20</td>\n",
              "      <td>21</td>\n",
              "    </tr>\n",
              "    <tr>\n",
              "      <th>top</th>\n",
              "      <td>Rio Grande do Sul</td>\n",
              "      <td>3 055 149</td>\n",
              "      <td>3,4%</td>\n",
              "      <td>Líbano (4 168 000)</td>\n",
              "    </tr>\n",
              "    <tr>\n",
              "      <th>freq</th>\n",
              "      <td>1</td>\n",
              "      <td>1</td>\n",
              "      <td>3</td>\n",
              "      <td>3</td>\n",
              "    </tr>\n",
              "  </tbody>\n",
              "</table>\n",
              "</div>"
            ],
            "text/plain": [
              "       Unidade federativa  ... País comparável (habitantes)\n",
              "count                  27  ...                           27\n",
              "unique                 27  ...                           21\n",
              "top     Rio Grande do Sul  ...           Líbano (4 168 000)\n",
              "freq                    1  ...                            3\n",
              "\n",
              "[4 rows x 4 columns]"
            ]
          },
          "metadata": {
            "tags": []
          },
          "execution_count": 39
        }
      ]
    },
    {
      "cell_type": "code",
      "metadata": {
        "colab": {
          "base_uri": "https://localhost:8080/"
        },
        "id": "7hHkFnre2LVM",
        "outputId": "05f8de90-4e15-4968-e133-48c7463d8d9c"
      },
      "source": [
        "populacao.dtypes"
      ],
      "execution_count": 40,
      "outputs": [
        {
          "output_type": "execute_result",
          "data": {
            "text/plain": [
              "Unidade federativa              object\n",
              "População                       object\n",
              "% da pop. total                 object\n",
              "País comparável (habitantes)    object\n",
              "dtype: object"
            ]
          },
          "metadata": {
            "tags": []
          },
          "execution_count": 40
        }
      ]
    },
    {
      "cell_type": "code",
      "metadata": {
        "colab": {
          "base_uri": "https://localhost:8080/",
          "height": 35
        },
        "id": "aCORlONH27AS",
        "outputId": "ba3dbfb6-3ccb-4512-8b06-e53e18c23e37"
      },
      "source": [
        "populacao['População'][0]"
      ],
      "execution_count": 41,
      "outputs": [
        {
          "output_type": "execute_result",
          "data": {
            "application/vnd.google.colaboratory.intrinsic+json": {
              "type": "string"
            },
            "text/plain": [
              "'46 289 333'"
            ]
          },
          "metadata": {
            "tags": []
          },
          "execution_count": 41
        }
      ]
    },
    {
      "cell_type": "code",
      "metadata": {
        "colab": {
          "base_uri": "https://localhost:8080/"
        },
        "id": "Yie0CN3d3OJh",
        "outputId": "18e8524d-3dc8-48f4-cd5a-b62a2fca64e8"
      },
      "source": [
        "type(populacao['População'][0])"
      ],
      "execution_count": 42,
      "outputs": [
        {
          "output_type": "execute_result",
          "data": {
            "text/plain": [
              "str"
            ]
          },
          "metadata": {
            "tags": []
          },
          "execution_count": 42
        }
      ]
    },
    {
      "cell_type": "markdown",
      "metadata": {
        "id": "1bmv6Kll3vDT"
      },
      "source": [
        "**TODO**: Converter colunas População e % para int e float, respectivamente."
      ]
    },
    {
      "cell_type": "markdown",
      "metadata": {
        "id": "tspsWvAY4xwN"
      },
      "source": [
        "Para população: remover espaços antes de converter."
      ]
    },
    {
      "cell_type": "code",
      "metadata": {
        "colab": {
          "base_uri": "https://localhost:8080/",
          "height": 35
        },
        "id": "Dk8iqcQo4UEd",
        "outputId": "d59e3f94-58ec-4f5f-d61f-2f36c7dd1950"
      },
      "source": [
        "'esta é uma string com espaços'.replace(' ', '')"
      ],
      "execution_count": 44,
      "outputs": [
        {
          "output_type": "execute_result",
          "data": {
            "application/vnd.google.colaboratory.intrinsic+json": {
              "type": "string"
            },
            "text/plain": [
              "'estaéumastringcomespaços'"
            ]
          },
          "metadata": {
            "tags": []
          },
          "execution_count": 44
        }
      ]
    },
    {
      "cell_type": "code",
      "metadata": {
        "colab": {
          "base_uri": "https://localhost:8080/",
          "height": 35
        },
        "id": "kXVh1ZF342SC",
        "outputId": "d804fe37-6217-4c24-e9aa-45b59ca78b17"
      },
      "source": [
        "populacao['População'][0].replace(' ', '')"
      ],
      "execution_count": 45,
      "outputs": [
        {
          "output_type": "execute_result",
          "data": {
            "application/vnd.google.colaboratory.intrinsic+json": {
              "type": "string"
            },
            "text/plain": [
              "'46289333'"
            ]
          },
          "metadata": {
            "tags": []
          },
          "execution_count": 45
        }
      ]
    },
    {
      "cell_type": "code",
      "metadata": {
        "colab": {
          "base_uri": "https://localhost:8080/"
        },
        "id": "YTRrv5TC4-dS",
        "outputId": "cbd313f1-d004-4ee2-9d06-5f8d933d9791"
      },
      "source": [
        "int(populacao['População'][0].replace(' ', ''))"
      ],
      "execution_count": 46,
      "outputs": [
        {
          "output_type": "execute_result",
          "data": {
            "text/plain": [
              "46289333"
            ]
          },
          "metadata": {
            "tags": []
          },
          "execution_count": 46
        }
      ]
    },
    {
      "cell_type": "markdown",
      "metadata": {
        "id": "_eIjEhfi6II0"
      },
      "source": [
        "Aplica a função replace em todos os elementos da coluna (Series).\r\n",
        "\r\n",
        "É vetorizado."
      ]
    },
    {
      "cell_type": "code",
      "metadata": {
        "colab": {
          "base_uri": "https://localhost:8080/"
        },
        "id": "vGN-YDz65Bdq",
        "outputId": "e9d715fb-9ae8-4ecd-a94b-64b15ed804ea"
      },
      "source": [
        "populacao['População'].str.replace(' ', '')"
      ],
      "execution_count": 50,
      "outputs": [
        {
          "output_type": "execute_result",
          "data": {
            "text/plain": [
              "0     46289333\n",
              "1     21292666\n",
              "2     17366189\n",
              "3     14930634\n",
              "4     11516840\n",
              "5     11422973\n",
              "6      9616621\n",
              "7      9187103\n",
              "8      8690745\n",
              "9      7252502\n",
              "10     7114598\n",
              "11     7113540\n",
              "12     4207714\n",
              "13     4064052\n",
              "14     4039277\n",
              "15     3534165\n",
              "16     3526220\n",
              "17     3351543\n",
              "18     3281480\n",
              "19     3055149\n",
              "20     2809394\n",
              "21     2318822\n",
              "22     1796460\n",
              "23     1590248\n",
              "24      894470\n",
              "25      861773\n",
              "26      631181\n",
              "Name: População, dtype: object"
            ]
          },
          "metadata": {
            "tags": []
          },
          "execution_count": 50
        }
      ]
    },
    {
      "cell_type": "markdown",
      "metadata": {
        "id": "guBkCyN76UdB"
      },
      "source": [
        "Para converter o tipo de dado, usamos astype."
      ]
    },
    {
      "cell_type": "code",
      "metadata": {
        "colab": {
          "base_uri": "https://localhost:8080/"
        },
        "id": "iXl3zWIn5NeX",
        "outputId": "d907b957-b944-41ce-f4d6-4d0394bbbfac"
      },
      "source": [
        "populacao['População'].str.replace(' ', '').astype(int)"
      ],
      "execution_count": 51,
      "outputs": [
        {
          "output_type": "execute_result",
          "data": {
            "text/plain": [
              "0     46289333\n",
              "1     21292666\n",
              "2     17366189\n",
              "3     14930634\n",
              "4     11516840\n",
              "5     11422973\n",
              "6      9616621\n",
              "7      9187103\n",
              "8      8690745\n",
              "9      7252502\n",
              "10     7114598\n",
              "11     7113540\n",
              "12     4207714\n",
              "13     4064052\n",
              "14     4039277\n",
              "15     3534165\n",
              "16     3526220\n",
              "17     3351543\n",
              "18     3281480\n",
              "19     3055149\n",
              "20     2809394\n",
              "21     2318822\n",
              "22     1796460\n",
              "23     1590248\n",
              "24      894470\n",
              "25      861773\n",
              "26      631181\n",
              "Name: População, dtype: int64"
            ]
          },
          "metadata": {
            "tags": []
          },
          "execution_count": 51
        }
      ]
    },
    {
      "cell_type": "code",
      "metadata": {
        "id": "ak6Lr1kV62qA"
      },
      "source": [
        "populacao['População'] = populacao['População'].str.replace(' ', '').astype(int)"
      ],
      "execution_count": 53,
      "outputs": []
    },
    {
      "cell_type": "code",
      "metadata": {
        "colab": {
          "base_uri": "https://localhost:8080/",
          "height": 886
        },
        "id": "X2YHhYIv7Pyu",
        "outputId": "6418fc30-f41a-4a92-b52d-4fbc83cd1f5a"
      },
      "source": [
        "populacao"
      ],
      "execution_count": 54,
      "outputs": [
        {
          "output_type": "execute_result",
          "data": {
            "text/html": [
              "<div>\n",
              "<style scoped>\n",
              "    .dataframe tbody tr th:only-of-type {\n",
              "        vertical-align: middle;\n",
              "    }\n",
              "\n",
              "    .dataframe tbody tr th {\n",
              "        vertical-align: top;\n",
              "    }\n",
              "\n",
              "    .dataframe thead th {\n",
              "        text-align: right;\n",
              "    }\n",
              "</style>\n",
              "<table border=\"1\" class=\"dataframe\">\n",
              "  <thead>\n",
              "    <tr style=\"text-align: right;\">\n",
              "      <th></th>\n",
              "      <th>Unidade federativa</th>\n",
              "      <th>População</th>\n",
              "      <th>% da pop. total</th>\n",
              "      <th>País comparável (habitantes)</th>\n",
              "    </tr>\n",
              "  </thead>\n",
              "  <tbody>\n",
              "    <tr>\n",
              "      <th>0</th>\n",
              "      <td>São Paulo</td>\n",
              "      <td>46289333</td>\n",
              "      <td>21,9%</td>\n",
              "      <td>Espanha (46 439 864)</td>\n",
              "    </tr>\n",
              "    <tr>\n",
              "      <th>1</th>\n",
              "      <td>Minas Gerais</td>\n",
              "      <td>21292666</td>\n",
              "      <td>10,1%</td>\n",
              "      <td>Sri Lanka (20 675 000)</td>\n",
              "    </tr>\n",
              "    <tr>\n",
              "      <th>2</th>\n",
              "      <td>Rio de Janeiro</td>\n",
              "      <td>17366189</td>\n",
              "      <td>8,2%</td>\n",
              "      <td>Países Baixos (16 922 900)</td>\n",
              "    </tr>\n",
              "    <tr>\n",
              "      <th>3</th>\n",
              "      <td>Bahia</td>\n",
              "      <td>14930634</td>\n",
              "      <td>7,1%</td>\n",
              "      <td>Chade (14 037 000)</td>\n",
              "    </tr>\n",
              "    <tr>\n",
              "      <th>4</th>\n",
              "      <td>Paraná</td>\n",
              "      <td>11516840</td>\n",
              "      <td>5,4%</td>\n",
              "      <td>Bolívia (11 410 651)</td>\n",
              "    </tr>\n",
              "    <tr>\n",
              "      <th>5</th>\n",
              "      <td>Rio Grande do Sul</td>\n",
              "      <td>11422973</td>\n",
              "      <td>5,4%</td>\n",
              "      <td>Bélgica (11 250 659)</td>\n",
              "    </tr>\n",
              "    <tr>\n",
              "      <th>6</th>\n",
              "      <td>Pernambuco</td>\n",
              "      <td>9616621</td>\n",
              "      <td>4,5%</td>\n",
              "      <td>Bielorrússia (9 485 300)</td>\n",
              "    </tr>\n",
              "    <tr>\n",
              "      <th>7</th>\n",
              "      <td>Ceará</td>\n",
              "      <td>9187103</td>\n",
              "      <td>4,3%</td>\n",
              "      <td>Emirados Árabes Unidos (9 157 000)</td>\n",
              "    </tr>\n",
              "    <tr>\n",
              "      <th>8</th>\n",
              "      <td>Pará</td>\n",
              "      <td>8690745</td>\n",
              "      <td>4,1%</td>\n",
              "      <td>Áustria (8 602 112)</td>\n",
              "    </tr>\n",
              "    <tr>\n",
              "      <th>9</th>\n",
              "      <td>Santa Catarina</td>\n",
              "      <td>7252502</td>\n",
              "      <td>3,4%</td>\n",
              "      <td>Sérvia (7 114 393)</td>\n",
              "    </tr>\n",
              "    <tr>\n",
              "      <th>10</th>\n",
              "      <td>Maranhão</td>\n",
              "      <td>7114598</td>\n",
              "      <td>3,4%</td>\n",
              "      <td>Paraguai (7 003 406)</td>\n",
              "    </tr>\n",
              "    <tr>\n",
              "      <th>11</th>\n",
              "      <td>Goiás</td>\n",
              "      <td>7113540</td>\n",
              "      <td>3,4%</td>\n",
              "      <td>Paraguai (7 003 406)</td>\n",
              "    </tr>\n",
              "    <tr>\n",
              "      <th>12</th>\n",
              "      <td>Amazonas</td>\n",
              "      <td>4207714</td>\n",
              "      <td>2,0%</td>\n",
              "      <td>Líbano (4 168 000)</td>\n",
              "    </tr>\n",
              "    <tr>\n",
              "      <th>13</th>\n",
              "      <td>Espírito Santo</td>\n",
              "      <td>4064052</td>\n",
              "      <td>1,9%</td>\n",
              "      <td>Líbano (4 168 000)</td>\n",
              "    </tr>\n",
              "    <tr>\n",
              "      <th>14</th>\n",
              "      <td>Paraíba</td>\n",
              "      <td>4039277</td>\n",
              "      <td>1,9%</td>\n",
              "      <td>Líbano (4 168 000)</td>\n",
              "    </tr>\n",
              "    <tr>\n",
              "      <th>15</th>\n",
              "      <td>Rio Grande do Norte</td>\n",
              "      <td>3534165</td>\n",
              "      <td>1,7%</td>\n",
              "      <td>Uruguai (3 415 866)</td>\n",
              "    </tr>\n",
              "    <tr>\n",
              "      <th>16</th>\n",
              "      <td>Mato Grosso</td>\n",
              "      <td>3526220</td>\n",
              "      <td>1,7%</td>\n",
              "      <td>Uruguai (3 415 866)</td>\n",
              "    </tr>\n",
              "    <tr>\n",
              "      <th>17</th>\n",
              "      <td>Alagoas</td>\n",
              "      <td>3351543</td>\n",
              "      <td>1,6%</td>\n",
              "      <td>Uruguai (3 415 866)</td>\n",
              "    </tr>\n",
              "    <tr>\n",
              "      <th>18</th>\n",
              "      <td>Piauí</td>\n",
              "      <td>3281480</td>\n",
              "      <td>1,6%</td>\n",
              "      <td>Kuwait (3 268 431)</td>\n",
              "    </tr>\n",
              "    <tr>\n",
              "      <th>19</th>\n",
              "      <td>Distrito Federal</td>\n",
              "      <td>3055149</td>\n",
              "      <td>1,4%</td>\n",
              "      <td>Lituânia (2 900 787)</td>\n",
              "    </tr>\n",
              "    <tr>\n",
              "      <th>20</th>\n",
              "      <td>Mato Grosso do Sul</td>\n",
              "      <td>2809394</td>\n",
              "      <td>1,3%</td>\n",
              "      <td>Jamaica (2 717 991)</td>\n",
              "    </tr>\n",
              "    <tr>\n",
              "      <th>21</th>\n",
              "      <td>Sergipe</td>\n",
              "      <td>2318822</td>\n",
              "      <td>1,1%</td>\n",
              "      <td>Namíbia (2 280 700)</td>\n",
              "    </tr>\n",
              "    <tr>\n",
              "      <th>22</th>\n",
              "      <td>Rondônia</td>\n",
              "      <td>1796460</td>\n",
              "      <td>0,8%</td>\n",
              "      <td>Gabão (1 725 000)</td>\n",
              "    </tr>\n",
              "    <tr>\n",
              "      <th>23</th>\n",
              "      <td>Tocantins</td>\n",
              "      <td>1590248</td>\n",
              "      <td>0,7%</td>\n",
              "      <td>Bahrein (1 359 800)</td>\n",
              "    </tr>\n",
              "    <tr>\n",
              "      <th>24</th>\n",
              "      <td>Acre</td>\n",
              "      <td>894470</td>\n",
              "      <td>0,4%</td>\n",
              "      <td>Fiji (859 178)</td>\n",
              "    </tr>\n",
              "    <tr>\n",
              "      <th>25</th>\n",
              "      <td>Amapá</td>\n",
              "      <td>861773</td>\n",
              "      <td>0,4%</td>\n",
              "      <td>Fiji (859 178)</td>\n",
              "    </tr>\n",
              "    <tr>\n",
              "      <th>26</th>\n",
              "      <td>Roraima</td>\n",
              "      <td>631181</td>\n",
              "      <td>0,3%</td>\n",
              "      <td>Luxemburgo (562 958)</td>\n",
              "    </tr>\n",
              "  </tbody>\n",
              "</table>\n",
              "</div>"
            ],
            "text/plain": [
              "     Unidade federativa  ...        País comparável (habitantes)\n",
              "0             São Paulo  ...                Espanha (46 439 864)\n",
              "1          Minas Gerais  ...              Sri Lanka (20 675 000)\n",
              "2        Rio de Janeiro  ...          Países Baixos (16 922 900)\n",
              "3                 Bahia  ...                  Chade (14 037 000)\n",
              "4                Paraná  ...                Bolívia (11 410 651)\n",
              "5     Rio Grande do Sul  ...                Bélgica (11 250 659)\n",
              "6            Pernambuco  ...            Bielorrússia (9 485 300)\n",
              "7                 Ceará  ...  Emirados Árabes Unidos (9 157 000)\n",
              "8                  Pará  ...                 Áustria (8 602 112)\n",
              "9        Santa Catarina  ...                  Sérvia (7 114 393)\n",
              "10             Maranhão  ...                Paraguai (7 003 406)\n",
              "11                Goiás  ...                Paraguai (7 003 406)\n",
              "12             Amazonas  ...                  Líbano (4 168 000)\n",
              "13       Espírito Santo  ...                  Líbano (4 168 000)\n",
              "14              Paraíba  ...                  Líbano (4 168 000)\n",
              "15  Rio Grande do Norte  ...                 Uruguai (3 415 866)\n",
              "16          Mato Grosso  ...                 Uruguai (3 415 866)\n",
              "17              Alagoas  ...                 Uruguai (3 415 866)\n",
              "18                Piauí  ...                  Kuwait (3 268 431)\n",
              "19     Distrito Federal  ...                Lituânia (2 900 787)\n",
              "20   Mato Grosso do Sul  ...                 Jamaica (2 717 991)\n",
              "21              Sergipe  ...                 Namíbia (2 280 700)\n",
              "22             Rondônia  ...                   Gabão (1 725 000)\n",
              "23            Tocantins  ...                 Bahrein (1 359 800)\n",
              "24                 Acre  ...                      Fiji (859 178)\n",
              "25                Amapá  ...                      Fiji (859 178)\n",
              "26              Roraima  ...                Luxemburgo (562 958)\n",
              "\n",
              "[27 rows x 4 columns]"
            ]
          },
          "metadata": {
            "tags": []
          },
          "execution_count": 54
        }
      ]
    },
    {
      "cell_type": "code",
      "metadata": {
        "colab": {
          "base_uri": "https://localhost:8080/",
          "height": 297
        },
        "id": "bZdlxJAO7RHr",
        "outputId": "db3d2001-560d-42ab-c2f9-db35abda4d4a"
      },
      "source": [
        "populacao.describe()"
      ],
      "execution_count": 55,
      "outputs": [
        {
          "output_type": "execute_result",
          "data": {
            "text/html": [
              "<div>\n",
              "<style scoped>\n",
              "    .dataframe tbody tr th:only-of-type {\n",
              "        vertical-align: middle;\n",
              "    }\n",
              "\n",
              "    .dataframe tbody tr th {\n",
              "        vertical-align: top;\n",
              "    }\n",
              "\n",
              "    .dataframe thead th {\n",
              "        text-align: right;\n",
              "    }\n",
              "</style>\n",
              "<table border=\"1\" class=\"dataframe\">\n",
              "  <thead>\n",
              "    <tr style=\"text-align: right;\">\n",
              "      <th></th>\n",
              "      <th>População</th>\n",
              "    </tr>\n",
              "  </thead>\n",
              "  <tbody>\n",
              "    <tr>\n",
              "      <th>count</th>\n",
              "      <td>2.700000e+01</td>\n",
              "    </tr>\n",
              "    <tr>\n",
              "      <th>mean</th>\n",
              "      <td>7.842803e+06</td>\n",
              "    </tr>\n",
              "    <tr>\n",
              "      <th>std</th>\n",
              "      <td>9.316952e+06</td>\n",
              "    </tr>\n",
              "    <tr>\n",
              "      <th>min</th>\n",
              "      <td>6.311810e+05</td>\n",
              "    </tr>\n",
              "    <tr>\n",
              "      <th>25%</th>\n",
              "      <td>2.932272e+06</td>\n",
              "    </tr>\n",
              "    <tr>\n",
              "      <th>50%</th>\n",
              "      <td>4.064052e+06</td>\n",
              "    </tr>\n",
              "    <tr>\n",
              "      <th>75%</th>\n",
              "      <td>9.401862e+06</td>\n",
              "    </tr>\n",
              "    <tr>\n",
              "      <th>max</th>\n",
              "      <td>4.628933e+07</td>\n",
              "    </tr>\n",
              "  </tbody>\n",
              "</table>\n",
              "</div>"
            ],
            "text/plain": [
              "          População\n",
              "count  2.700000e+01\n",
              "mean   7.842803e+06\n",
              "std    9.316952e+06\n",
              "min    6.311810e+05\n",
              "25%    2.932272e+06\n",
              "50%    4.064052e+06\n",
              "75%    9.401862e+06\n",
              "max    4.628933e+07"
            ]
          },
          "metadata": {
            "tags": []
          },
          "execution_count": 55
        }
      ]
    },
    {
      "cell_type": "markdown",
      "metadata": {
        "id": "I6jLbtbd8AKA"
      },
      "source": [
        "Tratar % da pop. total"
      ]
    },
    {
      "cell_type": "code",
      "metadata": {
        "colab": {
          "base_uri": "https://localhost:8080/"
        },
        "id": "qV8zmoDr7kRG",
        "outputId": "52bdb91d-0366-4c98-eba6-c6aa1f9eb1d3"
      },
      "source": [
        "populacao['% da pop. total']"
      ],
      "execution_count": 58,
      "outputs": [
        {
          "output_type": "execute_result",
          "data": {
            "text/plain": [
              "0     21,9%\n",
              "1     10,1%\n",
              "2      8,2%\n",
              "3      7,1%\n",
              "4      5,4%\n",
              "5      5,4%\n",
              "6      4,5%\n",
              "7      4,3%\n",
              "8      4,1%\n",
              "9      3,4%\n",
              "10     3,4%\n",
              "11     3,4%\n",
              "12     2,0%\n",
              "13     1,9%\n",
              "14     1,9%\n",
              "15     1,7%\n",
              "16     1,7%\n",
              "17     1,6%\n",
              "18     1,6%\n",
              "19     1,4%\n",
              "20     1,3%\n",
              "21     1,1%\n",
              "22     0,8%\n",
              "23     0,7%\n",
              "24     0,4%\n",
              "25     0,4%\n",
              "26     0,3%\n",
              "Name: % da pop. total, dtype: object"
            ]
          },
          "metadata": {
            "tags": []
          },
          "execution_count": 58
        }
      ]
    },
    {
      "cell_type": "code",
      "metadata": {
        "colab": {
          "base_uri": "https://localhost:8080/",
          "height": 35
        },
        "id": "j9WPdMDq8QVY",
        "outputId": "04d11f1b-8db5-480b-cebb-f51863213795"
      },
      "source": [
        "populacao['% da pop. total'][0]"
      ],
      "execution_count": 59,
      "outputs": [
        {
          "output_type": "execute_result",
          "data": {
            "application/vnd.google.colaboratory.intrinsic+json": {
              "type": "string"
            },
            "text/plain": [
              "'21,9%'"
            ]
          },
          "metadata": {
            "tags": []
          },
          "execution_count": 59
        }
      ]
    },
    {
      "cell_type": "code",
      "metadata": {
        "colab": {
          "base_uri": "https://localhost:8080/",
          "height": 35
        },
        "id": "M8vyyEQX8T9W",
        "outputId": "90f1bdf5-0c5f-4fdb-9ccc-4abdeb482f72"
      },
      "source": [
        "populacao['% da pop. total'][0].replace(',', '.')"
      ],
      "execution_count": 60,
      "outputs": [
        {
          "output_type": "execute_result",
          "data": {
            "application/vnd.google.colaboratory.intrinsic+json": {
              "type": "string"
            },
            "text/plain": [
              "'21.9%'"
            ]
          },
          "metadata": {
            "tags": []
          },
          "execution_count": 60
        }
      ]
    },
    {
      "cell_type": "code",
      "metadata": {
        "colab": {
          "base_uri": "https://localhost:8080/",
          "height": 35
        },
        "id": "QaU3B5PM8cbm",
        "outputId": "e8c57477-f4d3-4707-e243-ead08b0497f3"
      },
      "source": [
        "populacao['% da pop. total'][0].replace(',', '.').replace('%', '')"
      ],
      "execution_count": 61,
      "outputs": [
        {
          "output_type": "execute_result",
          "data": {
            "application/vnd.google.colaboratory.intrinsic+json": {
              "type": "string"
            },
            "text/plain": [
              "'21.9'"
            ]
          },
          "metadata": {
            "tags": []
          },
          "execution_count": 61
        }
      ]
    },
    {
      "cell_type": "code",
      "metadata": {
        "colab": {
          "base_uri": "https://localhost:8080/"
        },
        "id": "lr38EwUI8iH3",
        "outputId": "c976bc9f-1d3f-44f2-847d-50ff59cdd7e4"
      },
      "source": [
        "float(populacao['% da pop. total'][0].replace(',', '.').replace('%', ''))"
      ],
      "execution_count": 62,
      "outputs": [
        {
          "output_type": "execute_result",
          "data": {
            "text/plain": [
              "21.9"
            ]
          },
          "metadata": {
            "tags": []
          },
          "execution_count": 62
        }
      ]
    },
    {
      "cell_type": "code",
      "metadata": {
        "colab": {
          "base_uri": "https://localhost:8080/"
        },
        "id": "3GvH9mUD8k3W",
        "outputId": "2ffc5c44-b769-481a-e7a5-d893eccd9419"
      },
      "source": [
        "populacao['% da pop. total'].str.replace(',', '.')"
      ],
      "execution_count": 65,
      "outputs": [
        {
          "output_type": "execute_result",
          "data": {
            "text/plain": [
              "0     21.9%\n",
              "1     10.1%\n",
              "2      8.2%\n",
              "3      7.1%\n",
              "4      5.4%\n",
              "5      5.4%\n",
              "6      4.5%\n",
              "7      4.3%\n",
              "8      4.1%\n",
              "9      3.4%\n",
              "10     3.4%\n",
              "11     3.4%\n",
              "12     2.0%\n",
              "13     1.9%\n",
              "14     1.9%\n",
              "15     1.7%\n",
              "16     1.7%\n",
              "17     1.6%\n",
              "18     1.6%\n",
              "19     1.4%\n",
              "20     1.3%\n",
              "21     1.1%\n",
              "22     0.8%\n",
              "23     0.7%\n",
              "24     0.4%\n",
              "25     0.4%\n",
              "26     0.3%\n",
              "Name: % da pop. total, dtype: object"
            ]
          },
          "metadata": {
            "tags": []
          },
          "execution_count": 65
        }
      ]
    },
    {
      "cell_type": "code",
      "metadata": {
        "colab": {
          "base_uri": "https://localhost:8080/"
        },
        "id": "a-_6xFH69F5-",
        "outputId": "25452b27-f247-4d82-ca58-95d9d9c18670"
      },
      "source": [
        "populacao['% da pop. total'].str.replace(',', '.').str.replace('%', '')"
      ],
      "execution_count": 66,
      "outputs": [
        {
          "output_type": "execute_result",
          "data": {
            "text/plain": [
              "0     21.9\n",
              "1     10.1\n",
              "2      8.2\n",
              "3      7.1\n",
              "4      5.4\n",
              "5      5.4\n",
              "6      4.5\n",
              "7      4.3\n",
              "8      4.1\n",
              "9      3.4\n",
              "10     3.4\n",
              "11     3.4\n",
              "12     2.0\n",
              "13     1.9\n",
              "14     1.9\n",
              "15     1.7\n",
              "16     1.7\n",
              "17     1.6\n",
              "18     1.6\n",
              "19     1.4\n",
              "20     1.3\n",
              "21     1.1\n",
              "22     0.8\n",
              "23     0.7\n",
              "24     0.4\n",
              "25     0.4\n",
              "26     0.3\n",
              "Name: % da pop. total, dtype: object"
            ]
          },
          "metadata": {
            "tags": []
          },
          "execution_count": 66
        }
      ]
    },
    {
      "cell_type": "code",
      "metadata": {
        "colab": {
          "base_uri": "https://localhost:8080/"
        },
        "id": "dpASL0519hF4",
        "outputId": "261351c6-c013-43fb-9bfc-416ee6737cb7"
      },
      "source": [
        "populacao['% da pop. total'].str.replace(',', '.').str.replace('%', '').astype(float)"
      ],
      "execution_count": 67,
      "outputs": [
        {
          "output_type": "execute_result",
          "data": {
            "text/plain": [
              "0     21.9\n",
              "1     10.1\n",
              "2      8.2\n",
              "3      7.1\n",
              "4      5.4\n",
              "5      5.4\n",
              "6      4.5\n",
              "7      4.3\n",
              "8      4.1\n",
              "9      3.4\n",
              "10     3.4\n",
              "11     3.4\n",
              "12     2.0\n",
              "13     1.9\n",
              "14     1.9\n",
              "15     1.7\n",
              "16     1.7\n",
              "17     1.6\n",
              "18     1.6\n",
              "19     1.4\n",
              "20     1.3\n",
              "21     1.1\n",
              "22     0.8\n",
              "23     0.7\n",
              "24     0.4\n",
              "25     0.4\n",
              "26     0.3\n",
              "Name: % da pop. total, dtype: float64"
            ]
          },
          "metadata": {
            "tags": []
          },
          "execution_count": 67
        }
      ]
    },
    {
      "cell_type": "code",
      "metadata": {
        "id": "zveP0DBd9m2e"
      },
      "source": [
        "populacao['% da pop. total'] = populacao['% da pop. total'].str.replace(',', '.').str.replace('%', '').astype(float)"
      ],
      "execution_count": 68,
      "outputs": []
    },
    {
      "cell_type": "code",
      "metadata": {
        "colab": {
          "base_uri": "https://localhost:8080/",
          "height": 297
        },
        "id": "Dl65UIs19s5F",
        "outputId": "3ebcf931-2852-49ae-e7f7-b2f319c552a0"
      },
      "source": [
        "populacao.describe()"
      ],
      "execution_count": 69,
      "outputs": [
        {
          "output_type": "execute_result",
          "data": {
            "text/html": [
              "<div>\n",
              "<style scoped>\n",
              "    .dataframe tbody tr th:only-of-type {\n",
              "        vertical-align: middle;\n",
              "    }\n",
              "\n",
              "    .dataframe tbody tr th {\n",
              "        vertical-align: top;\n",
              "    }\n",
              "\n",
              "    .dataframe thead th {\n",
              "        text-align: right;\n",
              "    }\n",
              "</style>\n",
              "<table border=\"1\" class=\"dataframe\">\n",
              "  <thead>\n",
              "    <tr style=\"text-align: right;\">\n",
              "      <th></th>\n",
              "      <th>População</th>\n",
              "      <th>% da pop. total</th>\n",
              "    </tr>\n",
              "  </thead>\n",
              "  <tbody>\n",
              "    <tr>\n",
              "      <th>count</th>\n",
              "      <td>2.700000e+01</td>\n",
              "      <td>27.000000</td>\n",
              "    </tr>\n",
              "    <tr>\n",
              "      <th>mean</th>\n",
              "      <td>7.842803e+06</td>\n",
              "      <td>3.703704</td>\n",
              "    </tr>\n",
              "    <tr>\n",
              "      <th>std</th>\n",
              "      <td>9.316952e+06</td>\n",
              "      <td>4.411391</td>\n",
              "    </tr>\n",
              "    <tr>\n",
              "      <th>min</th>\n",
              "      <td>6.311810e+05</td>\n",
              "      <td>0.300000</td>\n",
              "    </tr>\n",
              "    <tr>\n",
              "      <th>25%</th>\n",
              "      <td>2.932272e+06</td>\n",
              "      <td>1.350000</td>\n",
              "    </tr>\n",
              "    <tr>\n",
              "      <th>50%</th>\n",
              "      <td>4.064052e+06</td>\n",
              "      <td>1.900000</td>\n",
              "    </tr>\n",
              "    <tr>\n",
              "      <th>75%</th>\n",
              "      <td>9.401862e+06</td>\n",
              "      <td>4.400000</td>\n",
              "    </tr>\n",
              "    <tr>\n",
              "      <th>max</th>\n",
              "      <td>4.628933e+07</td>\n",
              "      <td>21.900000</td>\n",
              "    </tr>\n",
              "  </tbody>\n",
              "</table>\n",
              "</div>"
            ],
            "text/plain": [
              "          População  % da pop. total\n",
              "count  2.700000e+01        27.000000\n",
              "mean   7.842803e+06         3.703704\n",
              "std    9.316952e+06         4.411391\n",
              "min    6.311810e+05         0.300000\n",
              "25%    2.932272e+06         1.350000\n",
              "50%    4.064052e+06         1.900000\n",
              "75%    9.401862e+06         4.400000\n",
              "max    4.628933e+07        21.900000"
            ]
          },
          "metadata": {
            "tags": []
          },
          "execution_count": 69
        }
      ]
    },
    {
      "cell_type": "code",
      "metadata": {
        "colab": {
          "base_uri": "https://localhost:8080/",
          "height": 282
        },
        "id": "kEuVBWBx9u7i",
        "outputId": "167162db-ebe3-4da7-b1fb-3b09776549bb"
      },
      "source": [
        "populacao['% da pop. total'].plot(kind='box')"
      ],
      "execution_count": 70,
      "outputs": [
        {
          "output_type": "execute_result",
          "data": {
            "text/plain": [
              "<matplotlib.axes._subplots.AxesSubplot at 0x7f3b59188b38>"
            ]
          },
          "metadata": {
            "tags": []
          },
          "execution_count": 70
        },
        {
          "output_type": "display_data",
          "data": {
            "image/png": "[encoded data removed]",
            "text/plain": [
              "<Figure size 432x288 with 1 Axes>"
            ]
          },
          "metadata": {
            "tags": [],
            "needs_background": "light"
          }
        }
      ]
    },
    {
      "cell_type": "code",
      "metadata": {
        "colab": {
          "base_uri": "https://localhost:8080/",
          "height": 282
        },
        "id": "5PK7z2HaAWsT",
        "outputId": "d3ca2f63-63d6-4426-e4e3-dc5e9789aef5"
      },
      "source": [
        "populacao['% da pop. total'].plot(kind='hist')"
      ],
      "execution_count": 71,
      "outputs": [
        {
          "output_type": "execute_result",
          "data": {
            "text/plain": [
              "<matplotlib.axes._subplots.AxesSubplot at 0x7f3b590c7080>"
            ]
          },
          "metadata": {
            "tags": []
          },
          "execution_count": 71
        },
        {
          "output_type": "display_data",
          "data": {
            "image/png": "[encoded data removed]",
            "text/plain": [
              "<Figure size 432x288 with 1 Axes>"
            ]
          },
          "metadata": {
            "tags": [],
            "needs_background": "light"
          }
        }
      ]
    },
    {
      "cell_type": "code",
      "metadata": {
        "id": "_mcK7FQzBpJ7"
      },
      "source": [
        ""
      ],
      "execution_count": null,
      "outputs": []
    }
  ]
}