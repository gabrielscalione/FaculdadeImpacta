{
  "nbformat": 4,
  "nbformat_minor": 0,
  "metadata": {
    "colab": {
      "name": "apriori.ipynb",
      "provenance": []
    },
    "kernelspec": {
      "name": "python3",
      "display_name": "Python 3"
    },
    "language_info": {
      "name": "python"
    }
  },
  "cells": [
    {
      "cell_type": "markdown",
      "metadata": {
        "id": "DAenzL1OzUDS"
      },
      "source": [
        "# Mineração de regras de associação pelo algoritmo Apriori"
      ]
    },
    {
      "cell_type": "markdown",
      "metadata": {
        "id": "M9fxlDfJzaE8"
      },
      "source": [
        "Fontes:\n",
        "\n",
        "[1] https://stackabuse.com/association-rule-mining-via-apriori-algorithm-in-python/\n",
        "\n",
        "[2] https://en.wikipedia.org/wiki/Apriori_algorithm\n",
        "\n",
        "[3] http://rasbt.github.io/mlxtend/user_guide/frequent_patterns/apriori/"
      ]
    },
    {
      "cell_type": "markdown",
      "metadata": {
        "id": "MPEqaxU7zs0B"
      },
      "source": [
        "Técnica para identificar relações subjacentes entre diferentes itens, por exemplo, produtos que frequentemente são comprados juntos.\n",
        "\n",
        "Algoritmo apriori foi projetado para operar sobre banco de dados contendo transações, como compras de consumidores de uma loja.\n",
        "\n",
        "\n",
        "\n"
      ]
    },
    {
      "cell_type": "code",
      "metadata": {
        "id": "l4jiKfl90rIq"
      },
      "source": [
        "dataset = [['Leite', 'Cebola', 'Noz-moscada', 'Feijão', 'Ovos', 'Iogurte'],\n",
        "           ['Salsinha', 'Cebola', 'Noz-moscada', 'Feijão', 'Ovos', 'Iogurte'],\n",
        "           ['Leite', 'Maçã', 'Feijão', 'Ovos'],\n",
        "           ['Leite', 'Suco de laranja', 'Milho', 'Feijão', 'Iogurte'],\n",
        "           ['Milho', 'Cebola', 'Cebola', 'Feijão', 'Sorvete', 'Ovos']]"
      ],
      "execution_count": null,
      "outputs": []
    },
    {
      "cell_type": "code",
      "metadata": {
        "colab": {
          "base_uri": "https://localhost:8080/",
          "height": 204
        },
        "id": "ENZ0bm5L1a-n",
        "outputId": "4ca64040-b25d-4f46-b7c6-3191badcf545"
      },
      "source": [
        "import pandas as pd\n",
        "from mlxtend.preprocessing import TransactionEncoder\n",
        "\n",
        "te = TransactionEncoder()\n",
        "te_ary = te.fit(dataset).transform(dataset)\n",
        "df = pd.DataFrame(te_ary, columns=te.columns_)\n",
        "df"
      ],
      "execution_count": null,
      "outputs": [
        {
          "output_type": "execute_result",
          "data": {
            "text/html": [
              "<div>\n",
              "<style scoped>\n",
              "    .dataframe tbody tr th:only-of-type {\n",
              "        vertical-align: middle;\n",
              "    }\n",
              "\n",
              "    .dataframe tbody tr th {\n",
              "        vertical-align: top;\n",
              "    }\n",
              "\n",
              "    .dataframe thead th {\n",
              "        text-align: right;\n",
              "    }\n",
              "</style>\n",
              "<table border=\"1\" class=\"dataframe\">\n",
              "  <thead>\n",
              "    <tr style=\"text-align: right;\">\n",
              "      <th></th>\n",
              "      <th>Cebola</th>\n",
              "      <th>Feijão</th>\n",
              "      <th>Iogurte</th>\n",
              "      <th>Leite</th>\n",
              "      <th>Maçã</th>\n",
              "      <th>Milho</th>\n",
              "      <th>Noz-moscada</th>\n",
              "      <th>Ovos</th>\n",
              "      <th>Salsinha</th>\n",
              "      <th>Sorvete</th>\n",
              "      <th>Suco de laranja</th>\n",
              "    </tr>\n",
              "  </thead>\n",
              "  <tbody>\n",
              "    <tr>\n",
              "      <th>0</th>\n",
              "      <td>True</td>\n",
              "      <td>True</td>\n",
              "      <td>True</td>\n",
              "      <td>True</td>\n",
              "      <td>False</td>\n",
              "      <td>False</td>\n",
              "      <td>True</td>\n",
              "      <td>True</td>\n",
              "      <td>False</td>\n",
              "      <td>False</td>\n",
              "      <td>False</td>\n",
              "    </tr>\n",
              "    <tr>\n",
              "      <th>1</th>\n",
              "      <td>True</td>\n",
              "      <td>True</td>\n",
              "      <td>True</td>\n",
              "      <td>False</td>\n",
              "      <td>False</td>\n",
              "      <td>False</td>\n",
              "      <td>True</td>\n",
              "      <td>True</td>\n",
              "      <td>True</td>\n",
              "      <td>False</td>\n",
              "      <td>False</td>\n",
              "    </tr>\n",
              "    <tr>\n",
              "      <th>2</th>\n",
              "      <td>False</td>\n",
              "      <td>True</td>\n",
              "      <td>False</td>\n",
              "      <td>True</td>\n",
              "      <td>True</td>\n",
              "      <td>False</td>\n",
              "      <td>False</td>\n",
              "      <td>True</td>\n",
              "      <td>False</td>\n",
              "      <td>False</td>\n",
              "      <td>False</td>\n",
              "    </tr>\n",
              "    <tr>\n",
              "      <th>3</th>\n",
              "      <td>False</td>\n",
              "      <td>True</td>\n",
              "      <td>True</td>\n",
              "      <td>True</td>\n",
              "      <td>False</td>\n",
              "      <td>True</td>\n",
              "      <td>False</td>\n",
              "      <td>False</td>\n",
              "      <td>False</td>\n",
              "      <td>False</td>\n",
              "      <td>True</td>\n",
              "    </tr>\n",
              "    <tr>\n",
              "      <th>4</th>\n",
              "      <td>True</td>\n",
              "      <td>True</td>\n",
              "      <td>False</td>\n",
              "      <td>False</td>\n",
              "      <td>False</td>\n",
              "      <td>True</td>\n",
              "      <td>False</td>\n",
              "      <td>True</td>\n",
              "      <td>False</td>\n",
              "      <td>True</td>\n",
              "      <td>False</td>\n",
              "    </tr>\n",
              "  </tbody>\n",
              "</table>\n",
              "</div>"
            ],
            "text/plain": [
              "   Cebola  Feijão  Iogurte  Leite  ...   Ovos  Salsinha  Sorvete  Suco de laranja\n",
              "0    True    True     True   True  ...   True     False    False            False\n",
              "1    True    True     True  False  ...   True      True    False            False\n",
              "2   False    True    False   True  ...   True     False    False            False\n",
              "3   False    True     True   True  ...  False     False    False             True\n",
              "4    True    True    False  False  ...   True     False     True            False\n",
              "\n",
              "[5 rows x 11 columns]"
            ]
          },
          "metadata": {
            "tags": []
          },
          "execution_count": 9
        }
      ]
    },
    {
      "cell_type": "markdown",
      "metadata": {
        "id": "EqjyBzuz0cQn"
      },
      "source": [
        "## Componentes"
      ]
    },
    {
      "cell_type": "markdown",
      "metadata": {
        "id": "S8R87SFl0eQY"
      },
      "source": [
        "### Support"
      ]
    },
    {
      "cell_type": "markdown",
      "metadata": {
        "id": "Fuk9yN760glh"
      },
      "source": [
        "Popularidade padrão de um item\n",
        "\n",
        "Support(B) = Transações com B / Total de transações"
      ]
    },
    {
      "cell_type": "markdown",
      "metadata": {
        "id": "EmSLxVyJ2WsL"
      },
      "source": [
        "Exemplo: Suporte do item cebola"
      ]
    },
    {
      "cell_type": "code",
      "metadata": {
        "id": "zS9caNYQ2nJ-"
      },
      "source": [
        ""
      ],
      "execution_count": null,
      "outputs": []
    },
    {
      "cell_type": "markdown",
      "metadata": {
        "id": "kJYcCVn82p6Z"
      },
      "source": [
        "### Confidence"
      ]
    },
    {
      "cell_type": "markdown",
      "metadata": {
        "id": "7VlqiL802tyy"
      },
      "source": [
        "Probabilidade que um item B seja comprado se um item A seja comprado.\n",
        "\n",
        "Confidence(A, B) = Transações com A e B / Transações contendo A"
      ]
    },
    {
      "cell_type": "markdown",
      "metadata": {
        "id": "yiVlAyfv3WdP"
      },
      "source": [
        "Exemplo: Comprar salsinha e cebola."
      ]
    },
    {
      "cell_type": "code",
      "metadata": {
        "id": "Uontahx02s7D"
      },
      "source": [
        ""
      ],
      "execution_count": null,
      "outputs": []
    },
    {
      "cell_type": "markdown",
      "metadata": {
        "id": "9oKDNwsA3pqd"
      },
      "source": [
        "### Lift"
      ]
    },
    {
      "cell_type": "markdown",
      "metadata": {
        "id": "rgXu-ui84hB0"
      },
      "source": [
        "Refere-se ao aumento da razão da venda de B quando A é vendido.\n",
        "\n",
        "Lift(A, B) = Confidence(A, B) / Support(B)\n",
        "\n",
        "Resumidamente diz que: a probabilidade de comprar A com B juntos é maior x vezes que a probabilidade de comprar somente B.\n",
        "\n",
        "\\> 1: A e B são prováveis de comprar juntos.\n",
        "\n",
        "< 1: improváveis"
      ]
    },
    {
      "cell_type": "markdown",
      "metadata": {
        "id": "g_080Cki481O"
      },
      "source": [
        "Exemplo: Lift de comprar cebola e salsinha"
      ]
    },
    {
      "cell_type": "code",
      "metadata": {
        "id": "K8k2qrEJ48HL"
      },
      "source": [
        ""
      ],
      "execution_count": null,
      "outputs": []
    },
    {
      "cell_type": "markdown",
      "metadata": {
        "id": "XyxTn8pz6VBg"
      },
      "source": [
        "## Algoritmo apriori"
      ]
    },
    {
      "cell_type": "markdown",
      "metadata": {
        "id": "XnNfja3U6Xm4"
      },
      "source": [
        "1. Defininir um valor mínimo (threshold) para o support e confidence.\n",
        "2. Extrair todos os subconjuntos tendo valores mais altos de suporte que o threshold.\n",
        "3. Selecionar todas as regras dos subsets com confidence com valor maior que o threshold.\n",
        "4. Ordenar os valores por ordem descendente de Lift."
      ]
    },
    {
      "cell_type": "markdown",
      "metadata": {
        "id": "5q-4vWjq5jQA"
      },
      "source": [
        "## Voltando ao dataset"
      ]
    },
    {
      "cell_type": "markdown",
      "metadata": {
        "id": "fp4pRdFo5yI3"
      },
      "source": [
        "Explicação acima foi olhando de 2 em dois.\n",
        "\n",
        "O algoritmo olha para as combinações de 1 até N.\n",
        "\n",
        "Isso pode ser muito grande, então são definidos valores mínimos para melhorar a busca."
      ]
    },
    {
      "cell_type": "code",
      "metadata": {
        "colab": {
          "base_uri": "https://localhost:8080/",
          "height": 390
        },
        "id": "EMzH9y_a5gDY",
        "outputId": "458e140e-1402-4870-b45f-0a44cde09176"
      },
      "source": [
        "from mlxtend.frequent_patterns import apriori\n",
        "frequentes = apriori(df, min_support=0.6, use_colnames=True)\n",
        "frequentes"
      ],
      "execution_count": null,
      "outputs": [
        {
          "output_type": "execute_result",
          "data": {
            "text/html": [
              "<div>\n",
              "<style scoped>\n",
              "    .dataframe tbody tr th:only-of-type {\n",
              "        vertical-align: middle;\n",
              "    }\n",
              "\n",
              "    .dataframe tbody tr th {\n",
              "        vertical-align: top;\n",
              "    }\n",
              "\n",
              "    .dataframe thead th {\n",
              "        text-align: right;\n",
              "    }\n",
              "</style>\n",
              "<table border=\"1\" class=\"dataframe\">\n",
              "  <thead>\n",
              "    <tr style=\"text-align: right;\">\n",
              "      <th></th>\n",
              "      <th>support</th>\n",
              "      <th>itemsets</th>\n",
              "    </tr>\n",
              "  </thead>\n",
              "  <tbody>\n",
              "    <tr>\n",
              "      <th>0</th>\n",
              "      <td>0.6</td>\n",
              "      <td>(Cebola)</td>\n",
              "    </tr>\n",
              "    <tr>\n",
              "      <th>1</th>\n",
              "      <td>1.0</td>\n",
              "      <td>(Feijão)</td>\n",
              "    </tr>\n",
              "    <tr>\n",
              "      <th>2</th>\n",
              "      <td>0.6</td>\n",
              "      <td>(Iogurte)</td>\n",
              "    </tr>\n",
              "    <tr>\n",
              "      <th>3</th>\n",
              "      <td>0.6</td>\n",
              "      <td>(Leite)</td>\n",
              "    </tr>\n",
              "    <tr>\n",
              "      <th>4</th>\n",
              "      <td>0.8</td>\n",
              "      <td>(Ovos)</td>\n",
              "    </tr>\n",
              "    <tr>\n",
              "      <th>5</th>\n",
              "      <td>0.6</td>\n",
              "      <td>(Cebola, Feijão)</td>\n",
              "    </tr>\n",
              "    <tr>\n",
              "      <th>6</th>\n",
              "      <td>0.6</td>\n",
              "      <td>(Cebola, Ovos)</td>\n",
              "    </tr>\n",
              "    <tr>\n",
              "      <th>7</th>\n",
              "      <td>0.6</td>\n",
              "      <td>(Iogurte, Feijão)</td>\n",
              "    </tr>\n",
              "    <tr>\n",
              "      <th>8</th>\n",
              "      <td>0.6</td>\n",
              "      <td>(Leite, Feijão)</td>\n",
              "    </tr>\n",
              "    <tr>\n",
              "      <th>9</th>\n",
              "      <td>0.8</td>\n",
              "      <td>(Feijão, Ovos)</td>\n",
              "    </tr>\n",
              "    <tr>\n",
              "      <th>10</th>\n",
              "      <td>0.6</td>\n",
              "      <td>(Cebola, Feijão, Ovos)</td>\n",
              "    </tr>\n",
              "  </tbody>\n",
              "</table>\n",
              "</div>"
            ],
            "text/plain": [
              "    support                itemsets\n",
              "0       0.6                (Cebola)\n",
              "1       1.0                (Feijão)\n",
              "2       0.6               (Iogurte)\n",
              "3       0.6                 (Leite)\n",
              "4       0.8                  (Ovos)\n",
              "5       0.6        (Cebola, Feijão)\n",
              "6       0.6          (Cebola, Ovos)\n",
              "7       0.6       (Iogurte, Feijão)\n",
              "8       0.6         (Leite, Feijão)\n",
              "9       0.8          (Feijão, Ovos)\n",
              "10      0.6  (Cebola, Feijão, Ovos)"
            ]
          },
          "metadata": {
            "tags": []
          },
          "execution_count": 14
        }
      ]
    }
  ]
}